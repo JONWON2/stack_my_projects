{
 "cells": [
  {
   "cell_type": "markdown",
   "id": "8df33fd6",
   "metadata": {
    "id": "8df33fd6"
   },
   "source": [
    "* **작성자** : 김종원\n",
    "* 작성일지 : 2021.10.20\n",
    "---\n",
    "### 모듈 임포트"
   ]
  },
  {
   "cell_type": "code",
   "execution_count": 1,
   "id": "9a068881",
   "metadata": {
    "id": "9a068881"
   },
   "outputs": [],
   "source": [
    "import os\n",
    "import sys\n",
    "import urllib.request\n",
    "import json \n",
    "import datetime\n",
    "import re\n",
    "import pandas as pd\n",
    "from tqdm import tqdm_notebook\n",
    "import matplotlib.pyplot as plt\n",
    "import seaborn as sns\n",
    "\n",
    "import platform\n",
    "import seaborn as sns \n",
    "from matplotlib import font_manager, rc \n",
    "\n",
    "path = \"C:/Windows/Fonts/malgun.ttf\"\n",
    "\n",
    "if platform.system() == \"Darwin\":\n",
    "    rc(\"font\", family=\"Arial Unicode MS\")\n",
    "elif platform.system() == \"Windows\":\n",
    "    font_name = font_manager.FontProperties(fname=path).get_name()\n",
    "    rc(\"font\", family=font_name)\n",
    "else:\n",
    "    print(\"Unknown system. sorry\")"
   ]
  },
  {
   "cell_type": "markdown",
   "id": "87d73dda",
   "metadata": {
    "id": "87d73dda"
   },
   "source": [
    "### TIOBE INDEX 상위 9개 언어 + R언어\n",
    "* python\n",
    "* C\n",
    "* java\n",
    "* c++\n",
    "* c#\n",
    "* Visual Basic\n",
    "* JavaScript\n",
    "* SQL\n",
    "* PHP\n",
    "* R\n",
    "\n",
    "![분석프로세스정리](https://img1.daumcdn.net/thumb/R1280x0/?scode=mtistory2&fname=https%3A%2F%2Fblog.kakaocdn.net%2Fdn%2FbiYEJX%2FbtrihLswNuT%2FA0qtV5EE1ZzwhMepKUk5Zk%2Fimg.png)"
   ]
  },
  {
   "cell_type": "markdown",
   "id": "eea6ee05",
   "metadata": {
    "id": "eea6ee05"
   },
   "source": [
    "---\n",
    "# 문제 01\n",
    "\n",
    "과제 설명 첫 두 페이지에 제시한 TIOBE INDEX의 상위 9개 언어에 R(14위)까지해서 총 10개 언어에 대해 출판\n",
    "책 정보를 수집하세요.\n",
    "\n",
    "* **방법론**\n",
    "    * 네이버 API : https://developers.naver.com/docs/search/book/\n",
    "    *  네이버 책 홈페이지\n",
    "    \n",
    "* **주의할점**\n",
    "    * IT 관련 서적에서 펄 이라는 언어같은 경우는 유명한 작가 펄과 혼돈할 수 있으며\n",
    "    * Python과 파이썬 처럼 어떤 경우는 영어와 한글을 각각 따로 검색 후 합쳐야 할 수도 있습니다.\n",
    "    * 만약 여러분들이 네이버 API를 사용하는 경우 일일 검색량 제한에 조심하세요."
   ]
  },
  {
   "cell_type": "markdown",
   "id": "8dd04263",
   "metadata": {
    "id": "8dd04263"
   },
   "source": [
    "## 데이터 수집"
   ]
  },
  {
   "cell_type": "code",
   "execution_count": 2,
   "id": "604d330b",
   "metadata": {
    "id": "604d330b"
   },
   "outputs": [],
   "source": [
    "# 검색 API에 입력한 단어 정보를 리스트 변수로 저장.\n",
    "booklist = [\"python\",\"C언어\",\"java\",\"c++\",\"c#\",\"Visual Basic\",\"JavaScript\",\"SQL\",\"PHP\",\"R언어\",\"파이썬\",\"자바\",\"자바스크립트\"]"
   ]
  },
  {
   "cell_type": "code",
   "execution_count": 3,
   "id": "bedf62f0",
   "metadata": {
    "id": "bedf62f0"
   },
   "outputs": [],
   "source": [
    "# 클라이언트 ID와 secret키 정보 변수에 저장.\n",
    "client_id = \"\"\n",
    "client_secret = \"\""
   ]
  },
  {
   "cell_type": "code",
   "execution_count": 4,
   "id": "1b97a012",
   "metadata": {
    "id": "1b97a012"
   },
   "outputs": [],
   "source": [
    "def gen_search_url(search_text, start_num, disp_num,sort_str):\n",
    "    base = \"https://openapi.naver.com/v1/search\"\n",
    "    node = \"/\" + \"book\" + \".json\"\n",
    "    param_query = \"?query=\" + urllib.parse.quote(search_text)\n",
    "    param_start = \"&start=\" + str(start_num)\n",
    "    param_disp = \"&display=\" + str(disp_num)\n",
    "    param_sort = \"&sort=\" + str(sort_str)\n",
    "    return base + node + param_query + param_start + param_disp+param_sort\n",
    "\n",
    "def get_result_onpage(url):\n",
    "    request = urllib.request.Request(url) # 내가 요청하고 싶은 url을 입력한다.\n",
    "    request.add_header(\"X-Naver-Client-Id\", client_id)\n",
    "    request.add_header(\"X-Naver-Client-Secret\", client_secret)\n",
    "    response = urllib.request.urlopen(request)\n",
    "    print(\"[%s] Url Request Success\" % datetime.datetime.now())\n",
    "    return json.loads(response.read().decode(\"utf-8\"))"
   ]
  },
  {
   "cell_type": "markdown",
   "id": "5ab9f1a0",
   "metadata": {
    "id": "5ab9f1a0"
   },
   "source": [
    "1. **데이터 수집(자동화)**"
   ]
  },
  {
   "cell_type": "code",
   "execution_count": 5,
   "id": "b3485f81",
   "metadata": {
    "colab": {
     "referenced_widgets": [
      "46b8180da20c4bc2a5f00c4e6b13e9d0",
      "38c92ec2fefc4a5283d127c68a232c21",
      "9507198ba272462a8357efa4fdbab97e",
      "8a88f1ad992e428f93f2321b05d3d348",
      "981aa87843ff497288b1f858f2850ef8",
      "da543e89dd734c5e805e56989b70a22a",
      "4251067e22a244c2af55179e2d2bced2",
      "9cd9a3d1ea2646a7aa8c0b90ae227aad",
      "025761145fe047b59425a308f9c942fa",
      "fa5fb46eaea64a3eba95fbe58982c2e3",
      "0a98217577df4dc8bc60d3360a0e98e9",
      "4849abb150fb42d59b5bb0b2ccb91537",
      "51b341728dc14e08a933e4594c67beea",
      "4aa1526e067c4b91a180e8206eefa13f"
     ]
    },
    "id": "b3485f81",
    "outputId": "df95f936-1b5a-413b-cbac-9279c30c814b",
    "scrolled": true
   },
   "outputs": [
    {
     "name": "stderr",
     "output_type": "stream",
     "text": [
      "C:\\Users\\jongwon\\AppData\\Local\\Temp/ipykernel_23288/3469955873.py:4: TqdmDeprecationWarning: This function will be removed in tqdm==5.0.0\n",
      "Please use `tqdm.notebook.tqdm` instead of `tqdm.tqdm_notebook`\n",
      "  for keyword in tqdm_notebook(booklist):\n"
     ]
    },
    {
     "data": {
      "application/vnd.jupyter.widget-view+json": {
       "model_id": "8a06b6f8c29340b883577751152f2cf4",
       "version_major": 2,
       "version_minor": 0
      },
      "text/plain": [
       "  0%|          | 0/13 [00:00<?, ?it/s]"
      ]
     },
     "metadata": {},
     "output_type": "display_data"
    },
    {
     "name": "stdout",
     "output_type": "stream",
     "text": [
      "--------------------\n",
      "책이름 : python\n",
      "--------------------\n"
     ]
    },
    {
     "name": "stderr",
     "output_type": "stream",
     "text": [
      "C:\\Users\\jongwon\\AppData\\Local\\Temp/ipykernel_23288/3469955873.py:8: TqdmDeprecationWarning: This function will be removed in tqdm==5.0.0\n",
      "Please use `tqdm.notebook.tqdm` instead of `tqdm.tqdm_notebook`\n",
      "  for i in tqdm_notebook(range(1,1001,100)):\n"
     ]
    },
    {
     "data": {
      "application/vnd.jupyter.widget-view+json": {
       "model_id": "82f65b6b8dd84941bd0a8c0338494790",
       "version_major": 2,
       "version_minor": 0
      },
      "text/plain": [
       "  0%|          | 0/10 [00:00<?, ?it/s]"
      ]
     },
     "metadata": {},
     "output_type": "display_data"
    },
    {
     "name": "stdout",
     "output_type": "stream",
     "text": [
      "[2021-10-21 03:11:23.684281] Url Request Success\n",
      "[2021-10-21 03:11:24.101492] Url Request Success\n",
      "[2021-10-21 03:11:24.532510] Url Request Success\n",
      "[2021-10-21 03:11:24.995102] Url Request Success\n",
      "[2021-10-21 03:11:25.442127] Url Request Success\n",
      "[2021-10-21 03:11:25.891471] Url Request Success\n",
      "[2021-10-21 03:11:26.338304] Url Request Success\n",
      "[2021-10-21 03:11:26.785325] Url Request Success\n",
      "[2021-10-21 03:11:27.227236] Url Request Success\n",
      "[2021-10-21 03:11:27.675188] Url Request Success\n",
      "--------------------\n",
      "책이름 : C언어\n",
      "--------------------\n"
     ]
    },
    {
     "data": {
      "application/vnd.jupyter.widget-view+json": {
       "model_id": "d9bb44de691c47c1af580ff3afe54b43",
       "version_major": 2,
       "version_minor": 0
      },
      "text/plain": [
       "  0%|          | 0/10 [00:00<?, ?it/s]"
      ]
     },
     "metadata": {},
     "output_type": "display_data"
    },
    {
     "name": "stdout",
     "output_type": "stream",
     "text": [
      "[2021-10-21 03:11:28.108043] Url Request Success\n",
      "[2021-10-21 03:11:28.494795] Url Request Success\n",
      "[2021-10-21 03:11:28.877721] Url Request Success\n",
      "[2021-10-21 03:11:29.240977] Url Request Success\n",
      "[2021-10-21 03:11:29.652887] Url Request Success\n",
      "[2021-10-21 03:11:30.050078] Url Request Success\n",
      "[2021-10-21 03:11:30.430273] Url Request Success\n",
      "[2021-10-21 03:11:30.871861] Url Request Success\n",
      "[2021-10-21 03:11:31.312827] Url Request Success\n",
      "[2021-10-21 03:11:31.829943] Url Request Success\n",
      "--------------------\n",
      "책이름 : java\n",
      "--------------------\n"
     ]
    },
    {
     "data": {
      "application/vnd.jupyter.widget-view+json": {
       "model_id": "1a7a3a6c4dff4a9ab6d8d88836abf694",
       "version_major": 2,
       "version_minor": 0
      },
      "text/plain": [
       "  0%|          | 0/10 [00:00<?, ?it/s]"
      ]
     },
     "metadata": {},
     "output_type": "display_data"
    },
    {
     "name": "stdout",
     "output_type": "stream",
     "text": [
      "[2021-10-21 03:11:32.287258] Url Request Success\n",
      "[2021-10-21 03:11:32.696506] Url Request Success\n",
      "[2021-10-21 03:11:33.117075] Url Request Success\n",
      "[2021-10-21 03:11:33.536204] Url Request Success\n",
      "[2021-10-21 03:11:34.011521] Url Request Success\n",
      "[2021-10-21 03:11:34.450833] Url Request Success\n",
      "[2021-10-21 03:11:35.119192] Url Request Success\n",
      "[2021-10-21 03:11:35.647163] Url Request Success\n",
      "[2021-10-21 03:11:36.080896] Url Request Success\n",
      "[2021-10-21 03:11:36.485250] Url Request Success\n",
      "--------------------\n",
      "책이름 : c++\n",
      "--------------------\n"
     ]
    },
    {
     "data": {
      "application/vnd.jupyter.widget-view+json": {
       "model_id": "8c73423bf0b440698b6af473534121fd",
       "version_major": 2,
       "version_minor": 0
      },
      "text/plain": [
       "  0%|          | 0/10 [00:00<?, ?it/s]"
      ]
     },
     "metadata": {},
     "output_type": "display_data"
    },
    {
     "name": "stdout",
     "output_type": "stream",
     "text": [
      "[2021-10-21 03:11:36.885611] Url Request Success\n",
      "[2021-10-21 03:11:37.286107] Url Request Success\n",
      "[2021-10-21 03:11:37.644806] Url Request Success\n",
      "[2021-10-21 03:11:38.019007] Url Request Success\n",
      "[2021-10-21 03:11:38.383319] Url Request Success\n",
      "[2021-10-21 03:11:38.765543] Url Request Success\n",
      "[2021-10-21 03:11:39.177483] Url Request Success\n",
      "[2021-10-21 03:11:39.534462] Url Request Success\n",
      "[2021-10-21 03:11:39.969713] Url Request Success\n",
      "[2021-10-21 03:11:40.387850] Url Request Success\n",
      "--------------------\n",
      "책이름 : c#\n",
      "--------------------\n"
     ]
    },
    {
     "data": {
      "application/vnd.jupyter.widget-view+json": {
       "model_id": "805588ab44404068aa848a8dc234fac4",
       "version_major": 2,
       "version_minor": 0
      },
      "text/plain": [
       "  0%|          | 0/10 [00:00<?, ?it/s]"
      ]
     },
     "metadata": {},
     "output_type": "display_data"
    },
    {
     "name": "stdout",
     "output_type": "stream",
     "text": [
      "[2021-10-21 03:11:40.805133] Url Request Success\n",
      "[2021-10-21 03:11:41.178034] Url Request Success\n",
      "[2021-10-21 03:11:41.565309] Url Request Success\n",
      "[2021-10-21 03:11:41.938572] Url Request Success\n",
      "[2021-10-21 03:11:42.393441] Url Request Success\n",
      "[2021-10-21 03:11:42.794414] Url Request Success\n",
      "[2021-10-21 03:11:43.193966] Url Request Success\n",
      "[2021-10-21 03:11:43.576790] Url Request Success\n",
      "[2021-10-21 03:11:43.894513] Url Request Success\n",
      "[2021-10-21 03:11:44.229089] Url Request Success\n",
      "--------------------\n",
      "책이름 : Visual Basic\n",
      "--------------------\n"
     ]
    },
    {
     "data": {
      "application/vnd.jupyter.widget-view+json": {
       "model_id": "4964e996138c407487732117cdac8184",
       "version_major": 2,
       "version_minor": 0
      },
      "text/plain": [
       "  0%|          | 0/10 [00:00<?, ?it/s]"
      ]
     },
     "metadata": {},
     "output_type": "display_data"
    },
    {
     "name": "stdout",
     "output_type": "stream",
     "text": [
      "[2021-10-21 03:11:44.644288] Url Request Success\n",
      "[2021-10-21 03:11:45.037072] Url Request Success\n",
      "[2021-10-21 03:11:45.469899] Url Request Success\n",
      "[2021-10-21 03:11:45.908768] Url Request Success\n",
      "[2021-10-21 03:11:46.350419] Url Request Success\n",
      "[2021-10-21 03:11:46.773059] Url Request Success\n",
      "[2021-10-21 03:11:47.135677] Url Request Success\n",
      "[2021-10-21 03:11:47.487967] Url Request Success\n",
      "[2021-10-21 03:11:47.816671] Url Request Success\n",
      "[2021-10-21 03:11:48.114211] Url Request Success\n",
      "--------------------\n",
      "책이름 : JavaScript\n",
      "--------------------\n"
     ]
    },
    {
     "data": {
      "application/vnd.jupyter.widget-view+json": {
       "model_id": "0bab38be8fd740d0bdef736c0d8d448a",
       "version_major": 2,
       "version_minor": 0
      },
      "text/plain": [
       "  0%|          | 0/10 [00:00<?, ?it/s]"
      ]
     },
     "metadata": {},
     "output_type": "display_data"
    },
    {
     "name": "stdout",
     "output_type": "stream",
     "text": [
      "[2021-10-21 03:11:48.580828] Url Request Success\n",
      "[2021-10-21 03:11:49.024806] Url Request Success\n",
      "[2021-10-21 03:11:49.566892] Url Request Success\n",
      "[2021-10-21 03:11:50.076132] Url Request Success\n",
      "[2021-10-21 03:11:50.506773] Url Request Success\n",
      "[2021-10-21 03:11:50.885458] Url Request Success\n",
      "[2021-10-21 03:11:51.236225] Url Request Success\n",
      "[2021-10-21 03:11:51.555346] Url Request Success\n",
      "[2021-10-21 03:11:51.878650] Url Request Success\n",
      "[2021-10-21 03:11:52.202182] Url Request Success\n",
      "--------------------\n",
      "책이름 : SQL\n",
      "--------------------\n"
     ]
    },
    {
     "data": {
      "application/vnd.jupyter.widget-view+json": {
       "model_id": "fad0c0625ad94dd7a64d8b66a6f7b8f6",
       "version_major": 2,
       "version_minor": 0
      },
      "text/plain": [
       "  0%|          | 0/10 [00:00<?, ?it/s]"
      ]
     },
     "metadata": {},
     "output_type": "display_data"
    },
    {
     "name": "stdout",
     "output_type": "stream",
     "text": [
      "[2021-10-21 03:11:52.717337] Url Request Success\n",
      "[2021-10-21 03:11:53.111042] Url Request Success\n",
      "[2021-10-21 03:11:53.508545] Url Request Success\n",
      "[2021-10-21 03:11:53.915243] Url Request Success\n",
      "[2021-10-21 03:11:54.360194] Url Request Success\n",
      "[2021-10-21 03:11:54.767308] Url Request Success\n",
      "[2021-10-21 03:11:55.226361] Url Request Success\n",
      "[2021-10-21 03:11:55.699541] Url Request Success\n",
      "[2021-10-21 03:11:56.149075] Url Request Success\n",
      "[2021-10-21 03:11:56.665597] Url Request Success\n",
      "--------------------\n",
      "책이름 : PHP\n",
      "--------------------\n"
     ]
    },
    {
     "data": {
      "application/vnd.jupyter.widget-view+json": {
       "model_id": "866f46033a05415aa494760ca06903d6",
       "version_major": 2,
       "version_minor": 0
      },
      "text/plain": [
       "  0%|          | 0/10 [00:00<?, ?it/s]"
      ]
     },
     "metadata": {},
     "output_type": "display_data"
    },
    {
     "name": "stdout",
     "output_type": "stream",
     "text": [
      "[2021-10-21 03:11:57.060333] Url Request Success\n",
      "[2021-10-21 03:11:57.423302] Url Request Success\n",
      "[2021-10-21 03:11:57.814504] Url Request Success\n",
      "[2021-10-21 03:11:58.258085] Url Request Success\n",
      "[2021-10-21 03:11:58.656684] Url Request Success\n",
      "[2021-10-21 03:11:59.014398] Url Request Success\n",
      "[2021-10-21 03:11:59.367198] Url Request Success\n",
      "[2021-10-21 03:11:59.694327] Url Request Success\n",
      "[2021-10-21 03:11:59.998371] Url Request Success\n",
      "[2021-10-21 03:12:00.292857] Url Request Success\n",
      "--------------------\n",
      "책이름 : R언어\n",
      "--------------------\n"
     ]
    },
    {
     "data": {
      "application/vnd.jupyter.widget-view+json": {
       "model_id": "171feab483994365bd99dbbadb2a3512",
       "version_major": 2,
       "version_minor": 0
      },
      "text/plain": [
       "  0%|          | 0/10 [00:00<?, ?it/s]"
      ]
     },
     "metadata": {},
     "output_type": "display_data"
    },
    {
     "name": "stdout",
     "output_type": "stream",
     "text": [
      "[2021-10-21 03:12:00.748424] Url Request Success\n",
      "[2021-10-21 03:12:01.198155] Url Request Success\n",
      "[2021-10-21 03:12:01.671215] Url Request Success\n",
      "[2021-10-21 03:12:02.183012] Url Request Success\n",
      "[2021-10-21 03:12:02.620222] Url Request Success\n",
      "[2021-10-21 03:12:02.994379] Url Request Success\n",
      "[2021-10-21 03:12:03.426291] Url Request Success\n",
      "[2021-10-21 03:12:03.768397] Url Request Success\n",
      "[2021-10-21 03:12:04.136705] Url Request Success\n",
      "[2021-10-21 03:12:04.801962] Url Request Success\n",
      "--------------------\n",
      "책이름 : 파이썬\n",
      "--------------------\n"
     ]
    },
    {
     "data": {
      "application/vnd.jupyter.widget-view+json": {
       "model_id": "5eecc5528ee04464862d1c6ad0573962",
       "version_major": 2,
       "version_minor": 0
      },
      "text/plain": [
       "  0%|          | 0/10 [00:00<?, ?it/s]"
      ]
     },
     "metadata": {},
     "output_type": "display_data"
    },
    {
     "name": "stdout",
     "output_type": "stream",
     "text": [
      "[2021-10-21 03:12:05.213115] Url Request Success\n",
      "[2021-10-21 03:12:05.606870] Url Request Success\n",
      "[2021-10-21 03:12:05.984324] Url Request Success\n",
      "[2021-10-21 03:12:06.356242] Url Request Success\n",
      "[2021-10-21 03:12:06.699710] Url Request Success\n",
      "[2021-10-21 03:12:07.081494] Url Request Success\n",
      "[2021-10-21 03:12:07.465210] Url Request Success\n",
      "[2021-10-21 03:12:07.898068] Url Request Success\n",
      "[2021-10-21 03:12:08.352325] Url Request Success\n",
      "[2021-10-21 03:12:08.818896] Url Request Success\n",
      "--------------------\n",
      "책이름 : 자바\n",
      "--------------------\n"
     ]
    },
    {
     "data": {
      "application/vnd.jupyter.widget-view+json": {
       "model_id": "3af03af231fb4e7189669ee080388db4",
       "version_major": 2,
       "version_minor": 0
      },
      "text/plain": [
       "  0%|          | 0/10 [00:00<?, ?it/s]"
      ]
     },
     "metadata": {},
     "output_type": "display_data"
    },
    {
     "name": "stdout",
     "output_type": "stream",
     "text": [
      "[2021-10-21 03:12:09.233525] Url Request Success\n",
      "[2021-10-21 03:12:09.605388] Url Request Success\n",
      "[2021-10-21 03:12:09.995488] Url Request Success\n",
      "[2021-10-21 03:12:10.356225] Url Request Success\n",
      "[2021-10-21 03:12:10.727976] Url Request Success\n",
      "[2021-10-21 03:12:11.084947] Url Request Success\n",
      "[2021-10-21 03:12:11.416872] Url Request Success\n",
      "[2021-10-21 03:12:11.839886] Url Request Success\n",
      "[2021-10-21 03:12:12.189894] Url Request Success\n",
      "[2021-10-21 03:12:12.530777] Url Request Success\n",
      "--------------------\n",
      "책이름 : 자바스크립트\n",
      "--------------------\n"
     ]
    },
    {
     "data": {
      "application/vnd.jupyter.widget-view+json": {
       "model_id": "70d184870dfa4fcea134f70489e021b4",
       "version_major": 2,
       "version_minor": 0
      },
      "text/plain": [
       "  0%|          | 0/10 [00:00<?, ?it/s]"
      ]
     },
     "metadata": {},
     "output_type": "display_data"
    },
    {
     "name": "stdout",
     "output_type": "stream",
     "text": [
      "[2021-10-21 03:12:12.952480] Url Request Success\n",
      "[2021-10-21 03:12:13.303384] Url Request Success\n",
      "[2021-10-21 03:12:13.724984] Url Request Success\n",
      "[2021-10-21 03:12:14.144359] Url Request Success\n",
      "[2021-10-21 03:12:14.612893] Url Request Success\n",
      "[2021-10-21 03:12:15.051918] Url Request Success\n",
      "[2021-10-21 03:12:15.479580] Url Request Success\n",
      "[2021-10-21 03:12:15.923170] Url Request Success\n",
      "[2021-10-21 03:12:16.362147] Url Request Success\n",
      "[2021-10-21 03:12:16.797808] Url Request Success\n"
     ]
    }
   ],
   "source": [
    "books = []\n",
    "p = re.compile(\"\\</{0,1}b\\>\")\n",
    "\n",
    "for keyword in tqdm_notebook(booklist):\n",
    "    print(\"--\"*10)\n",
    "    print(f\"책이름 : {keyword}\")\n",
    "    print(\"--\"*10)\n",
    "    for i in tqdm_notebook(range(1,1001,100)):\n",
    "        url = gen_search_url(keyword,i,100,\"count\")\n",
    "#         print(\"URI : \",url)\n",
    "        res = get_result_onpage(url)\n",
    "        for idx in range(len(res[\"items\"])):\n",
    "            title = p.sub(\"\",res[\"items\"][idx][\"title\"]) # 책제목\n",
    "            isbn = res[\"items\"][idx][\"isbn\"] # ibsn\n",
    "            price = res[\"items\"][idx][\"price\"] # 가격\n",
    "            author = p.sub(\"\",res[\"items\"][idx][\"author\"])  # 작가\n",
    "            publisher = p.sub(\"\",res[\"items\"][idx][\"publisher\"]) # # 출판사\n",
    "            discount = res[\"items\"][idx][\"discount\"] # 할인정보\n",
    "            link = res[\"items\"][idx][\"link\"]  # 페이지수\n",
    "            pubdate = res[\"items\"][idx][\"pubdate\"] # 출판일\n",
    "            books.append([keyword,title, price, isbn, author, publisher, discount, pubdate,link])"
   ]
  },
  {
   "cell_type": "markdown",
   "id": "05520304",
   "metadata": {
    "id": "05520304"
   },
   "source": [
    "수집된 데이터 정보 DataFrame 형태로 변환"
   ]
  },
  {
   "cell_type": "code",
   "execution_count": 6,
   "id": "49c019d1",
   "metadata": {
    "id": "49c019d1",
    "outputId": "ebe5bb40-3238-4af2-fea8-9fbe3c015f01"
   },
   "outputs": [
    {
     "name": "stdout",
     "output_type": "stream",
     "text": [
      "dataFrame shape (13000, 9)\n"
     ]
    },
    {
     "data": {
      "text/html": [
       "<div>\n",
       "<style scoped>\n",
       "    .dataframe tbody tr th:only-of-type {\n",
       "        vertical-align: middle;\n",
       "    }\n",
       "\n",
       "    .dataframe tbody tr th {\n",
       "        vertical-align: top;\n",
       "    }\n",
       "\n",
       "    .dataframe thead th {\n",
       "        text-align: right;\n",
       "    }\n",
       "</style>\n",
       "<table border=\"1\" class=\"dataframe\">\n",
       "  <thead>\n",
       "    <tr style=\"text-align: right;\">\n",
       "      <th></th>\n",
       "      <th>프로그램언어</th>\n",
       "      <th>책제목</th>\n",
       "      <th>가격</th>\n",
       "      <th>isbn</th>\n",
       "      <th>작가</th>\n",
       "      <th>출판사</th>\n",
       "      <th>할인된기격</th>\n",
       "      <th>출판일</th>\n",
       "      <th>링크</th>\n",
       "    </tr>\n",
       "  </thead>\n",
       "  <tbody>\n",
       "    <tr>\n",
       "      <th>0</th>\n",
       "      <td>python</td>\n",
       "      <td>Effective Python 2nd 이펙티브 파이썬 : 파이썬 코딩의 기술 (똑똑...</td>\n",
       "      <td>32000</td>\n",
       "      <td>1165213192 9791165213190</td>\n",
       "      <td>브렛 슬라킨 지음|오현석</td>\n",
       "      <td>길벗</td>\n",
       "      <td>28800</td>\n",
       "      <td>20201030</td>\n",
       "      <td>http://book.naver.com/bookdb/book_detail.php?b...</td>\n",
       "    </tr>\n",
       "    <tr>\n",
       "      <th>1</th>\n",
       "      <td>python</td>\n",
       "      <td>파이썬 딥러닝 파이토치(Python Deep Learning PyTorch)</td>\n",
       "      <td>25000</td>\n",
       "      <td>8956748578 9788956748573</td>\n",
       "      <td>이경택|방성수|안상준</td>\n",
       "      <td>정보문화사</td>\n",
       "      <td>22500</td>\n",
       "      <td>20201008</td>\n",
       "      <td>http://book.naver.com/bookdb/book_detail.php?b...</td>\n",
       "    </tr>\n",
       "  </tbody>\n",
       "</table>\n",
       "</div>"
      ],
      "text/plain": [
       "   프로그램언어                                                책제목     가격  \\\n",
       "0  python  Effective Python 2nd 이펙티브 파이썬 : 파이썬 코딩의 기술 (똑똑...  32000   \n",
       "1  python         파이썬 딥러닝 파이토치(Python Deep Learning PyTorch)  25000   \n",
       "\n",
       "                       isbn             작가    출판사  할인된기격       출판일  \\\n",
       "0  1165213192 9791165213190  브렛 슬라킨 지음|오현석     길벗  28800  20201030   \n",
       "1  8956748578 9788956748573    이경택|방성수|안상준  정보문화사  22500  20201008   \n",
       "\n",
       "                                                  링크  \n",
       "0  http://book.naver.com/bookdb/book_detail.php?b...  \n",
       "1  http://book.naver.com/bookdb/book_detail.php?b...  "
      ]
     },
     "execution_count": 6,
     "metadata": {},
     "output_type": "execute_result"
    }
   ],
   "source": [
    "book_df = pd.DataFrame(books,columns=[\"프로그램언어\",\"책제목\",\"가격\",\"isbn\",\"작가\",\"출판사\",\"할인된기격\",\"출판일\",\"링크\"])\n",
    "print(\"dataFrame shape\",book_df.shape)\n",
    "book_df.head(2)"
   ]
  },
  {
   "cell_type": "markdown",
   "id": "5e7d47fd",
   "metadata": {
    "id": "5e7d47fd"
   },
   "source": [
    "수집된 정보 csv 파일로 저장."
   ]
  },
  {
   "cell_type": "code",
   "execution_count": 7,
   "id": "9235b13b",
   "metadata": {
    "id": "9235b13b"
   },
   "outputs": [],
   "source": [
    "# book_df.to_csv(\"./book_info.csv\",encoding=\"utf-8-sig\",index=False)"
   ]
  },
  {
   "cell_type": "code",
   "execution_count": 8,
   "id": "4b73f048",
   "metadata": {
    "id": "4b73f048",
    "outputId": "18e080eb-35a8-4e04-bfbe-d784a5f9c8f4"
   },
   "outputs": [
    {
     "data": {
      "text/plain": [
       "(13000, 9)"
      ]
     },
     "execution_count": 8,
     "metadata": {},
     "output_type": "execute_result"
    }
   ],
   "source": [
    "df = pd.read_csv(\"./book_info.csv\")\n",
    "df.shape"
   ]
  },
  {
   "cell_type": "markdown",
   "id": "e8450cd5",
   "metadata": {
    "id": "e8450cd5"
   },
   "source": [
    "## 데이터 정제\n",
    "   1. 한국 출판사 기준으로 정제\n",
    "   2. 분석 대상 선정 -> Top 50 출판사\n",
    "   3. 동일한 책 이름들 정제\n",
    "   4. 동일한 ISBN을 가지는 데이터 정제"
   ]
  },
  {
   "cell_type": "code",
   "execution_count": 9,
   "id": "444f803e",
   "metadata": {
    "id": "444f803e",
    "outputId": "a8eb9063-341f-437c-9405-19b75cfe34e5"
   },
   "outputs": [
    {
     "name": "stdout",
     "output_type": "stream",
     "text": [
      "현재 출판사 종류 수 : 1498\n"
     ]
    }
   ],
   "source": [
    "print(\"현재 출판사 종류 수 :\",len(df[\"출판사\"].unique()))"
   ]
  },
  {
   "cell_type": "markdown",
   "id": "13b4cdeb",
   "metadata": {
    "id": "13b4cdeb"
   },
   "source": [
    "1. 한국 출판사 기준으로 정제\n",
    "\n",
    "    출판사 명이 영어인 출판사들은 외국 출판사가 대부분이기에, 한글이 입력된 출판사를 추출해 한국 출판사인 데이터로 정제한다."
   ]
  },
  {
   "cell_type": "code",
   "execution_count": 10,
   "id": "624d4749",
   "metadata": {
    "id": "624d4749",
    "outputId": "a1cccb45-8d40-4198-cd1d-aad3b2c8d798"
   },
   "outputs": [
    {
     "name": "stdout",
     "output_type": "stream",
     "text": [
      "한국 출판사 종류 수 : 643\n"
     ]
    },
    {
     "data": {
      "text/html": [
       "<div>\n",
       "<style scoped>\n",
       "    .dataframe tbody tr th:only-of-type {\n",
       "        vertical-align: middle;\n",
       "    }\n",
       "\n",
       "    .dataframe tbody tr th {\n",
       "        vertical-align: top;\n",
       "    }\n",
       "\n",
       "    .dataframe thead th {\n",
       "        text-align: right;\n",
       "    }\n",
       "</style>\n",
       "<table border=\"1\" class=\"dataframe\">\n",
       "  <thead>\n",
       "    <tr style=\"text-align: right;\">\n",
       "      <th></th>\n",
       "      <th>index</th>\n",
       "      <th>출판사</th>\n",
       "    </tr>\n",
       "  </thead>\n",
       "  <tbody>\n",
       "    <tr>\n",
       "      <th>0</th>\n",
       "      <td>에이콘출판</td>\n",
       "      <td>527</td>\n",
       "    </tr>\n",
       "    <tr>\n",
       "      <th>1</th>\n",
       "      <td>한빛미디어</td>\n",
       "      <td>495</td>\n",
       "    </tr>\n",
       "    <tr>\n",
       "      <th>5</th>\n",
       "      <td>정보문화사</td>\n",
       "      <td>282</td>\n",
       "    </tr>\n",
       "    <tr>\n",
       "      <th>6</th>\n",
       "      <td>영진닷컴</td>\n",
       "      <td>274</td>\n",
       "    </tr>\n",
       "    <tr>\n",
       "      <th>7</th>\n",
       "      <td>위키북스</td>\n",
       "      <td>215</td>\n",
       "    </tr>\n",
       "  </tbody>\n",
       "</table>\n",
       "</div>"
      ],
      "text/plain": [
       "   index  출판사\n",
       "0  에이콘출판  527\n",
       "1  한빛미디어  495\n",
       "5  정보문화사  282\n",
       "6   영진닷컴  274\n",
       "7   위키북스  215"
      ]
     },
     "execution_count": 10,
     "metadata": {},
     "output_type": "execute_result"
    }
   ],
   "source": [
    "publishDF = pd.DataFrame(df[\"출판사\"].value_counts().sort_values(ascending=False)).reset_index()\n",
    "publish1 = publishDF[publishDF[\"index\"].str.contains(r\"[가-하고-호기-히]\")]\n",
    "print(\"한국 출판사 종류 수 :\",len(publish1[\"index\"].unique()))\n",
    "publish1.head(5)"
   ]
  },
  {
   "cell_type": "code",
   "execution_count": 11,
   "id": "78545656",
   "metadata": {
    "id": "78545656",
    "outputId": "4f66b264-0209-4493-a416-ce0dec989393"
   },
   "outputs": [
    {
     "name": "stderr",
     "output_type": "stream",
     "text": [
      "C:\\Users\\jongwon\\miniconda3\\envs\\ds_study\\lib\\site-packages\\seaborn\\_decorators.py:36: FutureWarning: Pass the following variable as a keyword arg: x. From version 0.12, the only valid positional argument will be `data`, and passing other arguments without an explicit keyword will result in an error or misinterpretation.\n",
      "  warnings.warn(\n"
     ]
    },
    {
     "data": {
      "image/png": "[encoded data removed]",
      "text/plain": [
       "<Figure size 432x288 with 1 Axes>"
      ]
     },
     "metadata": {
      "needs_background": "light"
     },
     "output_type": "display_data"
    }
   ],
   "source": [
    "sns.boxplot(publish1[\"출판사\"]);\n",
    "plt.title(\"한국 출판사들이 출판된 데이터 갯수의 범위\",fontsize=22)\n",
    "plt.show();"
   ]
  },
  {
   "cell_type": "code",
   "execution_count": 12,
   "id": "0a9c47d7",
   "metadata": {
    "id": "0a9c47d7",
    "outputId": "05b5e7dc-3321-44db-8f89-4e48845e09ea"
   },
   "outputs": [
    {
     "data": {
      "text/plain": [
       "1     277\n",
       "2     114\n",
       "3      52\n",
       "4      30\n",
       "5      21\n",
       "9      15\n",
       "6      12\n",
       "7      11\n",
       "8       8\n",
       "10      8\n",
       "Name: 출판사, dtype: int64"
      ]
     },
     "execution_count": 12,
     "metadata": {},
     "output_type": "execute_result"
    }
   ],
   "source": [
    "publish1[\"출판사\"].value_counts()[:10]"
   ]
  },
  {
   "cell_type": "code",
   "execution_count": 13,
   "id": "ceb7d3b9",
   "metadata": {
    "id": "ceb7d3b9",
    "outputId": "94ff6022-050d-45a7-9300-9e28e32a7f42"
   },
   "outputs": [
    {
     "data": {
      "text/plain": [
       "count    643.000000\n",
       "mean      10.076205\n",
       "std       37.091141\n",
       "min        1.000000\n",
       "25%        1.000000\n",
       "50%        2.000000\n",
       "75%        5.000000\n",
       "max      527.000000\n",
       "Name: 출판사, dtype: float64"
      ]
     },
     "execution_count": 13,
     "metadata": {},
     "output_type": "execute_result"
    }
   ],
   "source": [
    "publish1[\"출판사\"].describe()"
   ]
  },
  {
   "cell_type": "markdown",
   "id": "bf4adce2",
   "metadata": {
    "id": "bf4adce2"
   },
   "source": [
    "2. Top 50이라는 분석 대상 설정.\n",
    "    \n",
    "    643개의 출판사 중에서 75%이상이 5개의 데이터만 가지고 있다. 그래서 해당 데이터를 출판사 데이터 갯수로 Top 50을 추출해 한국에서 출판을 많이한 Top 50 출판사 기준으로 분석을 진행한다."
   ]
  },
  {
   "cell_type": "code",
   "execution_count": 14,
   "id": "d37d25da",
   "metadata": {
    "id": "d37d25da"
   },
   "outputs": [],
   "source": [
    "publish1 = publish1.head(50).reset_index(drop=True)"
   ]
  },
  {
   "cell_type": "code",
   "execution_count": 15,
   "id": "c49f6b29",
   "metadata": {
    "id": "c49f6b29",
    "outputId": "e388639a-68c9-4a66-8e11-ba3e867d6e97"
   },
   "outputs": [
    {
     "data": {
      "text/html": [
       "<div>\n",
       "<style scoped>\n",
       "    .dataframe tbody tr th:only-of-type {\n",
       "        vertical-align: middle;\n",
       "    }\n",
       "\n",
       "    .dataframe tbody tr th {\n",
       "        vertical-align: top;\n",
       "    }\n",
       "\n",
       "    .dataframe thead th {\n",
       "        text-align: right;\n",
       "    }\n",
       "</style>\n",
       "<table border=\"1\" class=\"dataframe\">\n",
       "  <thead>\n",
       "    <tr style=\"text-align: right;\">\n",
       "      <th></th>\n",
       "      <th>index</th>\n",
       "      <th>출판사</th>\n",
       "    </tr>\n",
       "  </thead>\n",
       "  <tbody>\n",
       "    <tr>\n",
       "      <th>0</th>\n",
       "      <td>에이콘출판</td>\n",
       "      <td>527</td>\n",
       "    </tr>\n",
       "    <tr>\n",
       "      <th>1</th>\n",
       "      <td>한빛미디어</td>\n",
       "      <td>495</td>\n",
       "    </tr>\n",
       "    <tr>\n",
       "      <th>2</th>\n",
       "      <td>정보문화사</td>\n",
       "      <td>282</td>\n",
       "    </tr>\n",
       "    <tr>\n",
       "      <th>3</th>\n",
       "      <td>영진닷컴</td>\n",
       "      <td>274</td>\n",
       "    </tr>\n",
       "    <tr>\n",
       "      <th>4</th>\n",
       "      <td>위키북스</td>\n",
       "      <td>215</td>\n",
       "    </tr>\n",
       "    <tr>\n",
       "      <th>5</th>\n",
       "      <td>길벗</td>\n",
       "      <td>179</td>\n",
       "    </tr>\n",
       "    <tr>\n",
       "      <th>6</th>\n",
       "      <td>인사이트</td>\n",
       "      <td>132</td>\n",
       "    </tr>\n",
       "    <tr>\n",
       "      <th>7</th>\n",
       "      <td>성안당</td>\n",
       "      <td>127</td>\n",
       "    </tr>\n",
       "    <tr>\n",
       "      <th>8</th>\n",
       "      <td>제이펍</td>\n",
       "      <td>114</td>\n",
       "    </tr>\n",
       "    <tr>\n",
       "      <th>9</th>\n",
       "      <td>대림</td>\n",
       "      <td>102</td>\n",
       "    </tr>\n",
       "    <tr>\n",
       "      <th>10</th>\n",
       "      <td>홍릉과학출판사</td>\n",
       "      <td>102</td>\n",
       "    </tr>\n",
       "    <tr>\n",
       "      <th>11</th>\n",
       "      <td>비제이퍼블릭</td>\n",
       "      <td>99</td>\n",
       "    </tr>\n",
       "    <tr>\n",
       "      <th>12</th>\n",
       "      <td>인포북</td>\n",
       "      <td>93</td>\n",
       "    </tr>\n",
       "    <tr>\n",
       "      <th>13</th>\n",
       "      <td>OReilly(오라일리)</td>\n",
       "      <td>86</td>\n",
       "    </tr>\n",
       "    <tr>\n",
       "      <th>14</th>\n",
       "      <td>글로벌</td>\n",
       "      <td>86</td>\n",
       "    </tr>\n",
       "    <tr>\n",
       "      <th>15</th>\n",
       "      <td>생능출판사</td>\n",
       "      <td>81</td>\n",
       "    </tr>\n",
       "    <tr>\n",
       "      <th>16</th>\n",
       "      <td>혜지원</td>\n",
       "      <td>71</td>\n",
       "    </tr>\n",
       "    <tr>\n",
       "      <th>17</th>\n",
       "      <td>21세기사</td>\n",
       "      <td>66</td>\n",
       "    </tr>\n",
       "    <tr>\n",
       "      <th>18</th>\n",
       "      <td>프리렉</td>\n",
       "      <td>65</td>\n",
       "    </tr>\n",
       "    <tr>\n",
       "      <th>19</th>\n",
       "      <td>인피니티북스</td>\n",
       "      <td>65</td>\n",
       "    </tr>\n",
       "    <tr>\n",
       "      <th>20</th>\n",
       "      <td>한빛아카데미</td>\n",
       "      <td>61</td>\n",
       "    </tr>\n",
       "    <tr>\n",
       "      <th>21</th>\n",
       "      <td>가메</td>\n",
       "      <td>61</td>\n",
       "    </tr>\n",
       "    <tr>\n",
       "      <th>22</th>\n",
       "      <td>정익사</td>\n",
       "      <td>61</td>\n",
       "    </tr>\n",
       "    <tr>\n",
       "      <th>23</th>\n",
       "      <td>복두출판사</td>\n",
       "      <td>59</td>\n",
       "    </tr>\n",
       "    <tr>\n",
       "      <th>24</th>\n",
       "      <td>이한출판사</td>\n",
       "      <td>54</td>\n",
       "    </tr>\n",
       "    <tr>\n",
       "      <th>25</th>\n",
       "      <td>사이텍미디어</td>\n",
       "      <td>49</td>\n",
       "    </tr>\n",
       "    <tr>\n",
       "      <th>26</th>\n",
       "      <td>북스홀릭퍼블리싱</td>\n",
       "      <td>49</td>\n",
       "    </tr>\n",
       "    <tr>\n",
       "      <th>27</th>\n",
       "      <td>기전연구사</td>\n",
       "      <td>46</td>\n",
       "    </tr>\n",
       "    <tr>\n",
       "      <th>28</th>\n",
       "      <td>이지스퍼블리싱</td>\n",
       "      <td>46</td>\n",
       "    </tr>\n",
       "    <tr>\n",
       "      <th>29</th>\n",
       "      <td>사이버출판사</td>\n",
       "      <td>46</td>\n",
       "    </tr>\n",
       "    <tr>\n",
       "      <th>30</th>\n",
       "      <td>기한재</td>\n",
       "      <td>44</td>\n",
       "    </tr>\n",
       "    <tr>\n",
       "      <th>31</th>\n",
       "      <td>교학사</td>\n",
       "      <td>43</td>\n",
       "    </tr>\n",
       "    <tr>\n",
       "      <th>32</th>\n",
       "      <td>삼각형</td>\n",
       "      <td>41</td>\n",
       "    </tr>\n",
       "    <tr>\n",
       "      <th>33</th>\n",
       "      <td>가남사</td>\n",
       "      <td>40</td>\n",
       "    </tr>\n",
       "    <tr>\n",
       "      <th>34</th>\n",
       "      <td>크라운출판사</td>\n",
       "      <td>36</td>\n",
       "    </tr>\n",
       "    <tr>\n",
       "      <th>35</th>\n",
       "      <td>루비페이퍼</td>\n",
       "      <td>35</td>\n",
       "    </tr>\n",
       "    <tr>\n",
       "      <th>36</th>\n",
       "      <td>컴스페이스</td>\n",
       "      <td>34</td>\n",
       "    </tr>\n",
       "    <tr>\n",
       "      <th>37</th>\n",
       "      <td>퍼플</td>\n",
       "      <td>33</td>\n",
       "    </tr>\n",
       "    <tr>\n",
       "      <th>38</th>\n",
       "      <td>정일</td>\n",
       "      <td>31</td>\n",
       "    </tr>\n",
       "    <tr>\n",
       "      <th>39</th>\n",
       "      <td>디지털북스</td>\n",
       "      <td>30</td>\n",
       "    </tr>\n",
       "    <tr>\n",
       "      <th>40</th>\n",
       "      <td>피씨북</td>\n",
       "      <td>27</td>\n",
       "    </tr>\n",
       "    <tr>\n",
       "      <th>41</th>\n",
       "      <td>삼양미디어</td>\n",
       "      <td>27</td>\n",
       "    </tr>\n",
       "    <tr>\n",
       "      <th>42</th>\n",
       "      <td>지앤선</td>\n",
       "      <td>27</td>\n",
       "    </tr>\n",
       "    <tr>\n",
       "      <th>43</th>\n",
       "      <td>생능출판</td>\n",
       "      <td>26</td>\n",
       "    </tr>\n",
       "    <tr>\n",
       "      <th>44</th>\n",
       "      <td>인터비젼</td>\n",
       "      <td>26</td>\n",
       "    </tr>\n",
       "    <tr>\n",
       "      <th>45</th>\n",
       "      <td>북스홀릭</td>\n",
       "      <td>26</td>\n",
       "    </tr>\n",
       "    <tr>\n",
       "      <th>46</th>\n",
       "      <td>로드북</td>\n",
       "      <td>25</td>\n",
       "    </tr>\n",
       "    <tr>\n",
       "      <th>47</th>\n",
       "      <td>수경출판사</td>\n",
       "      <td>25</td>\n",
       "    </tr>\n",
       "    <tr>\n",
       "      <th>48</th>\n",
       "      <td>BOOKK(부크크)</td>\n",
       "      <td>25</td>\n",
       "    </tr>\n",
       "    <tr>\n",
       "      <th>49</th>\n",
       "      <td>삼양출판사</td>\n",
       "      <td>25</td>\n",
       "    </tr>\n",
       "  </tbody>\n",
       "</table>\n",
       "</div>"
      ],
      "text/plain": [
       "            index  출판사\n",
       "0           에이콘출판  527\n",
       "1           한빛미디어  495\n",
       "2           정보문화사  282\n",
       "3            영진닷컴  274\n",
       "4            위키북스  215\n",
       "5              길벗  179\n",
       "6            인사이트  132\n",
       "7             성안당  127\n",
       "8             제이펍  114\n",
       "9              대림  102\n",
       "10        홍릉과학출판사  102\n",
       "11         비제이퍼블릭   99\n",
       "12            인포북   93\n",
       "13  OReilly(오라일리)   86\n",
       "14            글로벌   86\n",
       "15          생능출판사   81\n",
       "16            혜지원   71\n",
       "17          21세기사   66\n",
       "18            프리렉   65\n",
       "19         인피니티북스   65\n",
       "20         한빛아카데미   61\n",
       "21             가메   61\n",
       "22            정익사   61\n",
       "23          복두출판사   59\n",
       "24          이한출판사   54\n",
       "25         사이텍미디어   49\n",
       "26       북스홀릭퍼블리싱   49\n",
       "27          기전연구사   46\n",
       "28        이지스퍼블리싱   46\n",
       "29         사이버출판사   46\n",
       "30            기한재   44\n",
       "31            교학사   43\n",
       "32            삼각형   41\n",
       "33            가남사   40\n",
       "34         크라운출판사   36\n",
       "35          루비페이퍼   35\n",
       "36          컴스페이스   34\n",
       "37             퍼플   33\n",
       "38             정일   31\n",
       "39          디지털북스   30\n",
       "40            피씨북   27\n",
       "41          삼양미디어   27\n",
       "42            지앤선   27\n",
       "43           생능출판   26\n",
       "44           인터비젼   26\n",
       "45           북스홀릭   26\n",
       "46            로드북   25\n",
       "47          수경출판사   25\n",
       "48     BOOKK(부크크)   25\n",
       "49          삼양출판사   25"
      ]
     },
     "execution_count": 15,
     "metadata": {},
     "output_type": "execute_result"
    }
   ],
   "source": [
    "publish1"
   ]
  },
  {
   "cell_type": "code",
   "execution_count": 16,
   "id": "f1d0aaaa",
   "metadata": {
    "id": "f1d0aaaa"
   },
   "outputs": [],
   "source": [
    "publish1.columns = [\"출판사\",\"count\"]"
   ]
  },
  {
   "cell_type": "code",
   "execution_count": 17,
   "id": "6850392b",
   "metadata": {
    "id": "6850392b",
    "outputId": "85e71a0f-e4c6-46a6-adb5-ebb31e23a7ea"
   },
   "outputs": [
    {
     "name": "stdout",
     "output_type": "stream",
     "text": [
      "변환후 shape :  (4419, 10)\n"
     ]
    },
    {
     "data": {
      "text/html": [
       "<div>\n",
       "<style scoped>\n",
       "    .dataframe tbody tr th:only-of-type {\n",
       "        vertical-align: middle;\n",
       "    }\n",
       "\n",
       "    .dataframe tbody tr th {\n",
       "        vertical-align: top;\n",
       "    }\n",
       "\n",
       "    .dataframe thead th {\n",
       "        text-align: right;\n",
       "    }\n",
       "</style>\n",
       "<table border=\"1\" class=\"dataframe\">\n",
       "  <thead>\n",
       "    <tr style=\"text-align: right;\">\n",
       "      <th></th>\n",
       "      <th>프로그램언어</th>\n",
       "      <th>책제목</th>\n",
       "      <th>가격</th>\n",
       "      <th>isbn</th>\n",
       "      <th>작가</th>\n",
       "      <th>출판사</th>\n",
       "      <th>할인된기격</th>\n",
       "      <th>출판일</th>\n",
       "      <th>링크</th>\n",
       "      <th>count</th>\n",
       "    </tr>\n",
       "  </thead>\n",
       "  <tbody>\n",
       "    <tr>\n",
       "      <th>0</th>\n",
       "      <td>python</td>\n",
       "      <td>Effective Python 2nd 이펙티브 파이썬 : 파이썬 코딩의 기술 (똑똑...</td>\n",
       "      <td>32000.0</td>\n",
       "      <td>1165213192 9791165213190</td>\n",
       "      <td>브렛 슬라킨 지음|오현석</td>\n",
       "      <td>길벗</td>\n",
       "      <td>28800.0</td>\n",
       "      <td>20201030</td>\n",
       "      <td>http://book.naver.com/bookdb/book_detail.php?b...</td>\n",
       "      <td>179</td>\n",
       "    </tr>\n",
       "    <tr>\n",
       "      <th>1</th>\n",
       "      <td>C언어</td>\n",
       "      <td>모두의 C언어 (스스로 생각하면서 배우는 C프로그래밍 기초)</td>\n",
       "      <td>18000.0</td>\n",
       "      <td>1160508550 9791160508550</td>\n",
       "      <td>이형우</td>\n",
       "      <td>길벗</td>\n",
       "      <td>16200.0</td>\n",
       "      <td>20190802</td>\n",
       "      <td>http://book.naver.com/bookdb/book_detail.php?b...</td>\n",
       "      <td>179</td>\n",
       "    </tr>\n",
       "    <tr>\n",
       "      <th>2</th>\n",
       "      <td>C언어</td>\n",
       "      <td>C언어 코딩 도장</td>\n",
       "      <td>25000.0</td>\n",
       "      <td>1187345288 9791187345282</td>\n",
       "      <td>남재윤</td>\n",
       "      <td>길벗</td>\n",
       "      <td>22500.0</td>\n",
       "      <td>20160630</td>\n",
       "      <td>http://book.naver.com/bookdb/book_detail.php?b...</td>\n",
       "      <td>179</td>\n",
       "    </tr>\n",
       "    <tr>\n",
       "      <th>3</th>\n",
       "      <td>C언어</td>\n",
       "      <td>COS Pro 2급 C 언어 (프로그래머를 향한 출발점,교재+모의고사)</td>\n",
       "      <td>20000.0</td>\n",
       "      <td>1160504113 9791160504118</td>\n",
       "      <td>남재윤</td>\n",
       "      <td>길벗</td>\n",
       "      <td>18000.0</td>\n",
       "      <td>20180215</td>\n",
       "      <td>http://book.naver.com/bookdb/book_detail.php?b...</td>\n",
       "      <td>179</td>\n",
       "    </tr>\n",
       "    <tr>\n",
       "      <th>4</th>\n",
       "      <td>C언어</td>\n",
       "      <td>시나공 정보처리기사 실기 (C와 JAVA의 기,산업기사 포함,2019)</td>\n",
       "      <td>31000.0</td>\n",
       "      <td>1160506973 9791160506976</td>\n",
       "      <td>한기준|김기윤|김정준|강윤석|길벗알앤디</td>\n",
       "      <td>길벗</td>\n",
       "      <td>NaN</td>\n",
       "      <td>20190121</td>\n",
       "      <td>http://book.naver.com/bookdb/book_detail.php?b...</td>\n",
       "      <td>179</td>\n",
       "    </tr>\n",
       "  </tbody>\n",
       "</table>\n",
       "</div>"
      ],
      "text/plain": [
       "   프로그램언어                                                책제목       가격  \\\n",
       "0  python  Effective Python 2nd 이펙티브 파이썬 : 파이썬 코딩의 기술 (똑똑...  32000.0   \n",
       "1     C언어                  모두의 C언어 (스스로 생각하면서 배우는 C프로그래밍 기초)  18000.0   \n",
       "2     C언어                                          C언어 코딩 도장  25000.0   \n",
       "3     C언어            COS Pro 2급 C 언어 (프로그래머를 향한 출발점,교재+모의고사)  20000.0   \n",
       "4     C언어            시나공 정보처리기사 실기 (C와 JAVA의 기,산업기사 포함,2019)  31000.0   \n",
       "\n",
       "                       isbn                     작가 출판사    할인된기격       출판일  \\\n",
       "0  1165213192 9791165213190          브렛 슬라킨 지음|오현석  길벗  28800.0  20201030   \n",
       "1  1160508550 9791160508550                    이형우  길벗  16200.0  20190802   \n",
       "2  1187345288 9791187345282                    남재윤  길벗  22500.0  20160630   \n",
       "3  1160504113 9791160504118                    남재윤  길벗  18000.0  20180215   \n",
       "4  1160506973 9791160506976  한기준|김기윤|김정준|강윤석|길벗알앤디  길벗      NaN  20190121   \n",
       "\n",
       "                                                  링크  count  \n",
       "0  http://book.naver.com/bookdb/book_detail.php?b...    179  \n",
       "1  http://book.naver.com/bookdb/book_detail.php?b...    179  \n",
       "2  http://book.naver.com/bookdb/book_detail.php?b...    179  \n",
       "3  http://book.naver.com/bookdb/book_detail.php?b...    179  \n",
       "4  http://book.naver.com/bookdb/book_detail.php?b...    179  "
      ]
     },
     "execution_count": 17,
     "metadata": {},
     "output_type": "execute_result"
    }
   ],
   "source": [
    "df = df.merge(publish1,on=\"출판사\").reset_index(drop=True)\n",
    "print(\"변환후 shape : \",df.shape)\n",
    "df.head()"
   ]
  },
  {
   "cell_type": "markdown",
   "id": "0c55a12d",
   "metadata": {
    "id": "0c55a12d"
   },
   "source": [
    "3. 동일한 책 이름일 경우 정제\n",
    "    \n",
    "    Naver 검색 API를 통해 책 이름 정보를 검색했는데 이때 검색 단어가 다른데 같은 책이름이 존재한다. 그렇기에 해당 책이름들은 하드 코딩을 통해 올바른 데이터로 정제한다.\n",
    "    \n",
    "< 하드 코딩을 하는 이유 >\n",
    "- 공통 집합끼리의 공통된 패턴이 크게 없고 세분화되게 존재해서 하드 코딩을 통해서 데이터를 정제한다."
   ]
  },
  {
   "cell_type": "code",
   "execution_count": 18,
   "id": "3a0cab59",
   "metadata": {
    "id": "3a0cab59",
    "outputId": "40b1d839-2252-4fe8-d921-a974ded021d1"
   },
   "outputs": [
    {
     "name": "stdout",
     "output_type": "stream",
     "text": [
      "유니크한 책 제목 수 :  3605 1차 정제된 데이터 프레임의 수 열수 :  4419\n"
     ]
    }
   ],
   "source": [
    "print(\"유니크한 책 제목 수 : \",len(df[\"책제목\"].unique()), \"1차 정제된 데이터 프레임의 수 열수 : \",df.shape[0])"
   ]
  },
  {
   "cell_type": "markdown",
   "id": "ae7771c2",
   "metadata": {
    "id": "ae7771c2"
   },
   "source": [
    "약 1000개 정도가 같은 제목의 데이터인것을 알수 있다."
   ]
  },
  {
   "cell_type": "code",
   "execution_count": 19,
   "id": "5ebb1884",
   "metadata": {
    "id": "5ebb1884"
   },
   "outputs": [],
   "source": [
    "AA= df[[\"책제목\",\"프로그램언어\"]].groupby(\"책제목\").count().reset_index()\n",
    "AA.columns = [\"책제목\",\"중복 갯수\"]"
   ]
  },
  {
   "cell_type": "code",
   "execution_count": 20,
   "id": "feec73d5",
   "metadata": {
    "id": "feec73d5"
   },
   "outputs": [],
   "source": [
    "df = df.merge(AA,on=\"책제목\")"
   ]
  },
  {
   "cell_type": "code",
   "execution_count": 21,
   "id": "b60f948d",
   "metadata": {
    "id": "b60f948d",
    "outputId": "ec262b87-2c1e-4245-99c5-5cf62aeb3b0d"
   },
   "outputs": [
    {
     "data": {
      "text/html": [
       "<div>\n",
       "<style scoped>\n",
       "    .dataframe tbody tr th:only-of-type {\n",
       "        vertical-align: middle;\n",
       "    }\n",
       "\n",
       "    .dataframe tbody tr th {\n",
       "        vertical-align: top;\n",
       "    }\n",
       "\n",
       "    .dataframe thead th {\n",
       "        text-align: right;\n",
       "    }\n",
       "</style>\n",
       "<table border=\"1\" class=\"dataframe\">\n",
       "  <thead>\n",
       "    <tr style=\"text-align: right;\">\n",
       "      <th></th>\n",
       "      <th>책제목</th>\n",
       "      <th>프로그램언어</th>\n",
       "      <th>중복 갯수</th>\n",
       "    </tr>\n",
       "  </thead>\n",
       "  <tbody>\n",
       "    <tr>\n",
       "      <th>0</th>\n",
       "      <td>ADD-ON HTML+JAVA SCRIPT</td>\n",
       "      <td>JavaScript</td>\n",
       "      <td>1</td>\n",
       "    </tr>\n",
       "    <tr>\n",
       "      <th>1</th>\n",
       "      <td>ADD-ON HTML+JAVA SCRIPT</td>\n",
       "      <td>java</td>\n",
       "      <td>1</td>\n",
       "    </tr>\n",
       "  </tbody>\n",
       "</table>\n",
       "</div>"
      ],
      "text/plain": [
       "                       책제목      프로그램언어  중복 갯수\n",
       "0  ADD-ON HTML+JAVA SCRIPT  JavaScript      1\n",
       "1  ADD-ON HTML+JAVA SCRIPT        java      1"
      ]
     },
     "execution_count": 21,
     "metadata": {},
     "output_type": "execute_result"
    }
   ],
   "source": [
    "# 중복된 데이터 추출\n",
    "df1 = df[df[\"중복 갯수\"]!=1]\n",
    "\n",
    "df2 = df1[[\"책제목\",\"프로그램언어\",\"중복 갯수\"]].groupby([\"책제목\",\"프로그램언어\"]).agg(\"count\").reset_index()\n",
    "df2.head(2)"
   ]
  },
  {
   "cell_type": "code",
   "execution_count": 22,
   "id": "d2df89e8",
   "metadata": {
    "id": "d2df89e8"
   },
   "outputs": [],
   "source": [
    "def cotainsTitle(x,y):\n",
    "    \"\"\"\n",
    "        x : 책제목\n",
    "        y : 네이버 API때 검색어로 사용한 프로그램언어\n",
    "        --------------------------------------------\n",
    "        자바 같은 경유에는 자바 스크립트가 같이 검색될 확률이 높다 그래서 자바 검색 안에 자바스크립트가 포함되어 있는지 로직을 추가하여 검사를 진행한다.\n",
    "        C언어 경우도 C# C++이 있기에 해당 단어도 검색이 되면 C # 인지 구별하기로 한다.\n",
    "    \"\"\"\n",
    "    y = y.upper() \n",
    "    x = x.upper()\n",
    "    flag = False\n",
    "    searchingList_Py = [\"PYTHON\",\"파이썬\"]\n",
    "    searchingList_C = [\"C언어\",\"C 언어\",\"C\"]\n",
    "    searchingList_J = [\"JAVA\",\"자바\"]\n",
    "    searchingList_JS = [\"JAVASCRIPT\",\"JAVA SCRIPT\",\"SCRIPT\",\"자바스크립트\",\"JS\",\"JAVA SERVER PAGES\",\"JAVA SERVLETS\",\"자바 스크립트\"]\n",
    "    searchingList_C1 = [\"C++\"]\n",
    "    searchingList_C2 = [\"C#\"]\n",
    "    searchingList_Vi = [\"Visual Basic\",\"Visual\",\"Basic\",\"VISUAL BASIC\"]\n",
    "    searchingList_SQ = [\"SQL\"]\n",
    "    searchingList_PH = [\"PHP\"]\n",
    "    searchingList_R = [\"R언어\",\"R\"]\n",
    "    \n",
    "    def iterrors(x, searchingList, keyworld, flag):\n",
    "        for word in searchingList:\n",
    "            if word.upper() in x:\n",
    "                flag= keyworld\n",
    "                break\n",
    "        return flag\n",
    "    \n",
    "    if y ==\"PYTHON\" or y==\"파이썬\":\n",
    "        flag = iterrors(x, searchingList_Py, \"파이썬\",flag)\n",
    "                \n",
    "    elif y ==\"C언어\":\n",
    "        flag = iterrors(x, searchingList_C, \"C언어\",flag)\n",
    "        flag = iterrors(x, searchingList_C1, \"c++\",flag)\n",
    "        flag = iterrors(x, searchingList_C2, \"c#\", flag)\n",
    "        flag = iterrors(x, searchingList_Py, \"파이썬\",flag)\n",
    "        \n",
    "    elif y ==\"JAVA\" or y==\"자바\":\n",
    "        flag = iterrors(x, searchingList_J, \"자바\", flag) \n",
    "        flag = iterrors(x, searchingList_JS, \"자바스크립트\", flag) \n",
    "        \n",
    "    elif y ==\"C++\":\n",
    "        flag = iterrors(x, searchingList_C1, \"c++\",flag)\n",
    "    elif y ==\"C#\":\n",
    "        flag = iterrors(x, searchingList_C2, \"c#\", flag)  \n",
    "    elif y ==\"Visual Basic\" or y == \"VISUAL BASIC\":\n",
    "        flag = iterrors(x, searchingList_Vi, \"Visual Basic\", flag)  \n",
    "    \n",
    "    elif y ==\"JAVASCRIPT\" or y ==\"자바스크립트\":\n",
    "        flag = iterrors(x, searchingList_JS, \"자바스크립트\", flag) \n",
    "    \n",
    "    elif y ==\"SQL\":\n",
    "        flag = iterrors(x, searchingList_SQ, \"SQL\", flag) \n",
    "        \n",
    "    elif y ==\"PHP\":\n",
    "        flag = iterrors(x, searchingList_PH, \"PHP\", flag) \n",
    "                \n",
    "    elif y ==\"R언어\":\n",
    "        flag = iterrors(x, searchingList_R, \"R언어\", flag)        \n",
    "    else:\n",
    "        print(f\"아무것도 아닌것 :{y} // {x}\")\n",
    "\n",
    "    if flag == False:\n",
    "        print(f\"아무것도 아닌것들 Flag : {y} // {x}\")\n",
    "    return flag"
   ]
  },
  {
   "cell_type": "code",
   "execution_count": 23,
   "id": "01c7fab2",
   "metadata": {
    "id": "01c7fab2",
    "outputId": "b23ab47d-0739-44a0-db7d-b467301d8958"
   },
   "outputs": [
    {
     "name": "stdout",
     "output_type": "stream",
     "text": [
      "아무것도 아닌것들 Flag : 자바스크립트 // AI 시대, 우리 아이 교육은? (문과 엄마가 들려주는 미래 시대 자녀 교육법)\n",
      "아무것도 아닌것들 Flag : 파이썬 // AI 시대, 우리 아이 교육은? (문과 엄마가 들려주는 미래 시대 자녀 교육법)\n",
      "아무것도 아닌것들 Flag : R언어 // ANSI SQL\n",
      "아무것도 아닌것들 Flag : R언어 // C 언어 (요리조리 맛있는)\n",
      "아무것도 아닌것들 Flag : 자바스크립트 // C# 7 AND .NET CORE 2.X BLUEPRINTS (프로젝트별 예제로 배우는 C#과 닷넷 코어)\n",
      "아무것도 아닌것들 Flag : 파이썬 // COS PRO 2급 C 언어 (프로그래머를 향한 출발점,교재+모의고사)\n",
      "아무것도 아닌것들 Flag : 자바 // CLEAN CODE (클린 코드,애자일 소프트웨어 장인 정신)\n",
      "아무것도 아닌것들 Flag : 자바 // DO IT! HTML5+CSS3 웹 표준의 정석\n",
      "아무것도 아닌것들 Flag : 자바스크립트 // DO IT! HTML5+CSS3 웹 표준의 정석\n",
      "아무것도 아닌것들 Flag : 자바스크립트 // DO IT! 장고+부트스트랩 파이썬 웹 개발의 정석 (웹 기초부터 블로그 개발 배포 운영까지, 만들면서 배우는 웹 개발 A TO Z)\n",
      "아무것도 아닌것들 Flag : 자바 // DO IT! 첫 코딩 WITH 파이썬 (보통 사람이 알아야 할 프로그래밍 기초)\n",
      "아무것도 아닌것들 Flag : 자바스크립트 // GWT 구글 웹 툴킷 (자바로 하는 AJAX 프로그래밍)\n",
      "아무것도 아닌것들 Flag : 자바 // HTML5 웹 프로그래밍 입문\n",
      "아무것도 아닌것들 Flag : 자바스크립트 // HTML5 웹 프로그래밍 입문\n",
      "아무것도 아닌것들 Flag : 자바스크립트 // HTML5 웹소켓 프로그래밍 (안전하고 확장 가능한 실시간 웹 애플리케이션 개발)\n",
      "아무것도 아닌것들 Flag : 파이썬 // HTML5 웹소켓 프로그래밍 (안전하고 확장 가능한 실시간 웹 애플리케이션 개발)\n",
      "아무것도 아닌것들 Flag : C언어 // JAVA 언어로 배우는 디자인 패턴 입문\n",
      "아무것도 아닌것들 Flag : R언어 // JAVA와 UML을 사용한 개발방법론\n",
      "아무것도 아닌것들 Flag : 자바스크립트 // JBOSS AS 7 따라잡기 (강력한 오픈소스 자바 엔터프라이즈 애플리케이션 서버)\n",
      "아무것도 아닌것들 Flag : 자바스크립트 // JBOSS AS 7 애플리케이션 개발 (JBOSS 관리부터 자바EE 개발 배포 운영까지)\n",
      "아무것도 아닌것들 Flag : 자바스크립트 // JVM 언어 입문 (반양장, 자바, 스칼라, 클로저, 코틀린, 그루비 체험하기)\n",
      "아무것도 아닌것들 Flag : 파이썬 // JVM 언어 입문 (반양장, 자바, 스칼라, 클로저, 코틀린, 그루비 체험하기)\n",
      "아무것도 아닌것들 Flag : 자바 // KOTLIN IN ACTION (코틀린 컴파일러 개발자가 직접 알려주는 코틀린 언어 핵심)\n",
      "아무것도 아닌것들 Flag : 자바스크립트 // KOTLIN IN ACTION (코틀린 컴파일러 개발자가 직접 알려주는 코틀린 언어 핵심)\n",
      "아무것도 아닌것들 Flag : 자바스크립트 // PHP 4 무작정 따라하기\n",
      "아무것도 아닌것들 Flag : 자바스크립트 // PHP 5 무작정 따라하기\n",
      "아무것도 아닌것들 Flag : 자바스크립트 // PHP WEB PROGRAMING\n",
      "아무것도 아닌것들 Flag : 자바스크립트 // PHP6 MYSQL5 (다이내믹한 웹사이트 만들기)\n",
      "아무것도 아닌것들 Flag : C언어 // POSTGRESQL 9.4 공식 가이드 VOL.2 SQL 언어\n",
      "아무것도 아닌것들 Flag : 자바스크립트 // PRACTICAL 자바 유틸리티 (GIT, 서브버전, 메이븐, 그레이들, JUNIT, 트랙, 젠킨스, JMETER)\n",
      "아무것도 아닌것들 Flag : 파이썬 // PROGRAMMING IN SCALA 4/E(프로그래밍 언어) (창시자가 직접 집필한 스칼라 언어의 바이블)\n",
      "아무것도 아닌것들 Flag : 자바스크립트 // RESTFUL 자바 패턴과 실전 응용 (고성능 RESTFUL 서비스 제작을 위한 베스트 프랙티스)\n",
      "아무것도 아닌것들 Flag : 파이썬 // REACT.JS, 스프링 부트, AWS로 배우는 웹 개발 101(웹 프로페셔널) (SPA, REST API 기반 웹 애플리케이션 개발)\n",
      "아무것도 아닌것들 Flag : 파이썬 // REDIS와 NODE.JS를 사용한 웹 애플리케이션 개발 (클라우드 시대 웹 서비스의 확장성을 높이는)\n",
      "아무것도 아닌것들 Flag : 자바스크립트 // R과 SHINY 패키지를 활용한 웹 애플리케이션 개발\n",
      "아무것도 아닌것들 Flag : 자바스크립트 // R을 활용한 비즈니스 인텔리전스 (마케팅 분석, 운영 과학, 데이터 시각화 등 따라 하며 배우는 R)\n",
      "아무것도 아닌것들 Flag : 자바스크립트 // SELENIUM 웹드라이버 테스트 자동화 (구글이 선택한 웹 애플리케이션 UI 테스팅 툴)\n",
      "아무것도 아닌것들 Flag : 파이썬 // SELENIUM 웹드라이버 테스트 자동화 (구글이 선택한 웹 애플리케이션 UI 테스팅 툴)\n",
      "아무것도 아닌것들 Flag : 자바스크립트 // THE PYTHON 3 STANDARD LIBRARY BY EXAMPLE: 예제로 배우는 파이썬 표준 라이브러리 (예제로 배우는 파이썬 표준 라이브러리)\n",
      "아무것도 아닌것들 Flag : 파이썬 // THREE.JS로 3D 그래픽 만들기 (WEBGL을 위한 자바스크립트 3D 라이브러리)\n",
      "아무것도 아닌것들 Flag : 자바스크립트 // UNITY 5.X BY EXAMPLE (단계별 과정을 통해 실제 게임 프로젝트를 완성하기)\n",
      "아무것도 아닌것들 Flag : 파이썬 // UNITY 5.X BY EXAMPLE (단계별 과정을 통해 실제 게임 프로젝트를 완성하기)\n",
      "아무것도 아닌것들 Flag : 파이썬 // VUE.JS 첫걸음 (기본 원리부터 응용까지 탄탄하게 익히는 웹 애플리케이션 개발)\n",
      "아무것도 아닌것들 Flag : 파이썬 // WEBXR로 만드는 AR/VR (WEBGL, THREE.JS, A-FRAME을 사용한 실감형 웹 개발)\n",
      "아무것도 아닌것들 Flag : 자바스크립트 // JQUERY MOBILE (모바일 웹 개발의 필수품)\n",
      "아무것도 아닌것들 Flag : 자바스크립트 // 가장 빨리 만나는 코어 자바9 (자바9으로 배우는 모던 자바!)\n",
      "아무것도 아닌것들 Flag : C언어 // 객체지향 자바스크립트의 원리\n",
      "아무것도 아닌것들 Flag : R언어 // 고성능을 위한 언어 C++ (이론과 C++17, 메모리 관리, 동시성, STL 알고리즘 모범 사례)\n",
      "아무것도 아닌것들 Flag : 자바스크립트 // 구글 앱 엔진 시작하기 (파이썬과 자바로 함께 배우는)\n",
      "아무것도 아닌것들 Flag : 자바스크립트 // 구글 앱 엔진 시작하기 GOOGLE APP ENGINE (파이썬과 자바로 함께 배우는)\n",
      "아무것도 아닌것들 Flag : 자바스크립트 // 구글과 파이썬으로 시작하는 보안 (취약점은 이제 끝! 실전 예제와 코드로 배우는 데이터 보호)\n",
      "아무것도 아닌것들 Flag : 자바스크립트 // 구글로 공부하는 파이썬 (구글에서 찾는 파이썬 실전 예제 분석)\n",
      "아무것도 아닌것들 Flag : R언어 // 깡샘의 안드로이드 프로그래밍 (95개 실습 예제와 해설 동영상 강의 수록)\n",
      "아무것도 아닌것들 Flag : 자바스크립트 // 깡샘의 안드로이드 프로그래밍 (95개 실습 예제와 해설 동영상 강의 수록)\n",
      "아무것도 아닌것들 Flag : 자바스크립트 // 넘버원 PHP (기초문법 주무르기)\n",
      "아무것도 아닌것들 Flag : 자바스크립트 // 누구나 쓱 읽고 싹 이해하는 IT 핵심 기술\n",
      "아무것도 아닌것들 Flag : 파이썬 // 누구나 쓱 읽고 싹 이해하는 IT 핵심 기술\n",
      "아무것도 아닌것들 Flag : 자바스크립트 // 누구나 자료 구조와 알고리즘 (상식으로 이해하는 자료 구조와 알고리즘!)\n",
      "아무것도 아닌것들 Flag : 파이썬 // 누구나 자료 구조와 알고리즘 (상식으로 이해하는 자료 구조와 알고리즘!)\n",
      "아무것도 아닌것들 Flag : C언어 // 단일 페이지 웹 애플리케이션 (프론트엔드부터 백엔드까지 자바스크립트로 완성하는)\n",
      "아무것도 아닌것들 Flag : 자바스크립트 // 데이터 과학 입문과 실습 (파이썬으로 배우는,소규모 데이터셋 처리부터 빅데이터 처리,머신러닝,시각화까지)\n",
      "아무것도 아닌것들 Flag : R언어 // 데이터 과학(밑바닥부터 시작하는)(2판)(프로그래밍인사이트) (데이터 분석을 위한 파이썬 프로그래밍과 수학ㆍ통계 기초)\n",
      "아무것도 아닌것들 Flag : R언어 // 두들낙서의 C/C++ 한꺼번에 배우기 (최고의 명강의를 한 권에 담은)\n",
      "아무것도 아닌것들 Flag : 자바스크립트 // 러닝 PHP (PHP 입문에서 프레임워크를 활용한 실전 프로그래밍까지,PHP 7 기반)\n",
      "아무것도 아닌것들 Flag : C언어 // 레거시 코드 활용 전략 (손대기 두려운 낡은 코드, 안전한 변경과 테스트 기법)\n",
      "아무것도 아닌것들 Flag : 파이썬 // 루씬 인 액션 (고성능 오픈소스 자바 검색엔진)\n",
      "아무것도 아닌것들 Flag : 자바스크립트 // 루씬 인 액션 (오픈소스 자바 검색엔진)\n",
      "아무것도 아닌것들 Flag : 자바 // 리액트를 다루는 기술 (입문부터 대규모 애플리케이션까지 한 권으로)\n",
      "아무것도 아닌것들 Flag : 자바스크립트 // 리액트를 다루는 기술 (입문부터 대규모 애플리케이션까지 한 권으로)\n",
      "아무것도 아닌것들 Flag : 자바 // 리팩터링 (코드 구조를 체계적으로 개선하여 효율적인 리팩터링 구현하기, 2판)\n",
      "아무것도 아닌것들 Flag : 자바스크립트 // 리팩터링 (코드 구조를 체계적으로 개선하여 효율적인 리팩터링 구현하기, 2판)\n",
      "아무것도 아닌것들 Flag : 자바스크립트 // 마이크로비트로 메이커 되기(컴퓨터 사고력 UP!)(STEAM 창의융합교육 시리즈 7) (컴퓨팅 사고력UP)\n",
      "아무것도 아닌것들 Flag : 파이썬 // 마이크로비트로 메이커 되기(컴퓨터 사고력 UP!)(STEAM 창의융합교육 시리즈 7) (컴퓨팅 사고력UP)\n",
      "아무것도 아닌것들 Flag : 자바스크립트 // 마이크로서비스 패턴 (자바 예제로 배우는 서비스 분해, 트랜잭션 관리, CQRS, 테스트 핵심 패턴)\n",
      "아무것도 아닌것들 Flag : 파이썬 // 머신 러닝 워크북 (자바로 실습하고 이해한다)\n",
      "아무것도 아닌것들 Flag : 자바스크립트 // 머신러닝, 딥러닝 실전 개발 입문 (파이썬을 이용한,웹 크롤링과 스크레이핑부터 머신러닝,딥러닝까지 체계적으로 배우기)\n",
      "아무것도 아닌것들 Flag : 자바스크립트 // 모던 웹을 위한 HTML5+CSS3 바이블 (웹 표준을 적용한 480개의 코드로 배우는 웹 페이지 제작의 모든 것)\n",
      "아무것도 아닌것들 Flag : C언어 // 모던 자바 인 액션 (람다, 스트림, 함수형, 리액티브 프로그래밍으로 새로워진 자바 마스터하기)\n",
      "아무것도 아닌것들 Flag : 자바스크립트 // 모아 서블릿과 자바서버 페이지\n",
      "아무것도 아닌것들 Flag : R언어 // 문제 분석 중심의 C 언어 프로그래밍\n",
      "아무것도 아닌것들 Flag : 파이썬 // 빅데이터 분석 도구 R 프로그래밍 (에이콘 클라우드 컴퓨팅 시리즈 7,데이터 고급 분석과 통계 프로그래밍을 위한)\n",
      "아무것도 아닌것들 Flag : C언어 // 빅데이터 분석의 첫걸음 R코딩\n",
      "아무것도 아닌것들 Flag : 자바스크립트 // 사물인터넷을 위한 자바 (기초 이론부터 응용 사례까지 모두 배우는)\n",
      "아무것도 아닌것들 Flag : 자바스크립트 // 생활코딩! PHP+MYSQL\n",
      "아무것도 아닌것들 Flag : 자바스크립트 // 서버 사이드 AJAX (자바, PHP, ASP.NET과 함께하는 AJAX 프로그래밍)\n",
      "아무것도 아닌것들 Flag : 자바스크립트 // 성공적인 웹 프로그래밍 PHP와 MYSQL (NEW PHP7 COVERAGE)\n",
      "아무것도 아닌것들 Flag : 자바스크립트 // 손에 잡히는 10분 정규 표현식\n",
      "아무것도 아닌것들 Flag : 파이썬 // 손에 잡히는 10분 정규 표현식\n",
      "아무것도 아닌것들 Flag : 자바스크립트 // 손에 잡히는 정규 표현식\n",
      "아무것도 아닌것들 Flag : 파이썬 // 손에 잡히는 정규 표현식\n",
      "아무것도 아닌것들 Flag : 자바스크립트 // 쉽게 설명한 HTML JAVA 스크립트 CSS\n",
      "아무것도 아닌것들 Flag : C언어 // 스프링 입문을 위한 자바 객체 지향의 원리와 이해\n",
      "아무것도 아닌것들 Flag : 자바스크립트 // 실전 버그 바운티(해킹과 보안) (웹 해킹 실무 가이드)\n",
      "아무것도 아닌것들 Flag : 파이썬 // 실전 버그 바운티(해킹과 보안) (웹 해킹 실무 가이드)\n",
      "아무것도 아닌것들 Flag : 자바스크립트 // 안드로이드 프로그래밍 (실무에 바로 적용하는)\n",
      "아무것도 아닌것들 Flag : 자바스크립트 // 엔진엑스로 운용하는 효율적인 웹사이트 (웹개발자와 시스템관리자를 위한 105가지 실전 예제)\n",
      "아무것도 아닌것들 Flag : 파이썬 // 엔진엑스로 운용하는 효율적인 웹사이트 (웹개발자와 시스템관리자를 위한 105가지 실전 예제)\n",
      "아무것도 아닌것들 Flag : 자바스크립트 // 엔터프라이즈 자바 애플리케이션 구축 (아키텍처)\n",
      "아무것도 아닌것들 Flag : 자바스크립트 // 엔터프라이즈 자바빈즈 바이블\n",
      "아무것도 아닌것들 Flag : 자바스크립트 // 예제로 쉽게 배우는 JAVAFX\n",
      "아무것도 아닌것들 Flag : 자바스크립트 // 오렌지 블루의 PHP 4\n",
      "아무것도 아닌것들 Flag : 자바스크립트 // 오픈 소스 소프트웨어 아키텍처 (25개 애플리케이션으로 배우는)\n",
      "아무것도 아닌것들 Flag : 파이썬 // 오픈 소스 소프트웨어 아키텍처 (25개 애플리케이션으로 배우는)\n",
      "아무것도 아닌것들 Flag : 자바스크립트 // 웹 크롤링과 스크레이핑 (파이썬을 이용한,데이터 수집과 분석을 위한 실전 가이드)\n",
      "아무것도 아닌것들 Flag : 자바스크립트 // 웹 해킹 & 보안 완벽 가이드 (웹 애플리케이션 보안 취약점을 겨냥한 공격과 방어)\n",
      "아무것도 아닌것들 Flag : R언어 // 이것이 자바다 (신용권의 JAVA 프로그래밍 정복)\n",
      "아무것도 아닌것들 Flag : R언어 // 이더리움 쿡북 (실전 예제와 함께 배우는 이더리움 기반 토큰,게임,스마트 계약,댑 구현 방법)\n",
      "아무것도 아닌것들 Flag : 자바스크립트 // 이더리움 쿡북 (실전 예제와 함께 배우는 이더리움 기반 토큰,게임,스마트 계약,댑 구현 방법)\n",
      "아무것도 아닌것들 Flag : 파이썬 // 이보다 더 쉬울 수 없는 자바 머신러닝 WITH WEKA (코딩의 압박에서 벗어나는 새로운 머신러닝 예제 학습)\n",
      "아무것도 아닌것들 Flag : 자바 // 이펙티브 타입스크립트 (동작 원리의 이해와 구체적인 조언 62가지)\n",
      "아무것도 아닌것들 Flag : 자바스크립트 // 이펙티브 타입스크립트 (동작 원리의 이해와 구체적인 조언 62가지)\n",
      "아무것도 아닌것들 Flag : 자바스크립트 // 익스플로링 라즈베리 파이 (임베디드 리눅스와 전자회로를 이용한 라즈베리 파이 완벽 활용 가이드)\n",
      "아무것도 아닌것들 Flag : 파이썬 // 익스플로링 라즈베리 파이 (임베디드 리눅스와 전자회로를 이용한 라즈베리 파이 완벽 활용 가이드)\n",
      "아무것도 아닌것들 Flag : 자바스크립트 // 인터넷 자바게임 프로그래밍\n",
      "아무것도 아닌것들 Flag : C언어 // 자바 2를 이용한 XML 활용\n",
      "아무것도 아닌것들 Flag : 자바스크립트 // 자바 개발자도 쉽고 즐겁게 배우는 테스팅 이야기\n",
      "아무것도 아닌것들 Flag : 자바스크립트 // 자바 개발자를 위한 레일스 (RAILS FOR JAVA DEVELOPERS)\n",
      "아무것도 아닌것들 Flag : 자바스크립트 // 자바 개발자를 위한 스칼라 프로그래밍\n",
      "아무것도 아닌것들 Flag : 자바스크립트 // 자바 게임 프로그래밍\n",
      "아무것도 아닌것들 Flag : 자바스크립트 // 자바 네트워크 프로그래밍\n",
      "아무것도 아닌것들 Flag : R언어 // 자바 데이터 분석 (자바로 배우는 데이터 분석과 빅데이터 처리, 데이터 시각화 방법)\n",
      "아무것도 아닌것들 Flag : 자바스크립트 // 자바 서버 페이지\n",
      "아무것도 아닌것들 Flag : C언어 // 자바 시큐어 코딩 가이드라인 (신뢰성 있고 안전한 프로그램을 위한 75가지 권고사항)\n",
      "아무것도 아닌것들 Flag : 자바스크립트 // 자바 웹 프로그래밍 NEXT STEP (하나씩 벗겨가는 양파껍질 학습법)\n",
      "아무것도 아닌것들 Flag : 자바스크립트 // 자바 웹을 다루는 기술 (실무에서 알아야 할 기술은 따로 있다!)\n",
      "아무것도 아닌것들 Flag : C언어 // 자바 프로그래밍 FOR BEGINNER\n",
      "아무것도 아닌것들 Flag : 자바스크립트 // 자바 프로그래밍 실전 테크닉300\n",
      "아무것도 아닌것들 Flag : 자바스크립트 // 자바 프로젝트 설계와 구현\n",
      "아무것도 아닌것들 Flag : 파이썬 // 자바스크립트 JSON 쿡북 (데스크탑, 서버, 웹, 모바일 애플리케이션에서 활용하는 80가지 레시피,ACORN+PACKT 시리즈)\n",
      "아무것도 아닌것들 Flag : 자바스크립트 // 자바스트립트 1 1\n",
      "아무것도 아닌것들 Flag : R언어 // 자바와 JUNIT을 활용한 실용주의 단위 테스트\n",
      "아무것도 아닌것들 Flag : 자바스크립트 // 자바와의 만남 그리고 시작\n",
      "아무것도 아닌것들 Flag : 자바스크립트 // 자바의 또 다른 멋진 도구 ANT\n",
      "아무것도 아닌것들 Flag : 자바스크립트 // 정보보안 콘테스트를 위한 CTF 문제집 (CAPTURE THE FLAG 기출 문제 및 응용 문제 해설)\n",
      "아무것도 아닌것들 Flag : 파이썬 // 정보보안 콘테스트를 위한 CTF 문제집 (CAPTURE THE FLAG 기출 문제 및 응용 문제 해설)\n",
      "아무것도 아닌것들 Flag : 자바스크립트 // 지능의 본질과 구현 (지능의 본질과 구현 가능성을 찾아가는 위대한 여정)\n",
      "아무것도 아닌것들 Flag : 파이썬 // 지능의 본질과 구현 (지능의 본질과 구현 가능성을 찾아가는 위대한 여정)\n",
      "아무것도 아닌것들 Flag : 파이썬 // 초보자를 위한 C 언어 300제 (C 프로그래밍 시작을 위한 최고의 입문서!!!)\n",
      "아무것도 아닌것들 Flag : 자바스크립트 // 초보자를 위한 PHP 200제\n",
      "아무것도 아닌것들 Flag : 자바스크립트 // 카이 호스트만의 코어 자바 8 (현대 자바를 빠르게 학습하자!)\n",
      "아무것도 아닌것들 Flag : 자바스크립트 // 커리어 스킬 (완벽한 개발자 인생 로드맵)\n",
      "아무것도 아닌것들 Flag : 파이썬 // 커리어 스킬 (완벽한 개발자 인생 로드맵)\n"
     ]
    },
    {
     "name": "stdout",
     "output_type": "stream",
     "text": [
      "아무것도 아닌것들 Flag : C언어 // 케라스 창시자에게 배우는 딥러닝 (창시자의 철학까지 담았다!)\n",
      "아무것도 아닌것들 Flag : 파이썬 // 케라스 창시자에게 배우는 딥러닝 (창시자의 철학까지 담았다!)\n",
      "아무것도 아닌것들 Flag : 파이썬 // 코딩 교육을 위한 마이크로비트 (자바스크립트 블록 편집기 버전)\n",
      "아무것도 아닌것들 Flag : C언어 // 코딩 인터뷰 완전 분석 (189가지 프로그래밍 문제와 해법,프로그래밍인사이트)\n",
      "아무것도 아닌것들 Flag : 자바 // 코딩 인터뷰 완전 분석 (189가지 프로그래밍 문제와 해법,프로그래밍인사이트)\n",
      "아무것도 아닌것들 Flag : 자바스크립트 // 클린 코드를 위한 테스트 주도 개발 (파이썬을 이용한)\n",
      "아무것도 아닌것들 Flag : 파이썬 // 타입스크립트 프로그래밍 (더 빠르고 안정적인 자바스크립트 앱 개발을 위한 핵심 기능과 활용법)\n",
      "아무것도 아닌것들 Flag : 자바스크립트 // 파이썬 마이크로서비스 (모범 사례로 알아보는 파이썬 마이크로서비스 개발, 테스트,배포, 확장까지)\n",
      "아무것도 아닌것들 Flag : R언어 // 파이썬 머신러닝 완벽 가이드 (다양한 캐글 예제와 함께 기초 알고리즘부터 최신 기법까지 배우는)\n",
      "아무것도 아닌것들 Flag : 자바스크립트 // 파이썬 웹 스크래핑 (다양한 상황 해결을 통한 웹 스크랩)\n",
      "아무것도 아닌것들 Flag : 자바스크립트 // 파이썬 웹 스크래핑 (수많은 데이터 사이에서 필요한 정보 수집하기)\n",
      "아무것도 아닌것들 Flag : 자바스크립트 // 파이썬 웹 프로그래밍 (플라스크를 이용한 쉽고 빠른 웹 개발)\n",
      "아무것도 아닌것들 Flag : R언어 // 파이썬 프로그래밍 (누구나 쉽게 배우는)\n",
      "아무것도 아닌것들 Flag : 자바스크립트 // 파이썬 플레이그라운드 (호기심 많은 프로그래머를 위한 14가지 창의적 프로젝트)\n",
      "아무것도 아닌것들 Flag : 자바스크립트 // 파이썬과 JUPYTER NOTEBOOK (IPYTHON을 활용한 데이터 분석과 시각화)\n",
      "아무것도 아닌것들 Flag : R언어 // 파이썬으로 경험하는 빅데이터 분석과 머신러닝\n",
      "아무것도 아닌것들 Flag : 자바스크립트 // 파이썬으로 배우는 자료 구조 핵심 원리 (핵심 개념과 동작 원리로 이해하는 자료 구조)\n",
      "아무것도 아닌것들 Flag : 자바스크립트 // 파이썬으로 웹 크롤러 만들기 (초간단 나만의 웹 크롤러로 원하는 데이터를 가져오는 방법)\n",
      "아무것도 아닌것들 Flag : R언어 // 파이썬을 이용한 데이터 분석의 정석 (넘파이, 판다스, 맷플롯립과 실전 예제로 배우는)\n",
      "아무것도 아닌것들 Flag : 자바스크립트 // 파이썬을 이용한 머신러닝, 딥러닝 실전 개발 입문 (웹 크롤링과 스크레이핑부터 머신러닝ㆍ딥러닝까지 체계적으로 배우기)\n",
      "아무것도 아닌것들 Flag : 자바스크립트 // 파이썬을 활용한 데이터 길들이기 (프로그래밍인사이트,데이터 전처리 효율화 전략)\n",
      "아무것도 아닌것들 Flag : 자바스크립트 // 파이썬을 활용한 크롤러 개발과 스크레이핑 입문 (크롤러 설계와 개발부터 수집 데이터 분석과 운용까지)\n",
      "아무것도 아닌것들 Flag : C언어 // 프로그래밍 언어도감 (가장 인기있는 프로그래밍 언어 67개 수록)\n",
      "아무것도 아닌것들 Flag : R언어 // 프로그래밍 언어도감 (가장 인기있는 프로그래밍 언어 67개 수록)\n",
      "아무것도 아닌것들 Flag : 파이썬 // 프로그래밍 언어도감 (가장 인기있는 프로그래밍 언어 67개 수록)\n",
      "아무것도 아닌것들 Flag : C언어 // 프론트엔드 개발자를 위한 자바스크립트 프로그래밍\n",
      "아무것도 아닌것들 Flag : 파이썬 // 한번에 이해되는 자바 프로그래밍\n",
      "아무것도 아닌것들 Flag : 자바스크립트 // 홈페이지 제작 튼튼하게 배우기\n"
     ]
    }
   ],
   "source": [
    "df2[\"포함여부\"] = False\n",
    "for idx ,rows in df2.iterrows():\n",
    "    bools = cotainsTitle(rows[\"책제목\"], rows[\"프로그램언어\"])\n",
    "    df2.loc[idx,\"포함여부\"] = bools"
   ]
  },
  {
   "cell_type": "code",
   "execution_count": 24,
   "id": "11e73cbb",
   "metadata": {
    "id": "11e73cbb"
   },
   "outputs": [],
   "source": [
    "for idx ,rows in df2.loc[df2[\"포함여부\"] !=False].iterrows():\n",
    "    df2.loc[idx,\"프로그램언어\"] =rows[\"포함여부\"]"
   ]
  },
  {
   "cell_type": "code",
   "execution_count": 25,
   "id": "28b9a901",
   "metadata": {
    "id": "28b9a901"
   },
   "outputs": [],
   "source": [
    "df2 = df2[df2[\"포함여부\"] != False].drop([\"중복 갯수\",\"포함여부\"],axis=1).drop_duplicates().reset_index(drop=True)"
   ]
  },
  {
   "cell_type": "code",
   "execution_count": 26,
   "id": "9b060459",
   "metadata": {
    "id": "9b060459"
   },
   "outputs": [],
   "source": [
    "df2.columns = [\"책제목\",\"뉴프로그램언어\"]"
   ]
  },
  {
   "cell_type": "code",
   "execution_count": 27,
   "id": "d9849f88",
   "metadata": {
    "id": "d9849f88",
    "outputId": "68727f45-8fff-4e02-aa25-733227fece7f"
   },
   "outputs": [
    {
     "data": {
      "text/plain": [
       "(673, 2)"
      ]
     },
     "execution_count": 27,
     "metadata": {},
     "output_type": "execute_result"
    }
   ],
   "source": [
    "df2.shape"
   ]
  },
  {
   "cell_type": "code",
   "execution_count": 28,
   "id": "7b6e82fe",
   "metadata": {
    "id": "7b6e82fe",
    "outputId": "9fafed56-e72d-450e-b08e-38e25b93e626"
   },
   "outputs": [
    {
     "data": {
      "text/plain": [
       "623"
      ]
     },
     "execution_count": 28,
     "metadata": {},
     "output_type": "execute_result"
    }
   ],
   "source": [
    "df2[\"책제목\"].nunique()"
   ]
  },
  {
   "cell_type": "markdown",
   "id": "871f01b5",
   "metadata": {
    "id": "871f01b5"
   },
   "source": [
    "df2에 아직 중복된 제목이 존재한다 그래서 한번더 정제과정을 진행한다."
   ]
  },
  {
   "cell_type": "code",
   "execution_count": 29,
   "id": "d2edfbcf",
   "metadata": {
    "id": "d2edfbcf",
    "outputId": "5deb9ee4-4e52-4353-9ac4-8fd71142d736"
   },
   "outputs": [
    {
     "data": {
      "text/html": [
       "<div>\n",
       "<style scoped>\n",
       "    .dataframe tbody tr th:only-of-type {\n",
       "        vertical-align: middle;\n",
       "    }\n",
       "\n",
       "    .dataframe tbody tr th {\n",
       "        vertical-align: top;\n",
       "    }\n",
       "\n",
       "    .dataframe thead th {\n",
       "        text-align: right;\n",
       "    }\n",
       "</style>\n",
       "<table border=\"1\" class=\"dataframe\">\n",
       "  <thead>\n",
       "    <tr style=\"text-align: right;\">\n",
       "      <th></th>\n",
       "      <th>뉴프로그램언어</th>\n",
       "    </tr>\n",
       "    <tr>\n",
       "      <th>책제목</th>\n",
       "      <th></th>\n",
       "    </tr>\n",
       "  </thead>\n",
       "  <tbody>\n",
       "    <tr>\n",
       "      <th>시나공 정보처리기사 실기 (C와 JAVA의 기,산업기사 포함,2019)</th>\n",
       "      <td>2</td>\n",
       "    </tr>\n",
       "    <tr>\n",
       "      <th>알기 쉬운 파이썬 SQL 코딩하기(나도 코딩한다)</th>\n",
       "      <td>2</td>\n",
       "    </tr>\n",
       "    <tr>\n",
       "      <th>이것이 MySQL이다 (MySQL 설치부터 PHP, 파이썬 연동까지 한번에!)</th>\n",
       "      <td>2</td>\n",
       "    </tr>\n",
       "    <tr>\n",
       "      <th>이것이 취업을 위한 코딩 테스트다 with 파이썬 (취업과 이직을 결정하는 알고리즘 인터뷰 완벽 가이드, C/C++, 자바 코드 제공)</th>\n",
       "      <td>3</td>\n",
       "    </tr>\n",
       "    <tr>\n",
       "      <th>초보자를 위한 PHP, MySQL, Apache</th>\n",
       "      <td>3</td>\n",
       "    </tr>\n",
       "  </tbody>\n",
       "</table>\n",
       "</div>"
      ],
      "text/plain": [
       "                                                    뉴프로그램언어\n",
       "책제목                                                        \n",
       "시나공 정보처리기사 실기 (C와 JAVA의 기,산업기사 포함,2019)                   2\n",
       "알기 쉬운 파이썬 SQL 코딩하기(나도 코딩한다)                               2\n",
       "이것이 MySQL이다 (MySQL 설치부터 PHP, 파이썬 연동까지 한번에!)               2\n",
       "이것이 취업을 위한 코딩 테스트다 with 파이썬 (취업과 이직을 결정하는 알고리즘 ...        3\n",
       "초보자를 위한 PHP, MySQL, Apache                                3"
      ]
     },
     "execution_count": 29,
     "metadata": {},
     "output_type": "execute_result"
    }
   ],
   "source": [
    "dfM = df2.groupby(\"책제목\").count()\n",
    "\n",
    "dfM[dfM[\"뉴프로그램언어\"] >1].tail()"
   ]
  },
  {
   "cell_type": "markdown",
   "id": "59aef6e2",
   "metadata": {
    "id": "59aef6e2"
   },
   "source": [
    "원본데이터에서 해당 책 제목으로 isbn이 같은지 확인한다."
   ]
  },
  {
   "cell_type": "code",
   "execution_count": 30,
   "id": "bb4cb0e4",
   "metadata": {
    "id": "bb4cb0e4",
    "outputId": "e64df808-f154-4e88-bc53-a83a571b611a"
   },
   "outputs": [
    {
     "data": {
      "text/plain": [
       "1873    1162243074 9791162243077\n",
       "1874    1162243074 9791162243077\n",
       "1875    1162243074 9791162243077\n",
       "1876    1162243074 9791162243077\n",
       "Name: isbn, dtype: object"
      ]
     },
     "execution_count": 30,
     "metadata": {},
     "output_type": "execute_result"
    }
   ],
   "source": [
    "df[df[\"책제목\"]==\"이것이 취업을 위한 코딩 테스트다 with 파이썬 (취업과 이직을 결정하는 알고리즘 인터뷰 완벽 가이드, C/C++, 자바 코드 제공)\"][\"isbn\"]"
   ]
  },
  {
   "cell_type": "markdown",
   "id": "4d7ae35e",
   "metadata": {
    "id": "4d7ae35e"
   },
   "source": [
    "책 이름에 두가지 이상의 언어가 수록된 책들이 포함되어 있다 이 책들은 같은 isbn\t값을 가지고 이 책을 어떤 언어책이다 라고 통합하여 말할 수 없기에 해당 책들은 삭제하고 진행한다."
   ]
  },
  {
   "cell_type": "code",
   "execution_count": 31,
   "id": "3541e99e",
   "metadata": {
    "id": "3541e99e",
    "outputId": "3db7b84f-1393-440a-e590-862d256a518c"
   },
   "outputs": [
    {
     "data": {
      "text/plain": [
       "(579, 2)"
      ]
     },
     "execution_count": 31,
     "metadata": {},
     "output_type": "execute_result"
    }
   ],
   "source": [
    "df2 = df2.set_index(\"책제목\").loc[dfM[dfM[\"뉴프로그램언어\"] ==1].index].reset_index()\n",
    "df2.shape"
   ]
  },
  {
   "cell_type": "code",
   "execution_count": 32,
   "id": "78a69a2a",
   "metadata": {
    "id": "78a69a2a",
    "outputId": "ec73ade1-13a0-4bb2-c1e5-be947df249b5"
   },
   "outputs": [
    {
     "name": "stdout",
     "output_type": "stream",
     "text": [
      "579 579\n"
     ]
    }
   ],
   "source": [
    "print(df2[\"책제목\"].nunique(), df2.shape[0])"
   ]
  },
  {
   "cell_type": "markdown",
   "id": "42405588",
   "metadata": {
    "id": "42405588"
   },
   "source": [
    "중복된 책 제목에 대해서 정제가 완료됐다면, 데이터를 병합한다."
   ]
  },
  {
   "cell_type": "code",
   "execution_count": 33,
   "id": "97595f1f",
   "metadata": {
    "id": "97595f1f"
   },
   "outputs": [],
   "source": [
    "df = df.merge(df2,on=\"책제목\",how=\"outer\")"
   ]
  },
  {
   "cell_type": "markdown",
   "id": "1c7bc531",
   "metadata": {
    "id": "1c7bc531"
   },
   "source": [
    "데이터 검증"
   ]
  },
  {
   "cell_type": "code",
   "execution_count": 34,
   "id": "1b0da9e3",
   "metadata": {
    "id": "1b0da9e3",
    "outputId": "28e78549-66e1-4499-9695-d4a3616aeb30"
   },
   "outputs": [
    {
     "data": {
      "text/plain": [
       "set()"
      ]
     },
     "execution_count": 34,
     "metadata": {},
     "output_type": "execute_result"
    }
   ],
   "source": [
    "set(df[df[\"뉴프로그램언어\"].notnull()][\"책제목\"].values) - set(df2[\"책제목\"].values)"
   ]
  },
  {
   "cell_type": "code",
   "execution_count": 35,
   "id": "18f0ae0b",
   "metadata": {
    "id": "18f0ae0b",
    "outputId": "db3de3e3-4af2-45e7-bf7d-425a7a702179"
   },
   "outputs": [
    {
     "data": {
      "text/plain": [
       "set()"
      ]
     },
     "execution_count": 35,
     "metadata": {},
     "output_type": "execute_result"
    }
   ],
   "source": [
    "set(df2[\"책제목\"].values) - set(df[df[\"뉴프로그램언어\"].notnull()][\"책제목\"].values)"
   ]
  },
  {
   "cell_type": "code",
   "execution_count": 36,
   "id": "131fb642",
   "metadata": {
    "id": "131fb642",
    "outputId": "0d82dc48-4e35-47c8-eda2-1e32eddafa91"
   },
   "outputs": [
    {
     "data": {
      "text/plain": [
       "579"
      ]
     },
     "execution_count": 36,
     "metadata": {},
     "output_type": "execute_result"
    }
   ],
   "source": [
    "len(set(df2[\"책제목\"].values) & set(df[df[\"뉴프로그램언어\"].notnull()][\"책제목\"].values))"
   ]
  },
  {
   "cell_type": "code",
   "execution_count": 37,
   "id": "60955099",
   "metadata": {
    "id": "60955099",
    "outputId": "73ec697f-72ac-4cba-ed16-bad513923bdd"
   },
   "outputs": [
    {
     "data": {
      "text/plain": [
       "(725, 10)"
      ]
     },
     "execution_count": 37,
     "metadata": {},
     "output_type": "execute_result"
    }
   ],
   "source": [
    "temp = df[df[\"뉴프로그램언어\"].notnull()].drop([\"프로그램언어\",\"count\"],axis=1).drop_duplicates()\n",
    "temp.shape"
   ]
  },
  {
   "cell_type": "markdown",
   "id": "1f11b20c",
   "metadata": {
    "id": "1f11b20c"
   },
   "source": [
    "이름이 유닉크한 값이 579개가 발생해야하느데 df에서 정재 후 나온 temp의 shape은 725개이다. 그러면 이름을 제외하고 가격이나 할인된 가격 등 정보가 다른것이 있기에 약 150개가 중복된 데이터가 존재하는 것을 알수 있다.\n",
    "\n",
    "그래서 해당 데이터들에 대해서 조사를 진행한다."
   ]
  },
  {
   "cell_type": "markdown",
   "id": "6147e8d6",
   "metadata": {
    "id": "6147e8d6"
   },
   "source": [
    "* 중복된 책들에 대해 출판사에 대해 조사"
   ]
  },
  {
   "cell_type": "code",
   "execution_count": 38,
   "id": "804e01b2",
   "metadata": {
    "id": "804e01b2"
   },
   "outputs": [],
   "source": [
    "temp1 = temp[[\"책제목\",\"출판사\"]].drop_duplicates()"
   ]
  },
  {
   "cell_type": "code",
   "execution_count": 39,
   "id": "5cafe7fc",
   "metadata": {
    "id": "5cafe7fc",
    "outputId": "93e40a91-0597-4588-a54e-0142cac1a9da"
   },
   "outputs": [
    {
     "data": {
      "text/html": [
       "<div>\n",
       "<style scoped>\n",
       "    .dataframe tbody tr th:only-of-type {\n",
       "        vertical-align: middle;\n",
       "    }\n",
       "\n",
       "    .dataframe tbody tr th {\n",
       "        vertical-align: top;\n",
       "    }\n",
       "\n",
       "    .dataframe thead th {\n",
       "        text-align: right;\n",
       "    }\n",
       "</style>\n",
       "<table border=\"1\" class=\"dataframe\">\n",
       "  <thead>\n",
       "    <tr style=\"text-align: right;\">\n",
       "      <th></th>\n",
       "      <th>책제목</th>\n",
       "      <th>출판사</th>\n",
       "      <th>뉴</th>\n",
       "    </tr>\n",
       "  </thead>\n",
       "  <tbody>\n",
       "    <tr>\n",
       "      <th>3159</th>\n",
       "      <td>C 언어 프로그래밍</td>\n",
       "      <td>기한재</td>\n",
       "      <td>1</td>\n",
       "    </tr>\n",
       "    <tr>\n",
       "      <th>3160</th>\n",
       "      <td>C 언어 프로그래밍</td>\n",
       "      <td>정일</td>\n",
       "      <td>1</td>\n",
       "    </tr>\n",
       "  </tbody>\n",
       "</table>\n",
       "</div>"
      ],
      "text/plain": [
       "             책제목  출판사  뉴\n",
       "3159  C 언어 프로그래밍  기한재  1\n",
       "3160  C 언어 프로그래밍   정일  1"
      ]
     },
     "execution_count": 39,
     "metadata": {},
     "output_type": "execute_result"
    }
   ],
   "source": [
    "temp1[\"뉴\"]= 1\n",
    "\n",
    "temp1[\"뉴\"] = temp1.groupby([\"책제목\",\"출판사\"]).cumsum()\n",
    "\n",
    "temp1[temp1[\"뉴\"] != 1]\n",
    "\n",
    "temp[\"책제목\"].nunique()\n",
    "\n",
    "ax = temp1.groupby(\"책제목\").count()\n",
    "ax[ax[\"뉴\"] !=1].head(2)\n",
    "\n",
    "temp1[temp1[\"책제목\"] ==\"C 언어 프로그래밍\"]"
   ]
  },
  {
   "cell_type": "markdown",
   "id": "a755a924",
   "metadata": {
    "id": "a755a924"
   },
   "source": [
    "같은 책 제목이지만 출판사가 다르다는 특징이 존재했다.\n",
    "\n",
    "* 책들의 가격 조사"
   ]
  },
  {
   "cell_type": "code",
   "execution_count": 40,
   "id": "dd0eaaed",
   "metadata": {
    "id": "dd0eaaed",
    "outputId": "841a46de-0cf1-4557-83cc-dacf649e6d05"
   },
   "outputs": [
    {
     "data": {
      "text/html": [
       "<div>\n",
       "<style scoped>\n",
       "    .dataframe tbody tr th:only-of-type {\n",
       "        vertical-align: middle;\n",
       "    }\n",
       "\n",
       "    .dataframe tbody tr th {\n",
       "        vertical-align: top;\n",
       "    }\n",
       "\n",
       "    .dataframe thead th {\n",
       "        text-align: right;\n",
       "    }\n",
       "</style>\n",
       "<table border=\"1\" class=\"dataframe\">\n",
       "  <thead>\n",
       "    <tr style=\"text-align: right;\">\n",
       "      <th></th>\n",
       "      <th></th>\n",
       "      <th>뉴프로그램언어</th>\n",
       "    </tr>\n",
       "    <tr>\n",
       "      <th>책제목</th>\n",
       "      <th>출판사</th>\n",
       "      <th></th>\n",
       "    </tr>\n",
       "  </thead>\n",
       "  <tbody>\n",
       "    <tr>\n",
       "      <th>Building Machine Learning Systems with Python (한국어판,Scikit-learn 라이브러리로 구현하는 기계 학습 시스템)</th>\n",
       "      <th>에이콘출판</th>\n",
       "      <td>2</td>\n",
       "    </tr>\n",
       "    <tr>\n",
       "      <th>C# 30일 완성</th>\n",
       "      <th>영진닷컴</th>\n",
       "      <td>2</td>\n",
       "    </tr>\n",
       "    <tr>\n",
       "      <th>C# 프로그래밍</th>\n",
       "      <th>한빛미디어</th>\n",
       "      <td>2</td>\n",
       "    </tr>\n",
       "    <tr>\n",
       "      <th>C#으로 만들어 보는 시스템 트레이딩 for 키움증권</th>\n",
       "      <th>퍼플</th>\n",
       "      <td>2</td>\n",
       "    </tr>\n",
       "    <tr>\n",
       "      <th>C++ 기초 플러스</th>\n",
       "      <th>성안당</th>\n",
       "      <td>3</td>\n",
       "    </tr>\n",
       "    <tr>\n",
       "      <th>...</th>\n",
       "      <th>...</th>\n",
       "      <td>...</td>\n",
       "    </tr>\n",
       "    <tr>\n",
       "      <th>프로그래머를 위한 JAVA 2</th>\n",
       "      <th>홍릉과학출판사</th>\n",
       "      <td>2</td>\n",
       "    </tr>\n",
       "    <tr>\n",
       "      <th>한권으로 마스터하는 자바프로그래밍</th>\n",
       "      <th>퍼플</th>\n",
       "      <td>2</td>\n",
       "    </tr>\n",
       "    <tr>\n",
       "      <th>한권으로 마스터하는 자바프로그래밍 - 2013 개정판</th>\n",
       "      <th>퍼플</th>\n",
       "      <td>2</td>\n",
       "    </tr>\n",
       "    <tr>\n",
       "      <th>한글 VISUAL BASIC 5</th>\n",
       "      <th>크라운출판사</th>\n",
       "      <td>2</td>\n",
       "    </tr>\n",
       "    <tr>\n",
       "      <th>홈페이지 만들기 (HTML과 자바 스크립트 중심으로)</th>\n",
       "      <th>생능출판사</th>\n",
       "      <td>3</td>\n",
       "    </tr>\n",
       "  </tbody>\n",
       "</table>\n",
       "<p>83 rows × 1 columns</p>\n",
       "</div>"
      ],
      "text/plain": [
       "                                                            뉴프로그램언어\n",
       "책제목                                                출판사             \n",
       "Building Machine Learning Systems with Python (... 에이콘출판          2\n",
       "C# 30일 완성                                          영진닷컴           2\n",
       "C# 프로그래밍                                           한빛미디어          2\n",
       "C#으로 만들어 보는 시스템 트레이딩 for 키움증권                      퍼플             2\n",
       "C++ 기초 플러스                                         성안당            3\n",
       "...                                                             ...\n",
       "프로그래머를 위한 JAVA 2                                   홍릉과학출판사        2\n",
       "한권으로 마스터하는 자바프로그래밍                                 퍼플             2\n",
       "한권으로 마스터하는 자바프로그래밍 - 2013 개정판                      퍼플             2\n",
       "한글 VISUAL BASIC 5                                  크라운출판사         2\n",
       "홈페이지 만들기 (HTML과 자바 스크립트 중심으로)                      생능출판사          3\n",
       "\n",
       "[83 rows x 1 columns]"
      ]
     },
     "execution_count": 40,
     "metadata": {},
     "output_type": "execute_result"
    }
   ],
   "source": [
    "# 해당 책들이 가격이 다르다. \n",
    "t = temp[[\"책제목\",\"출판사\",\"뉴프로그램언어\"]].groupby([\"책제목\",\"출판사\"]).agg(\"count\")\n",
    "t[t[\"뉴프로그램언어\"] !=1]"
   ]
  },
  {
   "cell_type": "code",
   "execution_count": 41,
   "id": "15bc1671",
   "metadata": {
    "id": "15bc1671",
    "outputId": "3fd974af-724e-42cc-9d43-8101210f0a7c"
   },
   "outputs": [
    {
     "data": {
      "text/html": [
       "<div>\n",
       "<style scoped>\n",
       "    .dataframe tbody tr th:only-of-type {\n",
       "        vertical-align: middle;\n",
       "    }\n",
       "\n",
       "    .dataframe tbody tr th {\n",
       "        vertical-align: top;\n",
       "    }\n",
       "\n",
       "    .dataframe thead th {\n",
       "        text-align: right;\n",
       "    }\n",
       "</style>\n",
       "<table border=\"1\" class=\"dataframe\">\n",
       "  <thead>\n",
       "    <tr style=\"text-align: right;\">\n",
       "      <th></th>\n",
       "      <th>책제목</th>\n",
       "      <th>가격</th>\n",
       "      <th>isbn</th>\n",
       "      <th>작가</th>\n",
       "      <th>출판사</th>\n",
       "      <th>할인된기격</th>\n",
       "      <th>출판일</th>\n",
       "      <th>링크</th>\n",
       "      <th>중복 갯수</th>\n",
       "      <th>뉴프로그램언어</th>\n",
       "    </tr>\n",
       "  </thead>\n",
       "  <tbody>\n",
       "    <tr>\n",
       "      <th>782</th>\n",
       "      <td>C# 30일 완성</td>\n",
       "      <td>23000.0</td>\n",
       "      <td>8931419872 9788931419870</td>\n",
       "      <td>손호성</td>\n",
       "      <td>영진닷컴</td>\n",
       "      <td>NaN</td>\n",
       "      <td>20020105</td>\n",
       "      <td>http://book.naver.com/bookdb/book_detail.php?b...</td>\n",
       "      <td>2</td>\n",
       "      <td>c#</td>\n",
       "    </tr>\n",
       "    <tr>\n",
       "      <th>783</th>\n",
       "      <td>C# 30일 완성</td>\n",
       "      <td>26000.0</td>\n",
       "      <td>893142146X 9788931421460</td>\n",
       "      <td>손호성</td>\n",
       "      <td>영진닷컴</td>\n",
       "      <td>NaN</td>\n",
       "      <td>20020701</td>\n",
       "      <td>http://book.naver.com/bookdb/book_detail.php?b...</td>\n",
       "      <td>2</td>\n",
       "      <td>c#</td>\n",
       "    </tr>\n",
       "  </tbody>\n",
       "</table>\n",
       "</div>"
      ],
      "text/plain": [
       "           책제목       가격                      isbn   작가   출판사  할인된기격       출판일  \\\n",
       "782  C# 30일 완성  23000.0  8931419872 9788931419870  손호성  영진닷컴    NaN  20020105   \n",
       "783  C# 30일 완성  26000.0  893142146X 9788931421460  손호성  영진닷컴    NaN  20020701   \n",
       "\n",
       "                                                    링크  중복 갯수 뉴프로그램언어  \n",
       "782  http://book.naver.com/bookdb/book_detail.php?b...      2      c#  \n",
       "783  http://book.naver.com/bookdb/book_detail.php?b...      2      c#  "
      ]
     },
     "execution_count": 41,
     "metadata": {},
     "output_type": "execute_result"
    }
   ],
   "source": [
    "temp[temp[\"책제목\"] ==\"C# 30일 완성\"]"
   ]
  },
  {
   "cell_type": "markdown",
   "id": "b0e530b0",
   "metadata": {
    "id": "b0e530b0"
   },
   "source": [
    "같은 출판사이지만 책의 가격이 다르며 isbn도 다른것을 알수 있었다. 그렇기에 해당 책들은 다른 책이며, 또 isbn이 다른 이유로는 인쇄책과 전자책일 경우 서로 다른 isbn을 갖기 때문에 해당 책은 다른 책으로 볼수 있다."
   ]
  },
  {
   "cell_type": "code",
   "execution_count": 42,
   "id": "99fe1d0f",
   "metadata": {
    "id": "99fe1d0f",
    "outputId": "38f9a9bb-2602-4667-855c-21eb46f49966"
   },
   "outputs": [
    {
     "data": {
      "text/html": [
       "<div>\n",
       "<style scoped>\n",
       "    .dataframe tbody tr th:only-of-type {\n",
       "        vertical-align: middle;\n",
       "    }\n",
       "\n",
       "    .dataframe tbody tr th {\n",
       "        vertical-align: top;\n",
       "    }\n",
       "\n",
       "    .dataframe thead th {\n",
       "        text-align: right;\n",
       "    }\n",
       "</style>\n",
       "<table border=\"1\" class=\"dataframe\">\n",
       "  <thead>\n",
       "    <tr style=\"text-align: right;\">\n",
       "      <th></th>\n",
       "      <th>책제목</th>\n",
       "      <th>가격</th>\n",
       "      <th>isbn</th>\n",
       "      <th>작가</th>\n",
       "      <th>출판사</th>\n",
       "      <th>할인된기격</th>\n",
       "      <th>출판일</th>\n",
       "      <th>링크</th>\n",
       "      <th>중복 갯수</th>\n",
       "      <th>뉴프로그램언어</th>\n",
       "    </tr>\n",
       "  </thead>\n",
       "  <tbody>\n",
       "    <tr>\n",
       "      <th>0</th>\n",
       "      <td>Effective Python 2nd 이펙티브 파이썬 : 파이썬 코딩의 기술 (똑똑...</td>\n",
       "      <td>32000.0</td>\n",
       "      <td>1165213192 9791165213190</td>\n",
       "      <td>브렛 슬라킨 지음|오현석</td>\n",
       "      <td>길벗</td>\n",
       "      <td>28800.0</td>\n",
       "      <td>20201030</td>\n",
       "      <td>http://book.naver.com/bookdb/book_detail.php?b...</td>\n",
       "      <td>3</td>\n",
       "      <td>파이썬</td>\n",
       "    </tr>\n",
       "    <tr>\n",
       "      <th>5</th>\n",
       "      <td>COS Pro 2급 C 언어 (프로그래머를 향한 출발점,교재+모의고사)</td>\n",
       "      <td>20000.0</td>\n",
       "      <td>1160504113 9791160504118</td>\n",
       "      <td>남재윤</td>\n",
       "      <td>길벗</td>\n",
       "      <td>18000.0</td>\n",
       "      <td>20180215</td>\n",
       "      <td>http://book.naver.com/bookdb/book_detail.php?b...</td>\n",
       "      <td>2</td>\n",
       "      <td>C언어</td>\n",
       "    </tr>\n",
       "    <tr>\n",
       "      <th>14</th>\n",
       "      <td>코딩 테스트를 위한 자료 구조와 알고리즘 with C++ (67개 문제 풀이로 익히자!)</td>\n",
       "      <td>32000.0</td>\n",
       "      <td>1165213796 9791165213794</td>\n",
       "      <td>존 캐리|셰리안 도시|파야스 라잔</td>\n",
       "      <td>길벗</td>\n",
       "      <td>28800.0</td>\n",
       "      <td>20201208</td>\n",
       "      <td>http://book.naver.com/bookdb/book_detail.php?b...</td>\n",
       "      <td>2</td>\n",
       "      <td>c++</td>\n",
       "    </tr>\n",
       "    <tr>\n",
       "      <th>16</th>\n",
       "      <td>모두의 알고리즘 with 파이썬 (컴퓨팅 사고를 위한 기초 알고리즘)</td>\n",
       "      <td>16000.0</td>\n",
       "      <td>1160501726 9791160501728</td>\n",
       "      <td>이승찬</td>\n",
       "      <td>길벗</td>\n",
       "      <td>14400.0</td>\n",
       "      <td>20170518</td>\n",
       "      <td>http://book.naver.com/bookdb/book_detail.php?b...</td>\n",
       "      <td>2</td>\n",
       "      <td>파이썬</td>\n",
       "    </tr>\n",
       "    <tr>\n",
       "      <th>20</th>\n",
       "      <td>리팩토링 자바스크립트 (지저분한 자바 스크립트 코드에서 벗어나자!)</td>\n",
       "      <td>36000.0</td>\n",
       "      <td>1160505896 9791160505894</td>\n",
       "      <td>에반 버차드</td>\n",
       "      <td>길벗</td>\n",
       "      <td>32400.0</td>\n",
       "      <td>20181012</td>\n",
       "      <td>http://book.naver.com/bookdb/book_detail.php?b...</td>\n",
       "      <td>4</td>\n",
       "      <td>자바스크립트</td>\n",
       "    </tr>\n",
       "    <tr>\n",
       "      <th>...</th>\n",
       "      <td>...</td>\n",
       "      <td>...</td>\n",
       "      <td>...</td>\n",
       "      <td>...</td>\n",
       "      <td>...</td>\n",
       "      <td>...</td>\n",
       "      <td>...</td>\n",
       "      <td>...</td>\n",
       "      <td>...</td>\n",
       "      <td>...</td>\n",
       "    </tr>\n",
       "    <tr>\n",
       "      <th>4363</th>\n",
       "      <td>자바스크립트 쉽고 빠르게</td>\n",
       "      <td>17000.0</td>\n",
       "      <td>8981930848 9788981930844</td>\n",
       "      <td>송기열</td>\n",
       "      <td>피씨북</td>\n",
       "      <td>NaN</td>\n",
       "      <td>20020720</td>\n",
       "      <td>http://book.naver.com/bookdb/book_detail.php?b...</td>\n",
       "      <td>2</td>\n",
       "      <td>자바스크립트</td>\n",
       "    </tr>\n",
       "    <tr>\n",
       "      <th>4378</th>\n",
       "      <td>거침없이 배우는 자바스크립트 &amp; 제이쿼리</td>\n",
       "      <td>35000.0</td>\n",
       "      <td>899382794X 9788993827941</td>\n",
       "      <td>데이비드 소이어 맥파랜드</td>\n",
       "      <td>지앤선</td>\n",
       "      <td>31500.0</td>\n",
       "      <td>20150430</td>\n",
       "      <td>http://book.naver.com/bookdb/book_detail.php?b...</td>\n",
       "      <td>2</td>\n",
       "      <td>자바스크립트</td>\n",
       "    </tr>\n",
       "    <tr>\n",
       "      <th>4380</th>\n",
       "      <td>거침없이 배우는 자바스크립트</td>\n",
       "      <td>35000.0</td>\n",
       "      <td>8993827249 9788993827248</td>\n",
       "      <td>데이비드 소이어 맥파랜드</td>\n",
       "      <td>지앤선</td>\n",
       "      <td>NaN</td>\n",
       "      <td>20101004</td>\n",
       "      <td>http://book.naver.com/bookdb/book_detail.php?b...</td>\n",
       "      <td>2</td>\n",
       "      <td>자바스크립트</td>\n",
       "    </tr>\n",
       "    <tr>\n",
       "      <th>4382</th>\n",
       "      <td>거침없이 배우는 커피 스크립트 (더 빠른 자바스크립트 개발을 위한)</td>\n",
       "      <td>18000.0</td>\n",
       "      <td>8993827583 9788993827583</td>\n",
       "      <td>트레버 번햄</td>\n",
       "      <td>지앤선</td>\n",
       "      <td>16200.0</td>\n",
       "      <td>20131209</td>\n",
       "      <td>http://book.naver.com/bookdb/book_detail.php?b...</td>\n",
       "      <td>2</td>\n",
       "      <td>자바스크립트</td>\n",
       "    </tr>\n",
       "    <tr>\n",
       "      <th>4404</th>\n",
       "      <td>자바 웹 프로그래밍 Next Step (하나씩 벗겨가는 양파껍질 학습법)</td>\n",
       "      <td>30000.0</td>\n",
       "      <td>8997924249 9788997924240</td>\n",
       "      <td>박재성</td>\n",
       "      <td>로드북</td>\n",
       "      <td>27000.0</td>\n",
       "      <td>20160919</td>\n",
       "      <td>http://book.naver.com/bookdb/book_detail.php?b...</td>\n",
       "      <td>2</td>\n",
       "      <td>자바</td>\n",
       "    </tr>\n",
       "  </tbody>\n",
       "</table>\n",
       "<p>725 rows × 10 columns</p>\n",
       "</div>"
      ],
      "text/plain": [
       "                                                    책제목       가격  \\\n",
       "0     Effective Python 2nd 이펙티브 파이썬 : 파이썬 코딩의 기술 (똑똑...  32000.0   \n",
       "5               COS Pro 2급 C 언어 (프로그래머를 향한 출발점,교재+모의고사)  20000.0   \n",
       "14    코딩 테스트를 위한 자료 구조와 알고리즘 with C++ (67개 문제 풀이로 익히자!)  32000.0   \n",
       "16               모두의 알고리즘 with 파이썬 (컴퓨팅 사고를 위한 기초 알고리즘)  16000.0   \n",
       "20                리팩토링 자바스크립트 (지저분한 자바 스크립트 코드에서 벗어나자!)  36000.0   \n",
       "...                                                 ...      ...   \n",
       "4363                                      자바스크립트 쉽고 빠르게  17000.0   \n",
       "4378                             거침없이 배우는 자바스크립트 & 제이쿼리  35000.0   \n",
       "4380                                    거침없이 배우는 자바스크립트  35000.0   \n",
       "4382              거침없이 배우는 커피 스크립트 (더 빠른 자바스크립트 개발을 위한)  18000.0   \n",
       "4404           자바 웹 프로그래밍 Next Step (하나씩 벗겨가는 양파껍질 학습법)  30000.0   \n",
       "\n",
       "                          isbn                  작가  출판사    할인된기격       출판일  \\\n",
       "0     1165213192 9791165213190       브렛 슬라킨 지음|오현석   길벗  28800.0  20201030   \n",
       "5     1160504113 9791160504118                 남재윤   길벗  18000.0  20180215   \n",
       "14    1165213796 9791165213794  존 캐리|셰리안 도시|파야스 라잔   길벗  28800.0  20201208   \n",
       "16    1160501726 9791160501728                 이승찬   길벗  14400.0  20170518   \n",
       "20    1160505896 9791160505894              에반 버차드   길벗  32400.0  20181012   \n",
       "...                        ...                 ...  ...      ...       ...   \n",
       "4363  8981930848 9788981930844                 송기열  피씨북      NaN  20020720   \n",
       "4378  899382794X 9788993827941       데이비드 소이어 맥파랜드  지앤선  31500.0  20150430   \n",
       "4380  8993827249 9788993827248       데이비드 소이어 맥파랜드  지앤선      NaN  20101004   \n",
       "4382  8993827583 9788993827583              트레버 번햄  지앤선  16200.0  20131209   \n",
       "4404  8997924249 9788997924240                 박재성  로드북  27000.0  20160919   \n",
       "\n",
       "                                                     링크  중복 갯수 뉴프로그램언어  \n",
       "0     http://book.naver.com/bookdb/book_detail.php?b...      3     파이썬  \n",
       "5     http://book.naver.com/bookdb/book_detail.php?b...      2     C언어  \n",
       "14    http://book.naver.com/bookdb/book_detail.php?b...      2     c++  \n",
       "16    http://book.naver.com/bookdb/book_detail.php?b...      2     파이썬  \n",
       "20    http://book.naver.com/bookdb/book_detail.php?b...      4  자바스크립트  \n",
       "...                                                 ...    ...     ...  \n",
       "4363  http://book.naver.com/bookdb/book_detail.php?b...      2  자바스크립트  \n",
       "4378  http://book.naver.com/bookdb/book_detail.php?b...      2  자바스크립트  \n",
       "4380  http://book.naver.com/bookdb/book_detail.php?b...      2  자바스크립트  \n",
       "4382  http://book.naver.com/bookdb/book_detail.php?b...      2  자바스크립트  \n",
       "4404  http://book.naver.com/bookdb/book_detail.php?b...      2      자바  \n",
       "\n",
       "[725 rows x 10 columns]"
      ]
     },
     "execution_count": 42,
     "metadata": {},
     "output_type": "execute_result"
    }
   ],
   "source": [
    "temp"
   ]
  },
  {
   "cell_type": "markdown",
   "id": "3183846d",
   "metadata": {
    "id": "3183846d"
   },
   "source": [
    "책제목 정보가 오직 한개인 데이터에 대해서 뉴프로그램언어 컬럼에 이전 프로그램언어 정보를 기입한다."
   ]
  },
  {
   "cell_type": "code",
   "execution_count": 43,
   "id": "fa50e5fa",
   "metadata": {
    "id": "fa50e5fa",
    "outputId": "2dd098b9-66cc-4221-d720-2d6f3186101b"
   },
   "outputs": [
    {
     "name": "stderr",
     "output_type": "stream",
     "text": [
      "C:\\Users\\jongwon\\miniconda3\\envs\\ds_study\\lib\\site-packages\\pandas\\core\\indexing.py:1817: SettingWithCopyWarning: \n",
      "A value is trying to be set on a copy of a slice from a DataFrame.\n",
      "Try using .loc[row_indexer,col_indexer] = value instead\n",
      "\n",
      "See the caveats in the documentation: https://pandas.pydata.org/pandas-docs/stable/user_guide/indexing.html#returning-a-view-versus-a-copy\n",
      "  self._setitem_single_column(loc, value, pi)\n",
      "C:\\Users\\jongwon\\miniconda3\\envs\\ds_study\\lib\\site-packages\\pandas\\core\\frame.py:4901: SettingWithCopyWarning: \n",
      "A value is trying to be set on a copy of a slice from a DataFrame\n",
      "\n",
      "See the caveats in the documentation: https://pandas.pydata.org/pandas-docs/stable/user_guide/indexing.html#returning-a-view-versus-a-copy\n",
      "  return super().drop(\n"
     ]
    },
    {
     "data": {
      "text/plain": [
       "0"
      ]
     },
     "execution_count": 43,
     "metadata": {},
     "output_type": "execute_result"
    }
   ],
   "source": [
    "normalTemp = df[df[\"뉴프로그램언어\"].isnull()]\n",
    "for idx, rows in normalTemp.iterrows():\n",
    "    normalTemp.loc[idx,\"뉴프로그램언어\"] = rows[\"프로그램언어\"]\n",
    "normalTemp.drop([\"프로그램언어\",\"count\"],axis=1,inplace=True)\n",
    "normalTemp[\"뉴프로그램언어\"].isnull().sum()"
   ]
  },
  {
   "cell_type": "code",
   "execution_count": 44,
   "id": "abf4e435",
   "metadata": {
    "id": "abf4e435",
    "outputId": "22db0a47-605c-4da8-9d69-a27bafad5efd"
   },
   "outputs": [
    {
     "name": "stdout",
     "output_type": "stream",
     "text": [
      "공통된 isbn 찾기전까지 정제된 data shape :  (3853, 10)\n"
     ]
    },
    {
     "data": {
      "text/html": [
       "<div>\n",
       "<style scoped>\n",
       "    .dataframe tbody tr th:only-of-type {\n",
       "        vertical-align: middle;\n",
       "    }\n",
       "\n",
       "    .dataframe tbody tr th {\n",
       "        vertical-align: top;\n",
       "    }\n",
       "\n",
       "    .dataframe thead th {\n",
       "        text-align: right;\n",
       "    }\n",
       "</style>\n",
       "<table border=\"1\" class=\"dataframe\">\n",
       "  <thead>\n",
       "    <tr style=\"text-align: right;\">\n",
       "      <th></th>\n",
       "      <th>책제목</th>\n",
       "      <th>가격</th>\n",
       "      <th>isbn</th>\n",
       "      <th>작가</th>\n",
       "      <th>출판사</th>\n",
       "      <th>할인된기격</th>\n",
       "      <th>출판일</th>\n",
       "      <th>링크</th>\n",
       "      <th>중복 갯수</th>\n",
       "      <th>뉴프로그램언어</th>\n",
       "    </tr>\n",
       "  </thead>\n",
       "  <tbody>\n",
       "    <tr>\n",
       "      <th>0</th>\n",
       "      <td>Effective Python 2nd 이펙티브 파이썬 : 파이썬 코딩의 기술 (똑똑...</td>\n",
       "      <td>32000.0</td>\n",
       "      <td>1165213192 9791165213190</td>\n",
       "      <td>브렛 슬라킨 지음|오현석</td>\n",
       "      <td>길벗</td>\n",
       "      <td>28800.0</td>\n",
       "      <td>20201030</td>\n",
       "      <td>http://book.naver.com/bookdb/book_detail.php?b...</td>\n",
       "      <td>3</td>\n",
       "      <td>파이썬</td>\n",
       "    </tr>\n",
       "    <tr>\n",
       "      <th>1</th>\n",
       "      <td>COS Pro 2급 C 언어 (프로그래머를 향한 출발점,교재+모의고사)</td>\n",
       "      <td>20000.0</td>\n",
       "      <td>1160504113 9791160504118</td>\n",
       "      <td>남재윤</td>\n",
       "      <td>길벗</td>\n",
       "      <td>18000.0</td>\n",
       "      <td>20180215</td>\n",
       "      <td>http://book.naver.com/bookdb/book_detail.php?b...</td>\n",
       "      <td>2</td>\n",
       "      <td>C언어</td>\n",
       "    </tr>\n",
       "    <tr>\n",
       "      <th>2</th>\n",
       "      <td>코딩 테스트를 위한 자료 구조와 알고리즘 with C++ (67개 문제 풀이로 익히자!)</td>\n",
       "      <td>32000.0</td>\n",
       "      <td>1165213796 9791165213794</td>\n",
       "      <td>존 캐리|셰리안 도시|파야스 라잔</td>\n",
       "      <td>길벗</td>\n",
       "      <td>28800.0</td>\n",
       "      <td>20201208</td>\n",
       "      <td>http://book.naver.com/bookdb/book_detail.php?b...</td>\n",
       "      <td>2</td>\n",
       "      <td>c++</td>\n",
       "    </tr>\n",
       "  </tbody>\n",
       "</table>\n",
       "</div>"
      ],
      "text/plain": [
       "                                                 책제목       가격  \\\n",
       "0  Effective Python 2nd 이펙티브 파이썬 : 파이썬 코딩의 기술 (똑똑...  32000.0   \n",
       "1            COS Pro 2급 C 언어 (프로그래머를 향한 출발점,교재+모의고사)  20000.0   \n",
       "2  코딩 테스트를 위한 자료 구조와 알고리즘 with C++ (67개 문제 풀이로 익히자!)  32000.0   \n",
       "\n",
       "                       isbn                  작가 출판사    할인된기격       출판일  \\\n",
       "0  1165213192 9791165213190       브렛 슬라킨 지음|오현석  길벗  28800.0  20201030   \n",
       "1  1160504113 9791160504118                 남재윤  길벗  18000.0  20180215   \n",
       "2  1165213796 9791165213794  존 캐리|셰리안 도시|파야스 라잔  길벗  28800.0  20201208   \n",
       "\n",
       "                                                  링크  중복 갯수 뉴프로그램언어  \n",
       "0  http://book.naver.com/bookdb/book_detail.php?b...      3     파이썬  \n",
       "1  http://book.naver.com/bookdb/book_detail.php?b...      2     C언어  \n",
       "2  http://book.naver.com/bookdb/book_detail.php?b...      2     c++  "
      ]
     },
     "execution_count": 44,
     "metadata": {},
     "output_type": "execute_result"
    }
   ],
   "source": [
    "clean_df = pd.concat([temp,normalTemp],axis=0).reset_index(drop=True)\n",
    "print(\"공통된 isbn 찾기전까지 정제된 data shape : \",clean_df.shape)\n",
    "clean_df.head(3)"
   ]
  },
  {
   "cell_type": "markdown",
   "id": "86621df6",
   "metadata": {
    "id": "86621df6"
   },
   "source": [
    "내가 필요한 정보가 무엇인지 다시 확인한다. \n",
    "* 책 제목, isbn, 출판사,출판일,가격, 페이지수(링크를 통해 page 수 받아오기)"
   ]
  },
  {
   "cell_type": "markdown",
   "id": "62298ec0",
   "metadata": {
    "id": "62298ec0"
   },
   "source": [
    "---\n",
    "# 문제 02\n",
    "\n",
    "전세계에서 간행되는 도서에 고유번호를 인가하여 문헌정보와 유통의 효율화를 기대하기 위해 부여되는 일종의\n",
    "책의 ID 역할을 하는 ISBN 넘버가 있습니다. 문제1에서 수집한 데이터를 ISBN 정보로 unique 검사 후 중복\n",
    "데이터를 정리하세요."
   ]
  },
  {
   "cell_type": "code",
   "execution_count": 45,
   "id": "4ff2bd6c",
   "metadata": {
    "id": "4ff2bd6c",
    "outputId": "1b68f61a-e904-436c-c3be-b6d2bdf49648"
   },
   "outputs": [
    {
     "name": "stdout",
     "output_type": "stream",
     "text": [
      "2차 정제된 DataFrame에서 isbn의 유닉크 값 갯수 조회 :  3743\n",
      "2차 정제된 DataFrame의 shape 수 :  3853\n"
     ]
    }
   ],
   "source": [
    "print(\"2차 정제된 DataFrame에서 isbn의 유닉크 값 갯수 조회 : \",len(clean_df[\"isbn\"].unique()))\n",
    "print(\"2차 정제된 DataFrame의 shape 수 : \",clean_df.shape[0])"
   ]
  },
  {
   "cell_type": "markdown",
   "id": "ccded761",
   "metadata": {
    "id": "ccded761"
   },
   "source": [
    "정제된 DataFrame 수에서 약 90개 정도 isbn이 중복되는 것을 알수 있다. 중복된 isbn 값을 제거한다.\n",
    "\n",
    "4. 동일한 isbn 정제\n",
    "\n",
    "  * 중복된 isbn 정보 찾기"
   ]
  },
  {
   "cell_type": "code",
   "execution_count": 46,
   "id": "926f8a57",
   "metadata": {
    "id": "926f8a57",
    "outputId": "e99cf750-a76d-4302-a46a-15f4653e3af3"
   },
   "outputs": [
    {
     "data": {
      "text/html": [
       "<div>\n",
       "<style scoped>\n",
       "    .dataframe tbody tr th:only-of-type {\n",
       "        vertical-align: middle;\n",
       "    }\n",
       "\n",
       "    .dataframe tbody tr th {\n",
       "        vertical-align: top;\n",
       "    }\n",
       "\n",
       "    .dataframe thead th {\n",
       "        text-align: right;\n",
       "    }\n",
       "</style>\n",
       "<table border=\"1\" class=\"dataframe\">\n",
       "  <thead>\n",
       "    <tr style=\"text-align: right;\">\n",
       "      <th></th>\n",
       "      <th>isbn</th>\n",
       "      <th>책제목</th>\n",
       "      <th>출판사</th>\n",
       "      <th>뉴프로그램언어</th>\n",
       "    </tr>\n",
       "  </thead>\n",
       "  <tbody>\n",
       "    <tr>\n",
       "      <th>0</th>\n",
       "      <td>0000215597 1400000215593</td>\n",
       "      <td>HTML JavaScript CSS</td>\n",
       "      <td>퍼플</td>\n",
       "      <td>자바스크립트</td>\n",
       "    </tr>\n",
       "    <tr>\n",
       "      <th>1</th>\n",
       "      <td>000022443X 1400000224434</td>\n",
       "      <td>한권으로 마스터하는 자바프로그래밍 - 2013 개정판</td>\n",
       "      <td>퍼플</td>\n",
       "      <td>자바</td>\n",
       "    </tr>\n",
       "    <tr>\n",
       "      <th>2</th>\n",
       "      <td>0000264229 1400000264225</td>\n",
       "      <td>SQL서버 연동 엑셀데이터베이스 활용 기본편</td>\n",
       "      <td>퍼플</td>\n",
       "      <td>SQL</td>\n",
       "    </tr>\n",
       "  </tbody>\n",
       "</table>\n",
       "</div>"
      ],
      "text/plain": [
       "                       isbn                            책제목 출판사 뉴프로그램언어\n",
       "0  0000215597 1400000215593            HTML JavaScript CSS  퍼플  자바스크립트\n",
       "1  000022443X 1400000224434  한권으로 마스터하는 자바프로그래밍 - 2013 개정판  퍼플      자바\n",
       "2  0000264229 1400000264225       SQL서버 연동 엑셀데이터베이스 활용 기본편  퍼플     SQL"
      ]
     },
     "execution_count": 46,
     "metadata": {},
     "output_type": "execute_result"
    }
   ],
   "source": [
    "m = clean_df[[\"책제목\",\"isbn\",\"출판사\",\"뉴프로그램언어\"]].groupby([\"isbn\",\"책제목\",\"출판사\",\"뉴프로그램언어\"]).count().reset_index()\n",
    "m.head(3)"
   ]
  },
  {
   "cell_type": "code",
   "execution_count": 47,
   "id": "9c5399aa",
   "metadata": {
    "id": "9c5399aa"
   },
   "outputs": [],
   "source": [
    "# 누적 값을 저장하기 위해 new 라는 컬럼 생성.\n",
    "m[\"new\"]=1\n",
    "m[\"new\"] = m.groupby([\"isbn\",\"책제목\",\"출판사\"]).cumsum()[\"new\"]"
   ]
  },
  {
   "cell_type": "code",
   "execution_count": 48,
   "id": "78228cfc",
   "metadata": {
    "id": "78228cfc",
    "outputId": "10dc2809-c8b9-4e7a-fb81-808b7189a507"
   },
   "outputs": [
    {
     "data": {
      "text/html": [
       "<div>\n",
       "<style scoped>\n",
       "    .dataframe tbody tr th:only-of-type {\n",
       "        vertical-align: middle;\n",
       "    }\n",
       "\n",
       "    .dataframe tbody tr th {\n",
       "        vertical-align: top;\n",
       "    }\n",
       "\n",
       "    .dataframe thead th {\n",
       "        text-align: right;\n",
       "    }\n",
       "</style>\n",
       "<table border=\"1\" class=\"dataframe\">\n",
       "  <thead>\n",
       "    <tr style=\"text-align: right;\">\n",
       "      <th></th>\n",
       "      <th>isbn</th>\n",
       "      <th>출판사</th>\n",
       "      <th>뉴프로그램언어</th>\n",
       "    </tr>\n",
       "    <tr>\n",
       "      <th>책제목</th>\n",
       "      <th></th>\n",
       "      <th></th>\n",
       "      <th></th>\n",
       "    </tr>\n",
       "  </thead>\n",
       "  <tbody>\n",
       "    <tr>\n",
       "      <th>Web Database Applications with PHP &amp; MySQL</th>\n",
       "      <td>0596000413 9780596000417</td>\n",
       "      <td>OReilly(오라일리)</td>\n",
       "      <td>PHP</td>\n",
       "    </tr>\n",
       "    <tr>\n",
       "      <th>Web Database Applications with PHP &amp; MySQL</th>\n",
       "      <td>0596000413 9780596000417</td>\n",
       "      <td>OReilly(오라일리)</td>\n",
       "      <td>SQL</td>\n",
       "    </tr>\n",
       "    <tr>\n",
       "      <th>HTML5 웹 프로그래밍 입문</th>\n",
       "      <td>1156644550 9791156644552</td>\n",
       "      <td>한빛아카데미</td>\n",
       "      <td>자바</td>\n",
       "    </tr>\n",
       "    <tr>\n",
       "      <th>HTML5 웹 프로그래밍 입문</th>\n",
       "      <td>1156644550 9791156644552</td>\n",
       "      <td>한빛아카데미</td>\n",
       "      <td>자바스크립트</td>\n",
       "    </tr>\n",
       "    <tr>\n",
       "      <th>익스플로링 라즈베리 파이 (임베디드 리눅스와 전자회로를 이용한 라즈베리 파이 완벽 활용 가이드)</th>\n",
       "      <td>1158390971 9791158390976</td>\n",
       "      <td>위키북스</td>\n",
       "      <td>자바스크립트</td>\n",
       "    </tr>\n",
       "    <tr>\n",
       "      <th>...</th>\n",
       "      <td>...</td>\n",
       "      <td>...</td>\n",
       "      <td>...</td>\n",
       "    </tr>\n",
       "    <tr>\n",
       "      <th>PHP6 MYSQL5 (다이내믹한 웹사이트 만들기)</th>\n",
       "      <td>8992939469 9788992939461</td>\n",
       "      <td>위키북스</td>\n",
       "      <td>자바스크립트</td>\n",
       "    </tr>\n",
       "    <tr>\n",
       "      <th>PHP MySQL 프로그래밍</th>\n",
       "      <td>8994914927 9788994914923</td>\n",
       "      <td>북스홀릭</td>\n",
       "      <td>PHP</td>\n",
       "    </tr>\n",
       "    <tr>\n",
       "      <th>PHP MySQL 프로그래밍</th>\n",
       "      <td>8994914927 9788994914923</td>\n",
       "      <td>북스홀릭</td>\n",
       "      <td>SQL</td>\n",
       "    </tr>\n",
       "    <tr>\n",
       "      <th>지능의 본질과 구현 (지능의 본질과 구현 가능성을 찾아가는 위대한 여정)</th>\n",
       "      <td>8997924397 9788997924394</td>\n",
       "      <td>로드북</td>\n",
       "      <td>자바스크립트</td>\n",
       "    </tr>\n",
       "    <tr>\n",
       "      <th>지능의 본질과 구현 (지능의 본질과 구현 가능성을 찾아가는 위대한 여정)</th>\n",
       "      <td>8997924397 9788997924394</td>\n",
       "      <td>로드북</td>\n",
       "      <td>파이썬</td>\n",
       "    </tr>\n",
       "  </tbody>\n",
       "</table>\n",
       "<p>278 rows × 3 columns</p>\n",
       "</div>"
      ],
      "text/plain": [
       "                                                                        isbn  \\\n",
       "책제목                                                                            \n",
       "Web Database Applications with PHP & MySQL          0596000413 9780596000417   \n",
       "Web Database Applications with PHP & MySQL          0596000413 9780596000417   \n",
       "HTML5 웹 프로그래밍 입문                                    1156644550 9791156644552   \n",
       "HTML5 웹 프로그래밍 입문                                    1156644550 9791156644552   \n",
       "익스플로링 라즈베리 파이 (임베디드 리눅스와 전자회로를 이용한 라즈베리 파이 완벽 활...  1158390971 9791158390976   \n",
       "...                                                                      ...   \n",
       "PHP6 MYSQL5 (다이내믹한 웹사이트 만들기)                        8992939469 9788992939461   \n",
       "PHP MySQL 프로그래밍                                     8994914927 9788994914923   \n",
       "PHP MySQL 프로그래밍                                     8994914927 9788994914923   \n",
       "지능의 본질과 구현 (지능의 본질과 구현 가능성을 찾아가는 위대한 여정)            8997924397 9788997924394   \n",
       "지능의 본질과 구현 (지능의 본질과 구현 가능성을 찾아가는 위대한 여정)            8997924397 9788997924394   \n",
       "\n",
       "                                                              출판사 뉴프로그램언어  \n",
       "책제목                                                                        \n",
       "Web Database Applications with PHP & MySQL          OReilly(오라일리)     PHP  \n",
       "Web Database Applications with PHP & MySQL          OReilly(오라일리)     SQL  \n",
       "HTML5 웹 프로그래밍 입문                                           한빛아카데미      자바  \n",
       "HTML5 웹 프로그래밍 입문                                           한빛아카데미  자바스크립트  \n",
       "익스플로링 라즈베리 파이 (임베디드 리눅스와 전자회로를 이용한 라즈베리 파이 완벽 활...           위키북스  자바스크립트  \n",
       "...                                                           ...     ...  \n",
       "PHP6 MYSQL5 (다이내믹한 웹사이트 만들기)                                 위키북스  자바스크립트  \n",
       "PHP MySQL 프로그래밍                                              북스홀릭     PHP  \n",
       "PHP MySQL 프로그래밍                                              북스홀릭     SQL  \n",
       "지능의 본질과 구현 (지능의 본질과 구현 가능성을 찾아가는 위대한 여정)                      로드북  자바스크립트  \n",
       "지능의 본질과 구현 (지능의 본질과 구현 가능성을 찾아가는 위대한 여정)                      로드북     파이썬  \n",
       "\n",
       "[278 rows x 3 columns]"
      ]
     },
     "execution_count": 48,
     "metadata": {},
     "output_type": "execute_result"
    }
   ],
   "source": [
    "# 동일한 isbn에 다른 프로그램어가 존자하며 해당 책제목의 특징은 해당 프로그램어를 모두 품을수 있다는 특징이 있다.\n",
    "m1 = m.set_index(\"책제목\").loc[m[m[\"new\"]!=1][\"책제목\"].values][[\"isbn\",\"출판사\",\"뉴프로그램언어\"]]\n",
    "m1"
   ]
  },
  {
   "cell_type": "markdown",
   "id": "7683c0e3",
   "metadata": {
    "id": "7683c0e3"
   },
   "source": [
    "해당 데이터를 보면isbn이 같다. 그런데 이전에 naver API를 통해 해당 프로그램어를 검색해서 관련된 책 정보 데이터를 받아왔다. 거기서 공통된 데이터가 존재했고, 확인된 책 제목으로 관련된 프로그램어가 두개 이상 공통된 결과로 보여진다. 그래서 해당 데이터가 어디에 속한다 라고 정의하기 어렵고 또한 isbn이 공통되었기 때문에 한 개 데이터만 남기기가 어렵다 그래서 **위 데이터를 삭제하고 진행을 한다.**"
   ]
  },
  {
   "cell_type": "code",
   "execution_count": 49,
   "id": "e8c22a6d",
   "metadata": {
    "id": "e8c22a6d"
   },
   "outputs": [],
   "source": [
    "remove_isbn = m1.reset_index()['isbn'].unique()"
   ]
  },
  {
   "cell_type": "code",
   "execution_count": 50,
   "id": "dd7a6269",
   "metadata": {
    "id": "dd7a6269"
   },
   "outputs": [],
   "source": [
    "clean_isbn = set(clean_df[\"isbn\"].values) - set(remove_isbn)"
   ]
  },
  {
   "cell_type": "code",
   "execution_count": 51,
   "id": "ae74e12b",
   "metadata": {
    "id": "ae74e12b"
   },
   "outputs": [],
   "source": [
    "clean_df = clean_df.set_index(\"isbn\").loc[clean_isbn].reset_index()"
   ]
  },
  {
   "cell_type": "code",
   "execution_count": 52,
   "id": "fd2b3fd3",
   "metadata": {
    "id": "fd2b3fd3",
    "outputId": "5b257ccd-609d-4e96-b99a-48d9e11c2ed3"
   },
   "outputs": [
    {
     "data": {
      "text/plain": [
       "(3673, 3686)"
      ]
     },
     "execution_count": 52,
     "metadata": {},
     "output_type": "execute_result"
    }
   ],
   "source": [
    "clean_df[\"isbn\"].nunique() , clean_df.shape[0]"
   ]
  },
  {
   "cell_type": "markdown",
   "id": "7f829e93",
   "metadata": {
    "id": "7f829e93"
   },
   "source": [
    "아직 isbn과 데이터 프레임의 수가 다른것으로 보여진다. 그렇기에 한번더 데이터를 정제를 한다."
   ]
  },
  {
   "cell_type": "code",
   "execution_count": 53,
   "id": "5286d088",
   "metadata": {
    "id": "5286d088",
    "outputId": "1cfcd01d-82e2-4ed1-cc3a-cbee13ad16f5"
   },
   "outputs": [
    {
     "data": {
      "text/plain": [
       "Index(['isbn', '책제목', '가격', '작가', '출판사', '할인된기격', '출판일', '링크', '중복 갯수',\n",
       "       '뉴프로그램언어'],\n",
       "      dtype='object')"
      ]
     },
     "execution_count": 53,
     "metadata": {},
     "output_type": "execute_result"
    }
   ],
   "source": [
    "clean_df.columns"
   ]
  },
  {
   "cell_type": "code",
   "execution_count": 54,
   "id": "a7f606fd",
   "metadata": {
    "id": "a7f606fd"
   },
   "outputs": [],
   "source": [
    "clean_df[\"할인된기격\"].fillna(0,inplace=True)"
   ]
  },
  {
   "cell_type": "code",
   "execution_count": 55,
   "id": "6b436170",
   "metadata": {
    "id": "6b436170",
    "outputId": "4bb39b97-b9f2-4195-e0a8-1a71e03381ba"
   },
   "outputs": [
    {
     "data": {
      "text/html": [
       "<div>\n",
       "<style scoped>\n",
       "    .dataframe tbody tr th:only-of-type {\n",
       "        vertical-align: middle;\n",
       "    }\n",
       "\n",
       "    .dataframe tbody tr th {\n",
       "        vertical-align: top;\n",
       "    }\n",
       "\n",
       "    .dataframe thead th {\n",
       "        text-align: right;\n",
       "    }\n",
       "</style>\n",
       "<table border=\"1\" class=\"dataframe\">\n",
       "  <thead>\n",
       "    <tr style=\"text-align: right;\">\n",
       "      <th></th>\n",
       "      <th></th>\n",
       "      <th>할인된기격</th>\n",
       "    </tr>\n",
       "    <tr>\n",
       "      <th>책제목</th>\n",
       "      <th>isbn</th>\n",
       "      <th></th>\n",
       "    </tr>\n",
       "  </thead>\n",
       "  <tbody>\n",
       "    <tr>\n",
       "      <th>.NET ENTERPRISE DEVELOPMENT IN C# (설계에서 배치까지)</th>\n",
       "      <th>8956740380 9788956740386</th>\n",
       "      <td>1</td>\n",
       "    </tr>\n",
       "    <tr>\n",
       "      <th>1%의 프로그래밍 작동 원리 (성공과 실패를 결정하는)</th>\n",
       "      <th>8931555970 9788931555974</th>\n",
       "      <td>1</td>\n",
       "    </tr>\n",
       "    <tr>\n",
       "      <th>1001가지 자바 프로그래머 팀</th>\n",
       "      <th>8931545177 9788931545173</th>\n",
       "      <td>1</td>\n",
       "    </tr>\n",
       "    <tr>\n",
       "      <th>10G로 시작하는 오라클 SQL PL SQL</th>\n",
       "      <th>8989345898 9788989345893</th>\n",
       "      <td>1</td>\n",
       "    </tr>\n",
       "    <tr>\n",
       "      <th>10대를 위한 파이썬 교과서 (컴퓨팅 사고력과 알고리즘 배우기)</th>\n",
       "      <th>890954211X 9788909542111</th>\n",
       "      <td>1</td>\n",
       "    </tr>\n",
       "    <tr>\n",
       "      <th>...</th>\n",
       "      <th>...</th>\n",
       "      <td>...</td>\n",
       "    </tr>\n",
       "    <tr>\n",
       "      <th>홈페이지를 위한 HTML CSS 자바스크립트 초보 탈출 이야기</th>\n",
       "      <th>8981930899 9788981930899</th>\n",
       "      <td>1</td>\n",
       "    </tr>\n",
       "    <tr>\n",
       "      <th>화이트 해커를 위한 암호와 해킹</th>\n",
       "      <th>8956748381 9788956748382</th>\n",
       "      <td>1</td>\n",
       "    </tr>\n",
       "    <tr>\n",
       "      <th>화이트 해커를 위한 암호와 해킹 (White Hat Python)</th>\n",
       "      <th>8956746974 9788956746975</th>\n",
       "      <td>1</td>\n",
       "    </tr>\n",
       "    <tr>\n",
       "      <th>효율적 개발로 이끄는 파이썬 실천 기술 (파이썬에 숨겨진 힘을 이용해 개발 효율을 높이자!)</th>\n",
       "      <th>1190665875 9791190665872</th>\n",
       "      <td>1</td>\n",
       "    </tr>\n",
       "    <tr>\n",
       "      <th>흥미로운 베이지안 통계 (스타워즈, 레고, 러버 덕으로 이해하는 통계와 확률)</th>\n",
       "      <th>1161754865 9791161754864</th>\n",
       "      <td>1</td>\n",
       "    </tr>\n",
       "  </tbody>\n",
       "</table>\n",
       "<p>3684 rows × 1 columns</p>\n",
       "</div>"
      ],
      "text/plain": [
       "                                                                             할인된기격\n",
       "책제목                                                isbn                           \n",
       ".NET ENTERPRISE DEVELOPMENT IN C# (설계에서 배치까지)      8956740380 9788956740386      1\n",
       "1%의 프로그래밍 작동 원리 (성공과 실패를 결정하는)                     8931555970 9788931555974      1\n",
       "1001가지 자바 프로그래머 팀                                  8931545177 9788931545173      1\n",
       "10G로 시작하는 오라클 SQL PL SQL                           8989345898 9788989345893      1\n",
       "10대를 위한 파이썬 교과서 (컴퓨팅 사고력과 알고리즘 배우기)                890954211X 9788909542111      1\n",
       "...                                                                            ...\n",
       "홈페이지를 위한 HTML CSS 자바스크립트 초보 탈출 이야기                 8981930899 9788981930899      1\n",
       "화이트 해커를 위한 암호와 해킹                                  8956748381 9788956748382      1\n",
       "화이트 해커를 위한 암호와 해킹 (White Hat Python)               8956746974 9788956746975      1\n",
       "효율적 개발로 이끄는 파이썬 실천 기술 (파이썬에 숨겨진 힘을 이용해 개발 효율을 높... 1190665875 9791190665872      1\n",
       "흥미로운 베이지안 통계 (스타워즈, 레고, 러버 덕으로 이해하는 통계와 확률)        1161754865 9791161754864      1\n",
       "\n",
       "[3684 rows x 1 columns]"
      ]
     },
     "execution_count": 55,
     "metadata": {},
     "output_type": "execute_result"
    }
   ],
   "source": [
    "m = clean_df[[\"책제목\",\"isbn\",\"할인된기격\"]].groupby([\"책제목\",\"isbn\"]).count()\n",
    "m"
   ]
  },
  {
   "cell_type": "code",
   "execution_count": 56,
   "id": "707267db",
   "metadata": {
    "id": "707267db",
    "outputId": "736e88bf-a994-4ce8-abbd-582543e450b4"
   },
   "outputs": [
    {
     "data": {
      "text/html": [
       "<div>\n",
       "<style scoped>\n",
       "    .dataframe tbody tr th:only-of-type {\n",
       "        vertical-align: middle;\n",
       "    }\n",
       "\n",
       "    .dataframe tbody tr th {\n",
       "        vertical-align: top;\n",
       "    }\n",
       "\n",
       "    .dataframe thead th {\n",
       "        text-align: right;\n",
       "    }\n",
       "</style>\n",
       "<table border=\"1\" class=\"dataframe\">\n",
       "  <thead>\n",
       "    <tr style=\"text-align: right;\">\n",
       "      <th></th>\n",
       "      <th></th>\n",
       "      <th>할인된기격</th>\n",
       "    </tr>\n",
       "    <tr>\n",
       "      <th>책제목</th>\n",
       "      <th>isbn</th>\n",
       "      <th></th>\n",
       "    </tr>\n",
       "  </thead>\n",
       "  <tbody>\n",
       "    <tr>\n",
       "      <th>모바일 자바 PDA 핸드폰 프로그래밍</th>\n",
       "      <th>8981930856 9788981930851</th>\n",
       "      <td>2</td>\n",
       "    </tr>\n",
       "    <tr>\n",
       "      <th>자바 서버 페이지</th>\n",
       "      <th>8979141335 9788979141337</th>\n",
       "      <td>2</td>\n",
       "    </tr>\n",
       "  </tbody>\n",
       "</table>\n",
       "</div>"
      ],
      "text/plain": [
       "                                               할인된기격\n",
       "책제목                  isbn                           \n",
       "모바일 자바 PDA 핸드폰 프로그래밍 8981930856 9788981930851      2\n",
       "자바 서버 페이지            8979141335 9788979141337      2"
      ]
     },
     "execution_count": 56,
     "metadata": {},
     "output_type": "execute_result"
    }
   ],
   "source": [
    "m[m[\"할인된기격\"]!=1]"
   ]
  },
  {
   "cell_type": "code",
   "execution_count": 57,
   "id": "45a2a5b8",
   "metadata": {
    "id": "45a2a5b8",
    "outputId": "dfc572c9-7c15-4ecd-dd58-f4bb1efb5690"
   },
   "outputs": [
    {
     "data": {
      "text/html": [
       "<div>\n",
       "<style scoped>\n",
       "    .dataframe tbody tr th:only-of-type {\n",
       "        vertical-align: middle;\n",
       "    }\n",
       "\n",
       "    .dataframe tbody tr th {\n",
       "        vertical-align: top;\n",
       "    }\n",
       "\n",
       "    .dataframe thead th {\n",
       "        text-align: right;\n",
       "    }\n",
       "</style>\n",
       "<table border=\"1\" class=\"dataframe\">\n",
       "  <thead>\n",
       "    <tr style=\"text-align: right;\">\n",
       "      <th></th>\n",
       "      <th>책제목</th>\n",
       "    </tr>\n",
       "    <tr>\n",
       "      <th>isbn</th>\n",
       "      <th></th>\n",
       "    </tr>\n",
       "  </thead>\n",
       "  <tbody>\n",
       "    <tr>\n",
       "      <th>0000215597 1400000215593</th>\n",
       "      <td>1</td>\n",
       "    </tr>\n",
       "    <tr>\n",
       "      <th>000022443X 1400000224434</th>\n",
       "      <td>1</td>\n",
       "    </tr>\n",
       "    <tr>\n",
       "      <th>0000264229 1400000264225</th>\n",
       "      <td>1</td>\n",
       "    </tr>\n",
       "    <tr>\n",
       "      <th>0000264237 1400000264232</th>\n",
       "      <td>1</td>\n",
       "    </tr>\n",
       "    <tr>\n",
       "      <th>0000268046 1400000268049</th>\n",
       "      <td>1</td>\n",
       "    </tr>\n",
       "    <tr>\n",
       "      <th>...</th>\n",
       "      <td>...</td>\n",
       "    </tr>\n",
       "    <tr>\n",
       "      <th>8998756684 9788998756680</th>\n",
       "      <td>1</td>\n",
       "    </tr>\n",
       "    <tr>\n",
       "      <th>899875679X 9788998756796</th>\n",
       "      <td>1</td>\n",
       "    </tr>\n",
       "    <tr>\n",
       "      <th>8998756951 9788998756956</th>\n",
       "      <td>1</td>\n",
       "    </tr>\n",
       "    <tr>\n",
       "      <th>899875696X 9788998756963</th>\n",
       "      <td>1</td>\n",
       "    </tr>\n",
       "    <tr>\n",
       "      <th>9341000041 2009341000043</th>\n",
       "      <td>1</td>\n",
       "    </tr>\n",
       "  </tbody>\n",
       "</table>\n",
       "<p>3673 rows × 1 columns</p>\n",
       "</div>"
      ],
      "text/plain": [
       "                          책제목\n",
       "isbn                         \n",
       "0000215597 1400000215593    1\n",
       "000022443X 1400000224434    1\n",
       "0000264229 1400000264225    1\n",
       "0000264237 1400000264232    1\n",
       "0000268046 1400000268049    1\n",
       "...                       ...\n",
       "8998756684 9788998756680    1\n",
       "899875679X 9788998756796    1\n",
       "8998756951 9788998756956    1\n",
       "899875696X 9788998756963    1\n",
       "9341000041 2009341000043    1\n",
       "\n",
       "[3673 rows x 1 columns]"
      ]
     },
     "execution_count": 57,
     "metadata": {},
     "output_type": "execute_result"
    }
   ],
   "source": [
    "m = clean_df[[\"책제목\",\"isbn\"]].groupby([\"isbn\"]).count()\n",
    "m"
   ]
  },
  {
   "cell_type": "code",
   "execution_count": 58,
   "id": "9b48e811",
   "metadata": {
    "id": "9b48e811",
    "outputId": "0041b112-6d87-4182-ed6d-1836471ed858"
   },
   "outputs": [
    {
     "data": {
      "text/html": [
       "<div>\n",
       "<style scoped>\n",
       "    .dataframe tbody tr th:only-of-type {\n",
       "        vertical-align: middle;\n",
       "    }\n",
       "\n",
       "    .dataframe tbody tr th {\n",
       "        vertical-align: top;\n",
       "    }\n",
       "\n",
       "    .dataframe thead th {\n",
       "        text-align: right;\n",
       "    }\n",
       "</style>\n",
       "<table border=\"1\" class=\"dataframe\">\n",
       "  <thead>\n",
       "    <tr style=\"text-align: right;\">\n",
       "      <th></th>\n",
       "      <th>책제목</th>\n",
       "      <th>가격</th>\n",
       "      <th>작가</th>\n",
       "      <th>출판사</th>\n",
       "      <th>할인된기격</th>\n",
       "      <th>출판일</th>\n",
       "      <th>링크</th>\n",
       "      <th>중복 갯수</th>\n",
       "      <th>뉴프로그램언어</th>\n",
       "    </tr>\n",
       "    <tr>\n",
       "      <th>isbn</th>\n",
       "      <th></th>\n",
       "      <th></th>\n",
       "      <th></th>\n",
       "      <th></th>\n",
       "      <th></th>\n",
       "      <th></th>\n",
       "      <th></th>\n",
       "      <th></th>\n",
       "      <th></th>\n",
       "    </tr>\n",
       "  </thead>\n",
       "  <tbody>\n",
       "    <tr>\n",
       "      <th>8931531729 9788931531725</th>\n",
       "      <td>C언어를 이용한 80C196KC와 MicroMouse (Windows XP에서 Ta...</td>\n",
       "      <td>28000.0</td>\n",
       "      <td>송봉길</td>\n",
       "      <td>성안당</td>\n",
       "      <td>25200.0</td>\n",
       "      <td>20050406</td>\n",
       "      <td>http://book.naver.com/bookdb/book_detail.php?b...</td>\n",
       "      <td>1</td>\n",
       "      <td>C언어</td>\n",
       "    </tr>\n",
       "    <tr>\n",
       "      <th>8931531729 9788931531725</th>\n",
       "      <td>C 언어를 이용한 80C196KC와 MicroMouse</td>\n",
       "      <td>28000.0</td>\n",
       "      <td>송봉길|이태현|오희재</td>\n",
       "      <td>성안당</td>\n",
       "      <td>0.0</td>\n",
       "      <td>20050406</td>\n",
       "      <td>http://book.naver.com/bookdb/book_detail.php?b...</td>\n",
       "      <td>1</td>\n",
       "      <td>C언어</td>\n",
       "    </tr>\n",
       "    <tr>\n",
       "      <th>8935302732 9788935302734</th>\n",
       "      <td>자바스크립트</td>\n",
       "      <td>16000.0</td>\n",
       "      <td>이종득</td>\n",
       "      <td>정익사</td>\n",
       "      <td>0.0</td>\n",
       "      <td>20000126</td>\n",
       "      <td>http://book.naver.com/bookdb/book_detail.php?b...</td>\n",
       "      <td>8</td>\n",
       "      <td>자바스크립트</td>\n",
       "    </tr>\n",
       "    <tr>\n",
       "      <th>8935302732 9788935302734</th>\n",
       "      <td>자바 스크립트</td>\n",
       "      <td>16000.0</td>\n",
       "      <td>이종득</td>\n",
       "      <td>정익사</td>\n",
       "      <td>16000.0</td>\n",
       "      <td>20000115</td>\n",
       "      <td>http://book.naver.com/bookdb/book_detail.php?b...</td>\n",
       "      <td>2</td>\n",
       "      <td>자바스크립트</td>\n",
       "    </tr>\n",
       "    <tr>\n",
       "      <th>8940690214 9788940690215</th>\n",
       "      <td>PHP4 CLASS 실무완성 V1.0</td>\n",
       "      <td>17000.0</td>\n",
       "      <td>김현철</td>\n",
       "      <td>크라운출판사</td>\n",
       "      <td>0.0</td>\n",
       "      <td>20010710</td>\n",
       "      <td>http://book.naver.com/bookdb/book_detail.php?b...</td>\n",
       "      <td>1</td>\n",
       "      <td>PHP</td>\n",
       "    </tr>\n",
       "    <tr>\n",
       "      <th>8940690214 9788940690215</th>\n",
       "      <td>PHP 4 CLASS실무완성V1.0</td>\n",
       "      <td>17000.0</td>\n",
       "      <td>김현철</td>\n",
       "      <td>크라운출판사</td>\n",
       "      <td>0.0</td>\n",
       "      <td>20010615</td>\n",
       "      <td>http://book.naver.com/bookdb/book_detail.php?b...</td>\n",
       "      <td>1</td>\n",
       "      <td>PHP</td>\n",
       "    </tr>\n",
       "    <tr>\n",
       "      <th>8972806048 9788972806042</th>\n",
       "      <td>엔터프라이즈 자바빈즈 (C0NTACT)</td>\n",
       "      <td>23000.0</td>\n",
       "      <td>김창호</td>\n",
       "      <td>대림</td>\n",
       "      <td>0.0</td>\n",
       "      <td>20010705</td>\n",
       "      <td>http://book.naver.com/bookdb/book_detail.php?b...</td>\n",
       "      <td>1</td>\n",
       "      <td>자바</td>\n",
       "    </tr>\n",
       "    <tr>\n",
       "      <th>8972806048 9788972806042</th>\n",
       "      <td>CONTACT ENTERPRISE JAVABEANS(엔터프라이즈자바빈즈)</td>\n",
       "      <td>23000.0</td>\n",
       "      <td>김창호</td>\n",
       "      <td>대림</td>\n",
       "      <td>0.0</td>\n",
       "      <td>20010704</td>\n",
       "      <td>http://book.naver.com/bookdb/book_detail.php?b...</td>\n",
       "      <td>1</td>\n",
       "      <td>자바</td>\n",
       "    </tr>\n",
       "    <tr>\n",
       "      <th>8973542729 9788973542727</th>\n",
       "      <td>HTML/DHTML 자바스크립트 스타일시트 ANSWER BOOK</td>\n",
       "      <td>23000.0</td>\n",
       "      <td>김석주</td>\n",
       "      <td>가남사</td>\n",
       "      <td>0.0</td>\n",
       "      <td>20010130</td>\n",
       "      <td>http://book.naver.com/bookdb/book_detail.php?b...</td>\n",
       "      <td>2</td>\n",
       "      <td>자바스크립트</td>\n",
       "    </tr>\n",
       "    <tr>\n",
       "      <th>8973542729 9788973542727</th>\n",
       "      <td>HTML/DHTML자바스크립트스타일시트ANSWER BOOK</td>\n",
       "      <td>23000.0</td>\n",
       "      <td>김석주</td>\n",
       "      <td>가남사</td>\n",
       "      <td>0.0</td>\n",
       "      <td>20010122</td>\n",
       "      <td>http://book.naver.com/bookdb/book_detail.php?b...</td>\n",
       "      <td>2</td>\n",
       "      <td>자바스크립트</td>\n",
       "    </tr>\n",
       "  </tbody>\n",
       "</table>\n",
       "</div>"
      ],
      "text/plain": [
       "                                                                        책제목  \\\n",
       "isbn                                                                          \n",
       "8931531729 9788931531725  C언어를 이용한 80C196KC와 MicroMouse (Windows XP에서 Ta...   \n",
       "8931531729 9788931531725                     C 언어를 이용한 80C196KC와 MicroMouse   \n",
       "8935302732 9788935302734                                             자바스크립트   \n",
       "8935302732 9788935302734                                            자바 스크립트   \n",
       "8940690214 9788940690215                               PHP4 CLASS 실무완성 V1.0   \n",
       "8940690214 9788940690215                                PHP 4 CLASS실무완성V1.0   \n",
       "8972806048 9788972806042                              엔터프라이즈 자바빈즈 (C0NTACT)   \n",
       "8972806048 9788972806042           CONTACT ENTERPRISE JAVABEANS(엔터프라이즈자바빈즈)   \n",
       "8973542729 9788973542727                HTML/DHTML 자바스크립트 스타일시트 ANSWER BOOK   \n",
       "8973542729 9788973542727                   HTML/DHTML자바스크립트스타일시트ANSWER BOOK   \n",
       "\n",
       "                               가격           작가     출판사    할인된기격       출판일  \\\n",
       "isbn                                                                        \n",
       "8931531729 9788931531725  28000.0          송봉길     성안당  25200.0  20050406   \n",
       "8931531729 9788931531725  28000.0  송봉길|이태현|오희재     성안당      0.0  20050406   \n",
       "8935302732 9788935302734  16000.0          이종득     정익사      0.0  20000126   \n",
       "8935302732 9788935302734  16000.0          이종득     정익사  16000.0  20000115   \n",
       "8940690214 9788940690215  17000.0          김현철  크라운출판사      0.0  20010710   \n",
       "8940690214 9788940690215  17000.0          김현철  크라운출판사      0.0  20010615   \n",
       "8972806048 9788972806042  23000.0          김창호      대림      0.0  20010705   \n",
       "8972806048 9788972806042  23000.0          김창호      대림      0.0  20010704   \n",
       "8973542729 9788973542727  23000.0          김석주     가남사      0.0  20010130   \n",
       "8973542729 9788973542727  23000.0          김석주     가남사      0.0  20010122   \n",
       "\n",
       "                                                                         링크  \\\n",
       "isbn                                                                          \n",
       "8931531729 9788931531725  http://book.naver.com/bookdb/book_detail.php?b...   \n",
       "8931531729 9788931531725  http://book.naver.com/bookdb/book_detail.php?b...   \n",
       "8935302732 9788935302734  http://book.naver.com/bookdb/book_detail.php?b...   \n",
       "8935302732 9788935302734  http://book.naver.com/bookdb/book_detail.php?b...   \n",
       "8940690214 9788940690215  http://book.naver.com/bookdb/book_detail.php?b...   \n",
       "8940690214 9788940690215  http://book.naver.com/bookdb/book_detail.php?b...   \n",
       "8972806048 9788972806042  http://book.naver.com/bookdb/book_detail.php?b...   \n",
       "8972806048 9788972806042  http://book.naver.com/bookdb/book_detail.php?b...   \n",
       "8973542729 9788973542727  http://book.naver.com/bookdb/book_detail.php?b...   \n",
       "8973542729 9788973542727  http://book.naver.com/bookdb/book_detail.php?b...   \n",
       "\n",
       "                          중복 갯수 뉴프로그램언어  \n",
       "isbn                                     \n",
       "8931531729 9788931531725      1     C언어  \n",
       "8931531729 9788931531725      1     C언어  \n",
       "8935302732 9788935302734      8  자바스크립트  \n",
       "8935302732 9788935302734      2  자바스크립트  \n",
       "8940690214 9788940690215      1     PHP  \n",
       "8940690214 9788940690215      1     PHP  \n",
       "8972806048 9788972806042      1      자바  \n",
       "8972806048 9788972806042      1      자바  \n",
       "8973542729 9788973542727      2  자바스크립트  \n",
       "8973542729 9788973542727      2  자바스크립트  "
      ]
     },
     "execution_count": 58,
     "metadata": {},
     "output_type": "execute_result"
    }
   ],
   "source": [
    "clean_df.set_index(\"isbn\").loc[m[m[\"책제목\"] !=1].index].head(10)"
   ]
  },
  {
   "cell_type": "markdown",
   "id": "c548ecca",
   "metadata": {
    "id": "c548ecca"
   },
   "source": [
    "isbn 번호는 같은데 책 이름이 뛰어쓰기가 있거나 ( ) 괄호가 존재하거나 제목을 간출여서 나타낸 책들이 존해했다. 그렇기에 해당 데이터를 isbn 마다 한개의 데이터를 버리도록 한다."
   ]
  },
  {
   "cell_type": "code",
   "execution_count": 59,
   "id": "a8e99bbe",
   "metadata": {
    "id": "a8e99bbe",
    "outputId": "9e31ecb1-196f-4d47-8e5d-ebf396fc69ea"
   },
   "outputs": [
    {
     "data": {
      "text/html": [
       "<div>\n",
       "<style scoped>\n",
       "    .dataframe tbody tr th:only-of-type {\n",
       "        vertical-align: middle;\n",
       "    }\n",
       "\n",
       "    .dataframe tbody tr th {\n",
       "        vertical-align: top;\n",
       "    }\n",
       "\n",
       "    .dataframe thead th {\n",
       "        text-align: right;\n",
       "    }\n",
       "</style>\n",
       "<table border=\"1\" class=\"dataframe\">\n",
       "  <thead>\n",
       "    <tr style=\"text-align: right;\">\n",
       "      <th></th>\n",
       "      <th>isbn</th>\n",
       "      <th>책제목</th>\n",
       "      <th>가격</th>\n",
       "      <th>작가</th>\n",
       "      <th>출판사</th>\n",
       "      <th>할인된기격</th>\n",
       "      <th>출판일</th>\n",
       "      <th>링크</th>\n",
       "      <th>중복 갯수</th>\n",
       "      <th>뉴프로그램언어</th>\n",
       "    </tr>\n",
       "  </thead>\n",
       "  <tbody>\n",
       "    <tr>\n",
       "      <th>0</th>\n",
       "      <td>8931531729 9788931531725</td>\n",
       "      <td>C언어를 이용한 80C196KC와 MicroMouse (Windows XP에서 Ta...</td>\n",
       "      <td>28000.0</td>\n",
       "      <td>송봉길</td>\n",
       "      <td>성안당</td>\n",
       "      <td>25200.0</td>\n",
       "      <td>20050406</td>\n",
       "      <td>http://book.naver.com/bookdb/book_detail.php?b...</td>\n",
       "      <td>1</td>\n",
       "      <td>C언어</td>\n",
       "    </tr>\n",
       "    <tr>\n",
       "      <th>1</th>\n",
       "      <td>8931531729 9788931531725</td>\n",
       "      <td>C 언어를 이용한 80C196KC와 MicroMouse</td>\n",
       "      <td>28000.0</td>\n",
       "      <td>송봉길|이태현|오희재</td>\n",
       "      <td>성안당</td>\n",
       "      <td>0.0</td>\n",
       "      <td>20050406</td>\n",
       "      <td>http://book.naver.com/bookdb/book_detail.php?b...</td>\n",
       "      <td>1</td>\n",
       "      <td>C언어</td>\n",
       "    </tr>\n",
       "  </tbody>\n",
       "</table>\n",
       "</div>"
      ],
      "text/plain": [
       "                       isbn  \\\n",
       "0  8931531729 9788931531725   \n",
       "1  8931531729 9788931531725   \n",
       "\n",
       "                                                 책제목       가격           작가  \\\n",
       "0  C언어를 이용한 80C196KC와 MicroMouse (Windows XP에서 Ta...  28000.0          송봉길   \n",
       "1                     C 언어를 이용한 80C196KC와 MicroMouse  28000.0  송봉길|이태현|오희재   \n",
       "\n",
       "   출판사    할인된기격       출판일                                                 링크  \\\n",
       "0  성안당  25200.0  20050406  http://book.naver.com/bookdb/book_detail.php?b...   \n",
       "1  성안당      0.0  20050406  http://book.naver.com/bookdb/book_detail.php?b...   \n",
       "\n",
       "   중복 갯수 뉴프로그램언어  \n",
       "0      1     C언어  \n",
       "1      1     C언어  "
      ]
     },
     "execution_count": 59,
     "metadata": {},
     "output_type": "execute_result"
    }
   ],
   "source": [
    "last_clean_df = clean_df.set_index(\"isbn\").loc[m[m[\"책제목\"] !=1].index].reset_index()\n",
    "last_clean_df.head(2)"
   ]
  },
  {
   "cell_type": "code",
   "execution_count": 60,
   "id": "0892c7d8",
   "metadata": {
    "id": "0892c7d8"
   },
   "outputs": [],
   "source": [
    "last_clean_df[\"new\"] = 1\n",
    "last_clean_df[\"new\"] = last_clean_df[[\"isbn\",\"new\"]].groupby(\"isbn\").cumsum()"
   ]
  },
  {
   "cell_type": "markdown",
   "id": "09b76b3b",
   "metadata": {
    "id": "09b76b3b"
   },
   "source": [
    "isbn의 값 순서를 new 라는 컬럼으로 나타냈다. new 라는 컬럼이 1인 데이터만 추출해서 중복된 isbn 값을 제거한다."
   ]
  },
  {
   "cell_type": "code",
   "execution_count": 61,
   "id": "6615f898",
   "metadata": {
    "id": "6615f898"
   },
   "outputs": [],
   "source": [
    "last_clean_df = last_clean_df[last_clean_df[\"new\"]==1]"
   ]
  },
  {
   "cell_type": "code",
   "execution_count": 62,
   "id": "f6f699ef",
   "metadata": {
    "id": "f6f699ef"
   },
   "outputs": [],
   "source": [
    "real_clean_list = list(set(clean_df[\"isbn\"].unique())- set(last_clean_df[\"isbn\"].unique()))"
   ]
  },
  {
   "cell_type": "code",
   "execution_count": 63,
   "id": "57912909",
   "metadata": {
    "id": "57912909",
    "outputId": "01bc948b-ded2-4f65-81b1-7e762ce54688"
   },
   "outputs": [
    {
     "data": {
      "text/html": [
       "<div>\n",
       "<style scoped>\n",
       "    .dataframe tbody tr th:only-of-type {\n",
       "        vertical-align: middle;\n",
       "    }\n",
       "\n",
       "    .dataframe tbody tr th {\n",
       "        vertical-align: top;\n",
       "    }\n",
       "\n",
       "    .dataframe thead th {\n",
       "        text-align: right;\n",
       "    }\n",
       "</style>\n",
       "<table border=\"1\" class=\"dataframe\">\n",
       "  <thead>\n",
       "    <tr style=\"text-align: right;\">\n",
       "      <th></th>\n",
       "      <th>isbn</th>\n",
       "      <th>책제목</th>\n",
       "      <th>가격</th>\n",
       "      <th>작가</th>\n",
       "      <th>출판사</th>\n",
       "      <th>할인된기격</th>\n",
       "      <th>출판일</th>\n",
       "      <th>링크</th>\n",
       "      <th>중복 갯수</th>\n",
       "      <th>뉴프로그램언어</th>\n",
       "    </tr>\n",
       "  </thead>\n",
       "  <tbody>\n",
       "    <tr>\n",
       "      <th>0</th>\n",
       "      <td>1163031763 9791163031765</td>\n",
       "      <td>Do it! 프로그레시브 웹앱 만들기 (반응형 웹 개발부터 하이브리드 앱 배포까지 ...</td>\n",
       "      <td>32000.0</td>\n",
       "      <td>김응석</td>\n",
       "      <td>이지스퍼블리싱</td>\n",
       "      <td>28800.0</td>\n",
       "      <td>20200806</td>\n",
       "      <td>http://book.naver.com/bookdb/book_detail.php?b...</td>\n",
       "      <td>1</td>\n",
       "      <td>자바스크립트</td>\n",
       "    </tr>\n",
       "    <tr>\n",
       "      <th>1</th>\n",
       "      <td>1156643953 9791156643951</td>\n",
       "      <td>C 언어 for Beginner (쉽게 배워 제대로 만드는 C 프로그램)</td>\n",
       "      <td>23000.0</td>\n",
       "      <td>우재남</td>\n",
       "      <td>한빛아카데미</td>\n",
       "      <td>22500.0</td>\n",
       "      <td>20180630</td>\n",
       "      <td>http://book.naver.com/bookdb/book_detail.php?b...</td>\n",
       "      <td>1</td>\n",
       "      <td>C언어</td>\n",
       "    </tr>\n",
       "    <tr>\n",
       "      <th>2</th>\n",
       "      <td>893530543X 9788935305438</td>\n",
       "      <td>알고리즘과 파이썬</td>\n",
       "      <td>27000.0</td>\n",
       "      <td>채진석</td>\n",
       "      <td>정익사</td>\n",
       "      <td>27000.0</td>\n",
       "      <td>20190826</td>\n",
       "      <td>http://book.naver.com/bookdb/book_detail.php?b...</td>\n",
       "      <td>1</td>\n",
       "      <td>파이썬</td>\n",
       "    </tr>\n",
       "    <tr>\n",
       "      <th>3</th>\n",
       "      <td>1162243066 9791162243060</td>\n",
       "      <td>나의 첫 파이썬(2판) (전 세계가 선택한 프로젝트 기반 프로그래밍 입문서)</td>\n",
       "      <td>30000.0</td>\n",
       "      <td>에릭 마테스</td>\n",
       "      <td>한빛미디어</td>\n",
       "      <td>27000.0</td>\n",
       "      <td>20200701</td>\n",
       "      <td>http://book.naver.com/bookdb/book_detail.php?b...</td>\n",
       "      <td>1</td>\n",
       "      <td>파이썬</td>\n",
       "    </tr>\n",
       "    <tr>\n",
       "      <th>4</th>\n",
       "      <td>8968487383 9788968487385</td>\n",
       "      <td>Vert. X 애플리케이션 개발 (POD,자바 개발자를 위한)</td>\n",
       "      <td>16800.0</td>\n",
       "      <td>이연복</td>\n",
       "      <td>한빛미디어</td>\n",
       "      <td>0.0</td>\n",
       "      <td>20150408</td>\n",
       "      <td>http://book.naver.com/bookdb/book_detail.php?b...</td>\n",
       "      <td>1</td>\n",
       "      <td>자바</td>\n",
       "    </tr>\n",
       "    <tr>\n",
       "      <th>...</th>\n",
       "      <td>...</td>\n",
       "      <td>...</td>\n",
       "      <td>...</td>\n",
       "      <td>...</td>\n",
       "      <td>...</td>\n",
       "      <td>...</td>\n",
       "      <td>...</td>\n",
       "      <td>...</td>\n",
       "      <td>...</td>\n",
       "      <td>...</td>\n",
       "    </tr>\n",
       "    <tr>\n",
       "      <th>3681</th>\n",
       "      <td>8982413251 9788982413254</td>\n",
       "      <td>SCJP를 위한 알기쉽게 해설한 JAVA</td>\n",
       "      <td>19000.0</td>\n",
       "      <td>이용후</td>\n",
       "      <td>이한출판사</td>\n",
       "      <td>0.0</td>\n",
       "      <td>20030310</td>\n",
       "      <td>http://book.naver.com/bookdb/book_detail.php?b...</td>\n",
       "      <td>1</td>\n",
       "      <td>java</td>\n",
       "    </tr>\n",
       "    <tr>\n",
       "      <th>3682</th>\n",
       "      <td>8965400783 9788965400783</td>\n",
       "      <td>D3.js 입문 (웹을 매력적으로 만드는 그래프와 차트 만들기)</td>\n",
       "      <td>28000.0</td>\n",
       "      <td>후루하타 카즈히로</td>\n",
       "      <td>프리렉</td>\n",
       "      <td>0.0</td>\n",
       "      <td>20140917</td>\n",
       "      <td>http://book.naver.com/bookdb/book_detail.php?b...</td>\n",
       "      <td>1</td>\n",
       "      <td>자바스크립트</td>\n",
       "    </tr>\n",
       "    <tr>\n",
       "      <th>3683</th>\n",
       "      <td>8955027400 9788955027402</td>\n",
       "      <td>쉽게 배우는 파이썬 프로그래밍</td>\n",
       "      <td>16000.0</td>\n",
       "      <td>이상부</td>\n",
       "      <td>글로벌</td>\n",
       "      <td>14400.0</td>\n",
       "      <td>20170904</td>\n",
       "      <td>http://book.naver.com/bookdb/book_detail.php?b...</td>\n",
       "      <td>2</td>\n",
       "      <td>파이썬</td>\n",
       "    </tr>\n",
       "    <tr>\n",
       "      <th>3684</th>\n",
       "      <td>8980782829 9788980782826</td>\n",
       "      <td>C#으로 배우는 네트워크 프로그래밍</td>\n",
       "      <td>23000.0</td>\n",
       "      <td>조호묵|이정호</td>\n",
       "      <td>가메</td>\n",
       "      <td>20700.0</td>\n",
       "      <td>20160610</td>\n",
       "      <td>http://book.naver.com/bookdb/book_detail.php?b...</td>\n",
       "      <td>1</td>\n",
       "      <td>c#</td>\n",
       "    </tr>\n",
       "    <tr>\n",
       "      <th>3685</th>\n",
       "      <td>8979140843 9788979140842</td>\n",
       "      <td>엔터프라이즈 자바 빈즈</td>\n",
       "      <td>23000.0</td>\n",
       "      <td>Richard Monson-Haefel</td>\n",
       "      <td>한빛미디어</td>\n",
       "      <td>0.0</td>\n",
       "      <td>20000228</td>\n",
       "      <td>http://book.naver.com/bookdb/book_detail.php?b...</td>\n",
       "      <td>2</td>\n",
       "      <td>자바</td>\n",
       "    </tr>\n",
       "  </tbody>\n",
       "</table>\n",
       "<p>3686 rows × 10 columns</p>\n",
       "</div>"
      ],
      "text/plain": [
       "                          isbn  \\\n",
       "0     1163031763 9791163031765   \n",
       "1     1156643953 9791156643951   \n",
       "2     893530543X 9788935305438   \n",
       "3     1162243066 9791162243060   \n",
       "4     8968487383 9788968487385   \n",
       "...                        ...   \n",
       "3681  8982413251 9788982413254   \n",
       "3682  8965400783 9788965400783   \n",
       "3683  8955027400 9788955027402   \n",
       "3684  8980782829 9788980782826   \n",
       "3685  8979140843 9788979140842   \n",
       "\n",
       "                                                    책제목       가격  \\\n",
       "0     Do it! 프로그레시브 웹앱 만들기 (반응형 웹 개발부터 하이브리드 앱 배포까지 ...  32000.0   \n",
       "1              C 언어 for Beginner (쉽게 배워 제대로 만드는 C 프로그램)  23000.0   \n",
       "2                                             알고리즘과 파이썬  27000.0   \n",
       "3            나의 첫 파이썬(2판) (전 세계가 선택한 프로젝트 기반 프로그래밍 입문서)  30000.0   \n",
       "4                    Vert. X 애플리케이션 개발 (POD,자바 개발자를 위한)  16800.0   \n",
       "...                                                 ...      ...   \n",
       "3681                             SCJP를 위한 알기쉽게 해설한 JAVA  19000.0   \n",
       "3682                D3.js 입문 (웹을 매력적으로 만드는 그래프와 차트 만들기)  28000.0   \n",
       "3683                                   쉽게 배우는 파이썬 프로그래밍  16000.0   \n",
       "3684                                C#으로 배우는 네트워크 프로그래밍  23000.0   \n",
       "3685                                       엔터프라이즈 자바 빈즈  23000.0   \n",
       "\n",
       "                         작가      출판사    할인된기격       출판일  \\\n",
       "0                       김응석  이지스퍼블리싱  28800.0  20200806   \n",
       "1                       우재남   한빛아카데미  22500.0  20180630   \n",
       "2                       채진석      정익사  27000.0  20190826   \n",
       "3                    에릭 마테스    한빛미디어  27000.0  20200701   \n",
       "4                       이연복    한빛미디어      0.0  20150408   \n",
       "...                     ...      ...      ...       ...   \n",
       "3681                    이용후    이한출판사      0.0  20030310   \n",
       "3682              후루하타 카즈히로      프리렉      0.0  20140917   \n",
       "3683                    이상부      글로벌  14400.0  20170904   \n",
       "3684                조호묵|이정호       가메  20700.0  20160610   \n",
       "3685  Richard Monson-Haefel    한빛미디어      0.0  20000228   \n",
       "\n",
       "                                                     링크  중복 갯수 뉴프로그램언어  \n",
       "0     http://book.naver.com/bookdb/book_detail.php?b...      1  자바스크립트  \n",
       "1     http://book.naver.com/bookdb/book_detail.php?b...      1     C언어  \n",
       "2     http://book.naver.com/bookdb/book_detail.php?b...      1     파이썬  \n",
       "3     http://book.naver.com/bookdb/book_detail.php?b...      1     파이썬  \n",
       "4     http://book.naver.com/bookdb/book_detail.php?b...      1      자바  \n",
       "...                                                 ...    ...     ...  \n",
       "3681  http://book.naver.com/bookdb/book_detail.php?b...      1    java  \n",
       "3682  http://book.naver.com/bookdb/book_detail.php?b...      1  자바스크립트  \n",
       "3683  http://book.naver.com/bookdb/book_detail.php?b...      2     파이썬  \n",
       "3684  http://book.naver.com/bookdb/book_detail.php?b...      1      c#  \n",
       "3685  http://book.naver.com/bookdb/book_detail.php?b...      2      자바  \n",
       "\n",
       "[3686 rows x 10 columns]"
      ]
     },
     "execution_count": 63,
     "metadata": {},
     "output_type": "execute_result"
    }
   ],
   "source": [
    "clean_df"
   ]
  },
  {
   "cell_type": "code",
   "execution_count": 64,
   "id": "8a33e91c",
   "metadata": {
    "id": "8a33e91c"
   },
   "outputs": [],
   "source": [
    "clean_df1 = clean_df.set_index(\"isbn\").loc[real_clean_list].reset_index()"
   ]
  },
  {
   "cell_type": "code",
   "execution_count": 65,
   "id": "bdcecc3a",
   "metadata": {
    "id": "bdcecc3a",
    "outputId": "4299d613-48a1-40d8-a7ee-53115dff699c"
   },
   "outputs": [
    {
     "name": "stdout",
     "output_type": "stream",
     "text": [
      "완전 정제가 완료된 DataFrame shape :  (3673, 11)\n"
     ]
    },
    {
     "data": {
      "text/html": [
       "<div>\n",
       "<style scoped>\n",
       "    .dataframe tbody tr th:only-of-type {\n",
       "        vertical-align: middle;\n",
       "    }\n",
       "\n",
       "    .dataframe tbody tr th {\n",
       "        vertical-align: top;\n",
       "    }\n",
       "\n",
       "    .dataframe thead th {\n",
       "        text-align: right;\n",
       "    }\n",
       "</style>\n",
       "<table border=\"1\" class=\"dataframe\">\n",
       "  <thead>\n",
       "    <tr style=\"text-align: right;\">\n",
       "      <th></th>\n",
       "      <th>isbn</th>\n",
       "      <th>책제목</th>\n",
       "      <th>가격</th>\n",
       "      <th>작가</th>\n",
       "      <th>출판사</th>\n",
       "      <th>할인된기격</th>\n",
       "      <th>출판일</th>\n",
       "      <th>링크</th>\n",
       "      <th>중복 갯수</th>\n",
       "      <th>뉴프로그램언어</th>\n",
       "      <th>new</th>\n",
       "    </tr>\n",
       "  </thead>\n",
       "  <tbody>\n",
       "    <tr>\n",
       "      <th>0</th>\n",
       "      <td>1163031763 9791163031765</td>\n",
       "      <td>Do it! 프로그레시브 웹앱 만들기 (반응형 웹 개발부터 하이브리드 앱 배포까지 ...</td>\n",
       "      <td>32000.0</td>\n",
       "      <td>김응석</td>\n",
       "      <td>이지스퍼블리싱</td>\n",
       "      <td>28800.0</td>\n",
       "      <td>20200806</td>\n",
       "      <td>http://book.naver.com/bookdb/book_detail.php?b...</td>\n",
       "      <td>1</td>\n",
       "      <td>자바스크립트</td>\n",
       "      <td>NaN</td>\n",
       "    </tr>\n",
       "    <tr>\n",
       "      <th>1</th>\n",
       "      <td>1156643953 9791156643951</td>\n",
       "      <td>C 언어 for Beginner (쉽게 배워 제대로 만드는 C 프로그램)</td>\n",
       "      <td>23000.0</td>\n",
       "      <td>우재남</td>\n",
       "      <td>한빛아카데미</td>\n",
       "      <td>22500.0</td>\n",
       "      <td>20180630</td>\n",
       "      <td>http://book.naver.com/bookdb/book_detail.php?b...</td>\n",
       "      <td>1</td>\n",
       "      <td>C언어</td>\n",
       "      <td>NaN</td>\n",
       "    </tr>\n",
       "    <tr>\n",
       "      <th>2</th>\n",
       "      <td>893530543X 9788935305438</td>\n",
       "      <td>알고리즘과 파이썬</td>\n",
       "      <td>27000.0</td>\n",
       "      <td>채진석</td>\n",
       "      <td>정익사</td>\n",
       "      <td>27000.0</td>\n",
       "      <td>20190826</td>\n",
       "      <td>http://book.naver.com/bookdb/book_detail.php?b...</td>\n",
       "      <td>1</td>\n",
       "      <td>파이썬</td>\n",
       "      <td>NaN</td>\n",
       "    </tr>\n",
       "    <tr>\n",
       "      <th>3</th>\n",
       "      <td>1162243066 9791162243060</td>\n",
       "      <td>나의 첫 파이썬(2판) (전 세계가 선택한 프로젝트 기반 프로그래밍 입문서)</td>\n",
       "      <td>30000.0</td>\n",
       "      <td>에릭 마테스</td>\n",
       "      <td>한빛미디어</td>\n",
       "      <td>27000.0</td>\n",
       "      <td>20200701</td>\n",
       "      <td>http://book.naver.com/bookdb/book_detail.php?b...</td>\n",
       "      <td>1</td>\n",
       "      <td>파이썬</td>\n",
       "      <td>NaN</td>\n",
       "    </tr>\n",
       "    <tr>\n",
       "      <th>4</th>\n",
       "      <td>8968487383 9788968487385</td>\n",
       "      <td>Vert. X 애플리케이션 개발 (POD,자바 개발자를 위한)</td>\n",
       "      <td>16800.0</td>\n",
       "      <td>이연복</td>\n",
       "      <td>한빛미디어</td>\n",
       "      <td>0.0</td>\n",
       "      <td>20150408</td>\n",
       "      <td>http://book.naver.com/bookdb/book_detail.php?b...</td>\n",
       "      <td>1</td>\n",
       "      <td>자바</td>\n",
       "      <td>NaN</td>\n",
       "    </tr>\n",
       "  </tbody>\n",
       "</table>\n",
       "</div>"
      ],
      "text/plain": [
       "                       isbn  \\\n",
       "0  1163031763 9791163031765   \n",
       "1  1156643953 9791156643951   \n",
       "2  893530543X 9788935305438   \n",
       "3  1162243066 9791162243060   \n",
       "4  8968487383 9788968487385   \n",
       "\n",
       "                                                 책제목       가격      작가  \\\n",
       "0  Do it! 프로그레시브 웹앱 만들기 (반응형 웹 개발부터 하이브리드 앱 배포까지 ...  32000.0     김응석   \n",
       "1           C 언어 for Beginner (쉽게 배워 제대로 만드는 C 프로그램)  23000.0     우재남   \n",
       "2                                          알고리즘과 파이썬  27000.0     채진석   \n",
       "3         나의 첫 파이썬(2판) (전 세계가 선택한 프로젝트 기반 프로그래밍 입문서)  30000.0  에릭 마테스   \n",
       "4                 Vert. X 애플리케이션 개발 (POD,자바 개발자를 위한)  16800.0     이연복   \n",
       "\n",
       "       출판사    할인된기격       출판일  \\\n",
       "0  이지스퍼블리싱  28800.0  20200806   \n",
       "1   한빛아카데미  22500.0  20180630   \n",
       "2      정익사  27000.0  20190826   \n",
       "3    한빛미디어  27000.0  20200701   \n",
       "4    한빛미디어      0.0  20150408   \n",
       "\n",
       "                                                  링크  중복 갯수 뉴프로그램언어  new  \n",
       "0  http://book.naver.com/bookdb/book_detail.php?b...      1  자바스크립트  NaN  \n",
       "1  http://book.naver.com/bookdb/book_detail.php?b...      1     C언어  NaN  \n",
       "2  http://book.naver.com/bookdb/book_detail.php?b...      1     파이썬  NaN  \n",
       "3  http://book.naver.com/bookdb/book_detail.php?b...      1     파이썬  NaN  \n",
       "4  http://book.naver.com/bookdb/book_detail.php?b...      1      자바  NaN  "
      ]
     },
     "execution_count": 65,
     "metadata": {},
     "output_type": "execute_result"
    }
   ],
   "source": [
    "clean_df = pd.concat([clean_df1,last_clean_df],axis=0)\n",
    "print(\"완전 정제가 완료된 DataFrame shape : \",clean_df.shape)\n",
    "clean_df.head()"
   ]
  },
  {
   "cell_type": "markdown",
   "id": "5d132b08",
   "metadata": {
    "id": "5d132b08"
   },
   "source": [
    "* **검증**"
   ]
  },
  {
   "cell_type": "code",
   "execution_count": 66,
   "id": "780519cd",
   "metadata": {
    "id": "780519cd",
    "outputId": "3f5eab3f-6e00-4edd-8d58-3848c0f346c9"
   },
   "outputs": [
    {
     "name": "stdout",
     "output_type": "stream",
     "text": [
      "3차 정제된 DataFrame에서 isbn의 유닉크 값 갯수 조회 :  3673\n",
      "3차 정제된 DataFrame의 shape 수 :  3673\n"
     ]
    }
   ],
   "source": [
    "print(\"3차 정제된 DataFrame에서 isbn의 유닉크 값 갯수 조회 : \",len(clean_df[\"isbn\"].unique()))\n",
    "print(\"3차 정제된 DataFrame의 shape 수 : \",clean_df.shape[0])"
   ]
  },
  {
   "cell_type": "code",
   "execution_count": 67,
   "id": "b8591d09",
   "metadata": {
    "id": "b8591d09"
   },
   "outputs": [],
   "source": [
    "clean_df = clean_df[['책제목','isbn','출판사', '작가', '출판일', '가격','할인된기격', '링크', '중복 갯수',\n",
    "       '뉴프로그램언어', 'new']]\n",
    "clean_df.drop([\"중복 갯수\",\"new\"],axis=1,inplace=True)"
   ]
  },
  {
   "cell_type": "code",
   "execution_count": 68,
   "id": "a0562291",
   "metadata": {
    "id": "a0562291"
   },
   "outputs": [],
   "source": [
    "clean_df.columns = ['책제목', 'isbn', '출판사', '작가', '출판일', '가격', '할인된기격', '링크', '프로그램언어']"
   ]
  },
  {
   "cell_type": "code",
   "execution_count": 69,
   "id": "8095a851",
   "metadata": {
    "id": "8095a851",
    "outputId": "a6ace726-2b93-4e60-8421-f7b5cd74c9e2"
   },
   "outputs": [
    {
     "data": {
      "text/html": [
       "<div>\n",
       "<style scoped>\n",
       "    .dataframe tbody tr th:only-of-type {\n",
       "        vertical-align: middle;\n",
       "    }\n",
       "\n",
       "    .dataframe tbody tr th {\n",
       "        vertical-align: top;\n",
       "    }\n",
       "\n",
       "    .dataframe thead th {\n",
       "        text-align: right;\n",
       "    }\n",
       "</style>\n",
       "<table border=\"1\" class=\"dataframe\">\n",
       "  <thead>\n",
       "    <tr style=\"text-align: right;\">\n",
       "      <th></th>\n",
       "      <th>책제목</th>\n",
       "      <th>isbn</th>\n",
       "      <th>출판사</th>\n",
       "      <th>작가</th>\n",
       "      <th>출판일</th>\n",
       "      <th>가격</th>\n",
       "      <th>할인된기격</th>\n",
       "      <th>링크</th>\n",
       "      <th>프로그램언어</th>\n",
       "    </tr>\n",
       "  </thead>\n",
       "  <tbody>\n",
       "    <tr>\n",
       "      <th>0</th>\n",
       "      <td>Do it! 프로그레시브 웹앱 만들기 (반응형 웹 개발부터 하이브리드 앱 배포까지 ...</td>\n",
       "      <td>1163031763 9791163031765</td>\n",
       "      <td>이지스퍼블리싱</td>\n",
       "      <td>김응석</td>\n",
       "      <td>20200806</td>\n",
       "      <td>32000.0</td>\n",
       "      <td>28800.0</td>\n",
       "      <td>http://book.naver.com/bookdb/book_detail.php?b...</td>\n",
       "      <td>자바스크립트</td>\n",
       "    </tr>\n",
       "    <tr>\n",
       "      <th>1</th>\n",
       "      <td>C 언어 for Beginner (쉽게 배워 제대로 만드는 C 프로그램)</td>\n",
       "      <td>1156643953 9791156643951</td>\n",
       "      <td>한빛아카데미</td>\n",
       "      <td>우재남</td>\n",
       "      <td>20180630</td>\n",
       "      <td>23000.0</td>\n",
       "      <td>22500.0</td>\n",
       "      <td>http://book.naver.com/bookdb/book_detail.php?b...</td>\n",
       "      <td>C언어</td>\n",
       "    </tr>\n",
       "    <tr>\n",
       "      <th>2</th>\n",
       "      <td>알고리즘과 파이썬</td>\n",
       "      <td>893530543X 9788935305438</td>\n",
       "      <td>정익사</td>\n",
       "      <td>채진석</td>\n",
       "      <td>20190826</td>\n",
       "      <td>27000.0</td>\n",
       "      <td>27000.0</td>\n",
       "      <td>http://book.naver.com/bookdb/book_detail.php?b...</td>\n",
       "      <td>파이썬</td>\n",
       "    </tr>\n",
       "    <tr>\n",
       "      <th>3</th>\n",
       "      <td>나의 첫 파이썬(2판) (전 세계가 선택한 프로젝트 기반 프로그래밍 입문서)</td>\n",
       "      <td>1162243066 9791162243060</td>\n",
       "      <td>한빛미디어</td>\n",
       "      <td>에릭 마테스</td>\n",
       "      <td>20200701</td>\n",
       "      <td>30000.0</td>\n",
       "      <td>27000.0</td>\n",
       "      <td>http://book.naver.com/bookdb/book_detail.php?b...</td>\n",
       "      <td>파이썬</td>\n",
       "    </tr>\n",
       "    <tr>\n",
       "      <th>4</th>\n",
       "      <td>Vert. X 애플리케이션 개발 (POD,자바 개발자를 위한)</td>\n",
       "      <td>8968487383 9788968487385</td>\n",
       "      <td>한빛미디어</td>\n",
       "      <td>이연복</td>\n",
       "      <td>20150408</td>\n",
       "      <td>16800.0</td>\n",
       "      <td>0.0</td>\n",
       "      <td>http://book.naver.com/bookdb/book_detail.php?b...</td>\n",
       "      <td>자바</td>\n",
       "    </tr>\n",
       "  </tbody>\n",
       "</table>\n",
       "</div>"
      ],
      "text/plain": [
       "                                                 책제목  \\\n",
       "0  Do it! 프로그레시브 웹앱 만들기 (반응형 웹 개발부터 하이브리드 앱 배포까지 ...   \n",
       "1           C 언어 for Beginner (쉽게 배워 제대로 만드는 C 프로그램)   \n",
       "2                                          알고리즘과 파이썬   \n",
       "3         나의 첫 파이썬(2판) (전 세계가 선택한 프로젝트 기반 프로그래밍 입문서)   \n",
       "4                 Vert. X 애플리케이션 개발 (POD,자바 개발자를 위한)   \n",
       "\n",
       "                       isbn      출판사      작가       출판일       가격    할인된기격  \\\n",
       "0  1163031763 9791163031765  이지스퍼블리싱     김응석  20200806  32000.0  28800.0   \n",
       "1  1156643953 9791156643951   한빛아카데미     우재남  20180630  23000.0  22500.0   \n",
       "2  893530543X 9788935305438      정익사     채진석  20190826  27000.0  27000.0   \n",
       "3  1162243066 9791162243060    한빛미디어  에릭 마테스  20200701  30000.0  27000.0   \n",
       "4  8968487383 9788968487385    한빛미디어     이연복  20150408  16800.0      0.0   \n",
       "\n",
       "                                                  링크  프로그램언어  \n",
       "0  http://book.naver.com/bookdb/book_detail.php?b...  자바스크립트  \n",
       "1  http://book.naver.com/bookdb/book_detail.php?b...     C언어  \n",
       "2  http://book.naver.com/bookdb/book_detail.php?b...     파이썬  \n",
       "3  http://book.naver.com/bookdb/book_detail.php?b...     파이썬  \n",
       "4  http://book.naver.com/bookdb/book_detail.php?b...      자바  "
      ]
     },
     "execution_count": 69,
     "metadata": {},
     "output_type": "execute_result"
    }
   ],
   "source": [
    "clean_df.head(5)"
   ]
  },
  {
   "cell_type": "markdown",
   "id": "786b81f2",
   "metadata": {
    "id": "786b81f2"
   },
   "source": [
    "---\n",
    "# 문제 03\n",
    "문제2의 결과에서 각 언어별 출판물의 양으로 순위를 매겨주세요. 이때 적절히 시각화하여 그 양도\n",
    "확인해주세요."
   ]
  },
  {
   "cell_type": "markdown",
   "id": "J_G36Xr_VrJv",
   "metadata": {
    "id": "J_G36Xr_VrJv"
   },
   "source": [
    "## 데이터 분석"
   ]
  },
  {
   "cell_type": "code",
   "execution_count": 70,
   "id": "0b70363c",
   "metadata": {
    "id": "0b70363c"
   },
   "outputs": [],
   "source": [
    "clean_df.loc[clean_df[\"프로그램언어\"] == \"JavaScript\",\"프로그램언어\"] = \"자바스크립트\"\n",
    "\n",
    "clean_df.loc[clean_df[\"프로그램언어\"] == \"java\",\"프로그램언어\"] = \"자바\"\n",
    "clean_df.loc[clean_df[\"프로그램언어\"] == \"python\",\"프로그램언어\"] = \"파이썬\""
   ]
  },
  {
   "cell_type": "code",
   "execution_count": 71,
   "id": "3edc863b",
   "metadata": {
    "id": "3edc863b",
    "outputId": "de059169-7330-4311-b8df-b7496db82d34"
   },
   "outputs": [
    {
     "data": {
      "text/html": [
       "<div>\n",
       "<style scoped>\n",
       "    .dataframe tbody tr th:only-of-type {\n",
       "        vertical-align: middle;\n",
       "    }\n",
       "\n",
       "    .dataframe tbody tr th {\n",
       "        vertical-align: top;\n",
       "    }\n",
       "\n",
       "    .dataframe thead th {\n",
       "        text-align: right;\n",
       "    }\n",
       "</style>\n",
       "<table border=\"1\" class=\"dataframe\">\n",
       "  <thead>\n",
       "    <tr style=\"text-align: right;\">\n",
       "      <th></th>\n",
       "      <th>출판사</th>\n",
       "    </tr>\n",
       "    <tr>\n",
       "      <th>프로그램언어</th>\n",
       "      <th></th>\n",
       "    </tr>\n",
       "  </thead>\n",
       "  <tbody>\n",
       "    <tr>\n",
       "      <th>R언어</th>\n",
       "      <td>82</td>\n",
       "    </tr>\n",
       "    <tr>\n",
       "      <th>PHP</th>\n",
       "      <td>118</td>\n",
       "    </tr>\n",
       "    <tr>\n",
       "      <th>c#</th>\n",
       "      <td>176</td>\n",
       "    </tr>\n",
       "    <tr>\n",
       "      <th>Visual Basic</th>\n",
       "      <td>206</td>\n",
       "    </tr>\n",
       "    <tr>\n",
       "      <th>SQL</th>\n",
       "      <td>249</td>\n",
       "    </tr>\n",
       "    <tr>\n",
       "      <th>C언어</th>\n",
       "      <td>348</td>\n",
       "    </tr>\n",
       "    <tr>\n",
       "      <th>c++</th>\n",
       "      <td>390</td>\n",
       "    </tr>\n",
       "    <tr>\n",
       "      <th>자바</th>\n",
       "      <td>666</td>\n",
       "    </tr>\n",
       "    <tr>\n",
       "      <th>파이썬</th>\n",
       "      <td>684</td>\n",
       "    </tr>\n",
       "    <tr>\n",
       "      <th>자바스크립트</th>\n",
       "      <td>754</td>\n",
       "    </tr>\n",
       "  </tbody>\n",
       "</table>\n",
       "</div>"
      ],
      "text/plain": [
       "              출판사\n",
       "프로그램언어           \n",
       "R언어            82\n",
       "PHP           118\n",
       "c#            176\n",
       "Visual Basic  206\n",
       "SQL           249\n",
       "C언어           348\n",
       "c++           390\n",
       "자바            666\n",
       "파이썬           684\n",
       "자바스크립트        754"
      ]
     },
     "execution_count": 71,
     "metadata": {},
     "output_type": "execute_result"
    }
   ],
   "source": [
    "langage_group_df = clean_df[[\"프로그램언어\",\"출판사\"]].groupby(\"프로그램언어\").agg(\"count\").sort_values(by=\"출판사\")\n",
    "langage_group_df"
   ]
  },
  {
   "cell_type": "code",
   "execution_count": 72,
   "id": "372aea0e",
   "metadata": {
    "id": "372aea0e",
    "outputId": "e6531d80-977d-43d2-a2b1-245f817bbb1c"
   },
   "outputs": [
    {
     "data": {
      "image/png": "[encoded data removed]",
      "text/plain": [
       "<Figure size 792x432 with 1 Axes>"
      ]
     },
     "metadata": {
      "needs_background": "light"
     },
     "output_type": "display_data"
    }
   ],
   "source": [
    "plt.figure(figsize=(11,6))\n",
    "sns.barplot(data=langage_group_df,x=\"출판사\",y=langage_group_df.index,order=langage_group_df.index);\n",
    "plt.title(\"언어별 출판물된 책의 양\",fontsize=20)\n",
    "plt.xlabel(\"언어별 출판된 양\",fontsize=12)\n",
    "plt.ylabel(\"프로그램 언어\",fontsize=12)\n",
    "\n",
    "for i in range(10):\n",
    "    plt.text(langage_group_df.loc[langage_group_df.index[i]].values[0] + 8, i, f'{10-i}등', fontsize=15, color='green')\n",
    "    \n",
    "plt.tight_layout()\n",
    "plt.show()"
   ]
  },
  {
   "cell_type": "markdown",
   "id": "28621ef6",
   "metadata": {
    "id": "28621ef6"
   },
   "source": [
    "언어별 출판된 양은 자바 스크립트가 1위이고, 그 뒤에 파이썬, 자바, C++, C언어 순으로 출판된것을 알수 있다."
   ]
  },
  {
   "cell_type": "markdown",
   "id": "a26621ad",
   "metadata": {
    "id": "a26621ad"
   },
   "source": [
    "---\n",
    "# 문제 04\n",
    "수집된 정보를 기반으로 우리나라의 컴퓨터 언어 관련 출판사 순위를 확인해 주세요."
   ]
  },
  {
   "cell_type": "code",
   "execution_count": 73,
   "id": "4eeb8c9d",
   "metadata": {
    "id": "4eeb8c9d",
    "outputId": "ce88891f-3424-49ae-b883-0e8ea6a7756f"
   },
   "outputs": [
    {
     "data": {
      "text/html": [
       "<div>\n",
       "<style scoped>\n",
       "    .dataframe tbody tr th:only-of-type {\n",
       "        vertical-align: middle;\n",
       "    }\n",
       "\n",
       "    .dataframe tbody tr th {\n",
       "        vertical-align: top;\n",
       "    }\n",
       "\n",
       "    .dataframe thead th {\n",
       "        text-align: right;\n",
       "    }\n",
       "</style>\n",
       "<table border=\"1\" class=\"dataframe\">\n",
       "  <thead>\n",
       "    <tr style=\"text-align: right;\">\n",
       "      <th></th>\n",
       "      <th>프로그램언어</th>\n",
       "    </tr>\n",
       "    <tr>\n",
       "      <th>출판사</th>\n",
       "      <th></th>\n",
       "    </tr>\n",
       "  </thead>\n",
       "  <tbody>\n",
       "    <tr>\n",
       "      <th>북스홀릭</th>\n",
       "      <td>17</td>\n",
       "    </tr>\n",
       "    <tr>\n",
       "      <th>삼양출판사</th>\n",
       "      <td>21</td>\n",
       "    </tr>\n",
       "    <tr>\n",
       "      <th>삼양미디어</th>\n",
       "      <td>22</td>\n",
       "    </tr>\n",
       "    <tr>\n",
       "      <th>로드북</th>\n",
       "      <td>22</td>\n",
       "    </tr>\n",
       "    <tr>\n",
       "      <th>BOOKK(부크크)</th>\n",
       "      <td>23</td>\n",
       "    </tr>\n",
       "    <tr>\n",
       "      <th>피씨북</th>\n",
       "      <td>23</td>\n",
       "    </tr>\n",
       "    <tr>\n",
       "      <th>생능출판</th>\n",
       "      <td>24</td>\n",
       "    </tr>\n",
       "    <tr>\n",
       "      <th>지앤선</th>\n",
       "      <td>24</td>\n",
       "    </tr>\n",
       "    <tr>\n",
       "      <th>루비페이퍼</th>\n",
       "      <td>25</td>\n",
       "    </tr>\n",
       "    <tr>\n",
       "      <th>수경출판사</th>\n",
       "      <td>25</td>\n",
       "    </tr>\n",
       "    <tr>\n",
       "      <th>인터비젼</th>\n",
       "      <td>26</td>\n",
       "    </tr>\n",
       "    <tr>\n",
       "      <th>정일</th>\n",
       "      <td>26</td>\n",
       "    </tr>\n",
       "    <tr>\n",
       "      <th>디지털북스</th>\n",
       "      <td>27</td>\n",
       "    </tr>\n",
       "    <tr>\n",
       "      <th>퍼플</th>\n",
       "      <td>31</td>\n",
       "    </tr>\n",
       "    <tr>\n",
       "      <th>컴스페이스</th>\n",
       "      <td>32</td>\n",
       "    </tr>\n",
       "    <tr>\n",
       "      <th>가남사</th>\n",
       "      <td>32</td>\n",
       "    </tr>\n",
       "    <tr>\n",
       "      <th>크라운출판사</th>\n",
       "      <td>32</td>\n",
       "    </tr>\n",
       "    <tr>\n",
       "      <th>북스홀릭퍼블리싱</th>\n",
       "      <td>36</td>\n",
       "    </tr>\n",
       "    <tr>\n",
       "      <th>기한재</th>\n",
       "      <td>36</td>\n",
       "    </tr>\n",
       "    <tr>\n",
       "      <th>기전연구사</th>\n",
       "      <td>37</td>\n",
       "    </tr>\n",
       "    <tr>\n",
       "      <th>교학사</th>\n",
       "      <td>37</td>\n",
       "    </tr>\n",
       "    <tr>\n",
       "      <th>이지스퍼블리싱</th>\n",
       "      <td>38</td>\n",
       "    </tr>\n",
       "    <tr>\n",
       "      <th>삼각형</th>\n",
       "      <td>39</td>\n",
       "    </tr>\n",
       "    <tr>\n",
       "      <th>사이버출판사</th>\n",
       "      <td>41</td>\n",
       "    </tr>\n",
       "    <tr>\n",
       "      <th>사이텍미디어</th>\n",
       "      <td>47</td>\n",
       "    </tr>\n",
       "    <tr>\n",
       "      <th>이한출판사</th>\n",
       "      <td>49</td>\n",
       "    </tr>\n",
       "    <tr>\n",
       "      <th>정익사</th>\n",
       "      <td>50</td>\n",
       "    </tr>\n",
       "    <tr>\n",
       "      <th>인피니티북스</th>\n",
       "      <td>54</td>\n",
       "    </tr>\n",
       "    <tr>\n",
       "      <th>프리렉</th>\n",
       "      <td>55</td>\n",
       "    </tr>\n",
       "    <tr>\n",
       "      <th>가메</th>\n",
       "      <td>55</td>\n",
       "    </tr>\n",
       "    <tr>\n",
       "      <th>혜지원</th>\n",
       "      <td>56</td>\n",
       "    </tr>\n",
       "    <tr>\n",
       "      <th>한빛아카데미</th>\n",
       "      <td>56</td>\n",
       "    </tr>\n",
       "    <tr>\n",
       "      <th>21세기사</th>\n",
       "      <td>57</td>\n",
       "    </tr>\n",
       "    <tr>\n",
       "      <th>복두출판사</th>\n",
       "      <td>59</td>\n",
       "    </tr>\n",
       "    <tr>\n",
       "      <th>생능출판사</th>\n",
       "      <td>61</td>\n",
       "    </tr>\n",
       "    <tr>\n",
       "      <th>글로벌</th>\n",
       "      <td>76</td>\n",
       "    </tr>\n",
       "    <tr>\n",
       "      <th>인포북</th>\n",
       "      <td>77</td>\n",
       "    </tr>\n",
       "    <tr>\n",
       "      <th>OReilly(오라일리)</th>\n",
       "      <td>82</td>\n",
       "    </tr>\n",
       "    <tr>\n",
       "      <th>비제이퍼블릭</th>\n",
       "      <td>83</td>\n",
       "    </tr>\n",
       "    <tr>\n",
       "      <th>대림</th>\n",
       "      <td>89</td>\n",
       "    </tr>\n",
       "    <tr>\n",
       "      <th>인사이트</th>\n",
       "      <td>91</td>\n",
       "    </tr>\n",
       "    <tr>\n",
       "      <th>제이펍</th>\n",
       "      <td>97</td>\n",
       "    </tr>\n",
       "    <tr>\n",
       "      <th>홍릉과학출판사</th>\n",
       "      <td>97</td>\n",
       "    </tr>\n",
       "    <tr>\n",
       "      <th>성안당</th>\n",
       "      <td>110</td>\n",
       "    </tr>\n",
       "    <tr>\n",
       "      <th>길벗</th>\n",
       "      <td>137</td>\n",
       "    </tr>\n",
       "    <tr>\n",
       "      <th>위키북스</th>\n",
       "      <td>160</td>\n",
       "    </tr>\n",
       "    <tr>\n",
       "      <th>정보문화사</th>\n",
       "      <td>230</td>\n",
       "    </tr>\n",
       "    <tr>\n",
       "      <th>영진닷컴</th>\n",
       "      <td>247</td>\n",
       "    </tr>\n",
       "    <tr>\n",
       "      <th>한빛미디어</th>\n",
       "      <td>386</td>\n",
       "    </tr>\n",
       "    <tr>\n",
       "      <th>에이콘출판</th>\n",
       "      <td>416</td>\n",
       "    </tr>\n",
       "  </tbody>\n",
       "</table>\n",
       "</div>"
      ],
      "text/plain": [
       "               프로그램언어\n",
       "출판사                  \n",
       "북스홀릭               17\n",
       "삼양출판사              21\n",
       "삼양미디어              22\n",
       "로드북                22\n",
       "BOOKK(부크크)         23\n",
       "피씨북                23\n",
       "생능출판               24\n",
       "지앤선                24\n",
       "루비페이퍼              25\n",
       "수경출판사              25\n",
       "인터비젼               26\n",
       "정일                 26\n",
       "디지털북스              27\n",
       "퍼플                 31\n",
       "컴스페이스              32\n",
       "가남사                32\n",
       "크라운출판사             32\n",
       "북스홀릭퍼블리싱           36\n",
       "기한재                36\n",
       "기전연구사              37\n",
       "교학사                37\n",
       "이지스퍼블리싱            38\n",
       "삼각형                39\n",
       "사이버출판사             41\n",
       "사이텍미디어             47\n",
       "이한출판사              49\n",
       "정익사                50\n",
       "인피니티북스             54\n",
       "프리렉                55\n",
       "가메                 55\n",
       "혜지원                56\n",
       "한빛아카데미             56\n",
       "21세기사              57\n",
       "복두출판사              59\n",
       "생능출판사              61\n",
       "글로벌                76\n",
       "인포북                77\n",
       "OReilly(오라일리)      82\n",
       "비제이퍼블릭             83\n",
       "대림                 89\n",
       "인사이트               91\n",
       "제이펍                97\n",
       "홍릉과학출판사            97\n",
       "성안당               110\n",
       "길벗                137\n",
       "위키북스              160\n",
       "정보문화사             230\n",
       "영진닷컴              247\n",
       "한빛미디어             386\n",
       "에이콘출판             416"
      ]
     },
     "execution_count": 73,
     "metadata": {},
     "output_type": "execute_result"
    }
   ],
   "source": [
    "publish_group_df = clean_df[[\"프로그램언어\",\"출판사\"]].groupby(\"출판사\").agg(\"count\").sort_values(by=\"프로그램언어\")\n",
    "publish_group_df"
   ]
  },
  {
   "cell_type": "code",
   "execution_count": 74,
   "id": "acc76ace",
   "metadata": {
    "id": "acc76ace",
    "outputId": "61efb64e-9c87-4a41-a135-831e00796357"
   },
   "outputs": [
    {
     "data": {
      "image/png": "[encoded data removed]",
      "text/plain": [
       "<Figure size 792x1152 with 1 Axes>"
      ]
     },
     "metadata": {
      "needs_background": "light"
     },
     "output_type": "display_data"
    }
   ],
   "source": [
    "plt.figure(figsize=(11,16))\n",
    "sns.barplot(data=publish_group_df,x=\"프로그램언어\",y=publish_group_df.index,order=publish_group_df.index);\n",
    "plt.title(\"출판사별 컴퓨터 언어 관련 출판물된 양\",fontsize=20)\n",
    "plt.xlabel(\"출판사별 출판된 양\",fontsize=12)\n",
    "plt.ylabel(\"출판사\",fontsize=12)\n",
    "\n",
    "for i in range(50):\n",
    "    plt.text(publish_group_df.loc[publish_group_df.index[i]].values[0] + 6, i, f'{50-i}등', fontsize=15, color='green')\n",
    "    \n",
    "plt.tight_layout()\n",
    "plt.show()"
   ]
  },
  {
   "cell_type": "markdown",
   "id": "475de29c",
   "metadata": {
    "id": "475de29c"
   },
   "source": [
    "우리나라에서 컴퓨터 언어 관련 출판사 순위는 에이콘출판이 제일 많고, 다음은 한빛미디어 인것을 알수 있다.또한 해당 그래프로 특이한점으로는 우리나라에서 한빛 미디어와 에이콘 출판의 차이는 30권 차이가 나지만, 3등부터는 1등과 2등의 차이가 약 139 권 정도로 차이가 많이난다.\n"
   ]
  },
  {
   "cell_type": "code",
   "execution_count": 75,
   "id": "4cce1e81",
   "metadata": {
    "id": "4cce1e81",
    "outputId": "390b1ecb-0fe8-4166-f8da-89ab7e3bc3a3"
   },
   "outputs": [
    {
     "name": "stdout",
     "output_type": "stream",
     "text": [
      "에이콘 출판과 한빛미디어가 우리나라에서 컴퓨터 언어 관련 차지하는 비율 :  0.22\n"
     ]
    }
   ],
   "source": [
    "# 에이콘출판과 한빛미디어가 우리나라에서 컴퓨터 언어 관련 차지하는 비율\n",
    "print(\"에이콘 출판과 한빛미디어가 우리나라에서 컴퓨터 언어 관련 차지하는 비율 : \",round((416 + 386) / publish_group_df[\"프로그램언어\"].sum(),2))"
   ]
  },
  {
   "cell_type": "code",
   "execution_count": 76,
   "id": "04b75d21",
   "metadata": {
    "id": "04b75d21",
    "outputId": "a1a5f8b5-fe33-43aa-f2f2-079c6037bdb0"
   },
   "outputs": [
    {
     "data": {
      "text/html": [
       "<div>\n",
       "<style scoped>\n",
       "    .dataframe tbody tr th:only-of-type {\n",
       "        vertical-align: middle;\n",
       "    }\n",
       "\n",
       "    .dataframe tbody tr th {\n",
       "        vertical-align: top;\n",
       "    }\n",
       "\n",
       "    .dataframe thead th {\n",
       "        text-align: right;\n",
       "    }\n",
       "</style>\n",
       "<table border=\"1\" class=\"dataframe\">\n",
       "  <thead>\n",
       "    <tr style=\"text-align: right;\">\n",
       "      <th></th>\n",
       "      <th>프로그램언어</th>\n",
       "    </tr>\n",
       "    <tr>\n",
       "      <th>출판사</th>\n",
       "      <th></th>\n",
       "    </tr>\n",
       "  </thead>\n",
       "  <tbody>\n",
       "    <tr>\n",
       "      <th>북스홀릭</th>\n",
       "      <td>17</td>\n",
       "    </tr>\n",
       "    <tr>\n",
       "      <th>삼양출판사</th>\n",
       "      <td>21</td>\n",
       "    </tr>\n",
       "    <tr>\n",
       "      <th>삼양미디어</th>\n",
       "      <td>22</td>\n",
       "    </tr>\n",
       "    <tr>\n",
       "      <th>로드북</th>\n",
       "      <td>22</td>\n",
       "    </tr>\n",
       "    <tr>\n",
       "      <th>BOOKK(부크크)</th>\n",
       "      <td>23</td>\n",
       "    </tr>\n",
       "    <tr>\n",
       "      <th>피씨북</th>\n",
       "      <td>23</td>\n",
       "    </tr>\n",
       "    <tr>\n",
       "      <th>생능출판</th>\n",
       "      <td>24</td>\n",
       "    </tr>\n",
       "    <tr>\n",
       "      <th>지앤선</th>\n",
       "      <td>24</td>\n",
       "    </tr>\n",
       "    <tr>\n",
       "      <th>루비페이퍼</th>\n",
       "      <td>25</td>\n",
       "    </tr>\n",
       "    <tr>\n",
       "      <th>수경출판사</th>\n",
       "      <td>25</td>\n",
       "    </tr>\n",
       "    <tr>\n",
       "      <th>인터비젼</th>\n",
       "      <td>26</td>\n",
       "    </tr>\n",
       "    <tr>\n",
       "      <th>정일</th>\n",
       "      <td>26</td>\n",
       "    </tr>\n",
       "    <tr>\n",
       "      <th>디지털북스</th>\n",
       "      <td>27</td>\n",
       "    </tr>\n",
       "    <tr>\n",
       "      <th>퍼플</th>\n",
       "      <td>31</td>\n",
       "    </tr>\n",
       "    <tr>\n",
       "      <th>컴스페이스</th>\n",
       "      <td>32</td>\n",
       "    </tr>\n",
       "    <tr>\n",
       "      <th>가남사</th>\n",
       "      <td>32</td>\n",
       "    </tr>\n",
       "    <tr>\n",
       "      <th>크라운출판사</th>\n",
       "      <td>32</td>\n",
       "    </tr>\n",
       "    <tr>\n",
       "      <th>북스홀릭퍼블리싱</th>\n",
       "      <td>36</td>\n",
       "    </tr>\n",
       "    <tr>\n",
       "      <th>기한재</th>\n",
       "      <td>36</td>\n",
       "    </tr>\n",
       "    <tr>\n",
       "      <th>기전연구사</th>\n",
       "      <td>37</td>\n",
       "    </tr>\n",
       "    <tr>\n",
       "      <th>교학사</th>\n",
       "      <td>37</td>\n",
       "    </tr>\n",
       "    <tr>\n",
       "      <th>이지스퍼블리싱</th>\n",
       "      <td>38</td>\n",
       "    </tr>\n",
       "    <tr>\n",
       "      <th>삼각형</th>\n",
       "      <td>39</td>\n",
       "    </tr>\n",
       "    <tr>\n",
       "      <th>사이버출판사</th>\n",
       "      <td>41</td>\n",
       "    </tr>\n",
       "    <tr>\n",
       "      <th>사이텍미디어</th>\n",
       "      <td>47</td>\n",
       "    </tr>\n",
       "    <tr>\n",
       "      <th>이한출판사</th>\n",
       "      <td>49</td>\n",
       "    </tr>\n",
       "    <tr>\n",
       "      <th>정익사</th>\n",
       "      <td>50</td>\n",
       "    </tr>\n",
       "    <tr>\n",
       "      <th>인피니티북스</th>\n",
       "      <td>54</td>\n",
       "    </tr>\n",
       "    <tr>\n",
       "      <th>프리렉</th>\n",
       "      <td>55</td>\n",
       "    </tr>\n",
       "    <tr>\n",
       "      <th>가메</th>\n",
       "      <td>55</td>\n",
       "    </tr>\n",
       "    <tr>\n",
       "      <th>혜지원</th>\n",
       "      <td>56</td>\n",
       "    </tr>\n",
       "    <tr>\n",
       "      <th>한빛아카데미</th>\n",
       "      <td>56</td>\n",
       "    </tr>\n",
       "    <tr>\n",
       "      <th>21세기사</th>\n",
       "      <td>57</td>\n",
       "    </tr>\n",
       "    <tr>\n",
       "      <th>복두출판사</th>\n",
       "      <td>59</td>\n",
       "    </tr>\n",
       "    <tr>\n",
       "      <th>생능출판사</th>\n",
       "      <td>61</td>\n",
       "    </tr>\n",
       "    <tr>\n",
       "      <th>글로벌</th>\n",
       "      <td>76</td>\n",
       "    </tr>\n",
       "    <tr>\n",
       "      <th>인포북</th>\n",
       "      <td>77</td>\n",
       "    </tr>\n",
       "    <tr>\n",
       "      <th>OReilly(오라일리)</th>\n",
       "      <td>82</td>\n",
       "    </tr>\n",
       "    <tr>\n",
       "      <th>비제이퍼블릭</th>\n",
       "      <td>83</td>\n",
       "    </tr>\n",
       "    <tr>\n",
       "      <th>대림</th>\n",
       "      <td>89</td>\n",
       "    </tr>\n",
       "    <tr>\n",
       "      <th>인사이트</th>\n",
       "      <td>91</td>\n",
       "    </tr>\n",
       "    <tr>\n",
       "      <th>제이펍</th>\n",
       "      <td>97</td>\n",
       "    </tr>\n",
       "    <tr>\n",
       "      <th>홍릉과학출판사</th>\n",
       "      <td>97</td>\n",
       "    </tr>\n",
       "    <tr>\n",
       "      <th>성안당</th>\n",
       "      <td>110</td>\n",
       "    </tr>\n",
       "    <tr>\n",
       "      <th>길벗</th>\n",
       "      <td>137</td>\n",
       "    </tr>\n",
       "    <tr>\n",
       "      <th>위키북스</th>\n",
       "      <td>160</td>\n",
       "    </tr>\n",
       "    <tr>\n",
       "      <th>정보문화사</th>\n",
       "      <td>230</td>\n",
       "    </tr>\n",
       "    <tr>\n",
       "      <th>영진닷컴</th>\n",
       "      <td>247</td>\n",
       "    </tr>\n",
       "    <tr>\n",
       "      <th>한빛미디어</th>\n",
       "      <td>386</td>\n",
       "    </tr>\n",
       "    <tr>\n",
       "      <th>에이콘출판</th>\n",
       "      <td>416</td>\n",
       "    </tr>\n",
       "  </tbody>\n",
       "</table>\n",
       "</div>"
      ],
      "text/plain": [
       "               프로그램언어\n",
       "출판사                  \n",
       "북스홀릭               17\n",
       "삼양출판사              21\n",
       "삼양미디어              22\n",
       "로드북                22\n",
       "BOOKK(부크크)         23\n",
       "피씨북                23\n",
       "생능출판               24\n",
       "지앤선                24\n",
       "루비페이퍼              25\n",
       "수경출판사              25\n",
       "인터비젼               26\n",
       "정일                 26\n",
       "디지털북스              27\n",
       "퍼플                 31\n",
       "컴스페이스              32\n",
       "가남사                32\n",
       "크라운출판사             32\n",
       "북스홀릭퍼블리싱           36\n",
       "기한재                36\n",
       "기전연구사              37\n",
       "교학사                37\n",
       "이지스퍼블리싱            38\n",
       "삼각형                39\n",
       "사이버출판사             41\n",
       "사이텍미디어             47\n",
       "이한출판사              49\n",
       "정익사                50\n",
       "인피니티북스             54\n",
       "프리렉                55\n",
       "가메                 55\n",
       "혜지원                56\n",
       "한빛아카데미             56\n",
       "21세기사              57\n",
       "복두출판사              59\n",
       "생능출판사              61\n",
       "글로벌                76\n",
       "인포북                77\n",
       "OReilly(오라일리)      82\n",
       "비제이퍼블릭             83\n",
       "대림                 89\n",
       "인사이트               91\n",
       "제이펍                97\n",
       "홍릉과학출판사            97\n",
       "성안당               110\n",
       "길벗                137\n",
       "위키북스              160\n",
       "정보문화사             230\n",
       "영진닷컴              247\n",
       "한빛미디어             386\n",
       "에이콘출판             416"
      ]
     },
     "execution_count": 76,
     "metadata": {},
     "output_type": "execute_result"
    }
   ],
   "source": [
    "publish_group_df"
   ]
  },
  {
   "cell_type": "code",
   "execution_count": 77,
   "id": "e86a8cb7",
   "metadata": {
    "id": "e86a8cb7"
   },
   "outputs": [],
   "source": [
    "publish_group_df.loc[publish_group_df[\"프로그램언어\"] >=91,\"그룹\"] = \"컴퓨터 언어관련 Top 10인 출판사들\"\n",
    "publish_group_df.loc[publish_group_df[\"프로그램언어\"] <91,\"그룹\"] = \"컴퓨터 언어관련 Top 10이 아닌 출판사들\""
   ]
  },
  {
   "cell_type": "code",
   "execution_count": 78,
   "id": "cf93107f",
   "metadata": {
    "id": "cf93107f",
    "outputId": "bb30b426-2820-47a1-a6d1-a20a513e3e0d"
   },
   "outputs": [
    {
     "data": {
      "text/html": [
       "<div>\n",
       "<style scoped>\n",
       "    .dataframe tbody tr th:only-of-type {\n",
       "        vertical-align: middle;\n",
       "    }\n",
       "\n",
       "    .dataframe tbody tr th {\n",
       "        vertical-align: top;\n",
       "    }\n",
       "\n",
       "    .dataframe thead th {\n",
       "        text-align: right;\n",
       "    }\n",
       "</style>\n",
       "<table border=\"1\" class=\"dataframe\">\n",
       "  <thead>\n",
       "    <tr style=\"text-align: right;\">\n",
       "      <th></th>\n",
       "      <th>프로그램언어</th>\n",
       "    </tr>\n",
       "    <tr>\n",
       "      <th>그룹</th>\n",
       "      <th></th>\n",
       "    </tr>\n",
       "  </thead>\n",
       "  <tbody>\n",
       "    <tr>\n",
       "      <th>컴퓨터 언어관련 Top 10이 아닌 출판사들</th>\n",
       "      <td>1702</td>\n",
       "    </tr>\n",
       "    <tr>\n",
       "      <th>컴퓨터 언어관련 Top 10인 출판사들</th>\n",
       "      <td>1971</td>\n",
       "    </tr>\n",
       "  </tbody>\n",
       "</table>\n",
       "</div>"
      ],
      "text/plain": [
       "                          프로그램언어\n",
       "그룹                              \n",
       "컴퓨터 언어관련 Top 10이 아닌 출판사들    1702\n",
       "컴퓨터 언어관련 Top 10인 출판사들       1971"
      ]
     },
     "execution_count": 78,
     "metadata": {},
     "output_type": "execute_result"
    }
   ],
   "source": [
    "publish_group_df1 = publish_group_df[[\"그룹\",\"프로그램언어\"]].groupby(\"그룹\").agg(\"sum\")\n",
    "publish_group_df1"
   ]
  },
  {
   "cell_type": "code",
   "execution_count": 79,
   "id": "5163bf96",
   "metadata": {
    "id": "5163bf96",
    "outputId": "b9970d77-f543-4e98-febd-01cb0165d34d"
   },
   "outputs": [
    {
     "data": {
      "text/plain": [
       "<matplotlib.legend.Legend at 0x2352d66ce50>"
      ]
     },
     "execution_count": 79,
     "metadata": {},
     "output_type": "execute_result"
    },
    {
     "data": {
      "image/png": "[encoded data removed]",
      "text/plain": [
       "<Figure size 576x576 with 1 Axes>"
      ]
     },
     "metadata": {},
     "output_type": "display_data"
    }
   ],
   "source": [
    "plt.figure(figsize=(8,8))\n",
    "plt.pie(publish_group_df1[\"프로그램언어\"] / publish_group_df1[\"프로그램언어\"].sum(),\n",
    "        autopct='%0.1f%%',\n",
    "       labels=publish_group_df1.index,\n",
    "         textprops={'fontsize': 20},\n",
    "         explode=(0.05, 0,) ,\n",
    "        startangle=30,\n",
    "        colors=[\"#84ebaf\",\"#1dcf6a\"]\n",
    "       );\n",
    "plt.legend(loc = \"center left\",bbox_to_anchor=(1, 0.5),fontsize=15)"
   ]
  },
  {
   "cell_type": "markdown",
   "id": "8e3a9b05",
   "metadata": {
    "id": "8e3a9b05"
   },
   "source": [
    "#### Top10 출판사들이 53.7퍼센트 정도 우리나라 컴퓨터 관련 언어 책을 출판하고 있다."
   ]
  },
  {
   "cell_type": "markdown",
   "id": "ef2f4500",
   "metadata": {
    "id": "ef2f4500"
   },
   "source": [
    "---\n",
    "# 문제 05\n",
    "\n",
    "수집된 정보에서 출판일 기준, 최근 2년간(20년, 21년) 데이터와 그 전 3년(17년, 18년, 19년) 데이터를\n",
    "비교해주세요.\n",
    "\n",
    "여기서 비교해야할 대상은 여러분들이 정하세요. 두 기간의 데이터를 관찰해서 특이한 사항들을 정리해주면\n",
    "됩니다. 이 과정에서 역시 적절한 시각화도 고민해 주세요.\n",
    "\n",
    "특히 어떤 특정 언어의 변화가 감지되면 강조해주세요."
   ]
  },
  {
   "cell_type": "markdown",
   "id": "1e3b113e",
   "metadata": {
    "id": "1e3b113e"
   },
   "source": [
    "우리가 알고자하는 데이터 정보가 년도에 대해 알고자하니, 출판일을 슬라이싱을 통해 년도 정보를 추출한다."
   ]
  },
  {
   "cell_type": "code",
   "execution_count": 80,
   "id": "c1aa8c91",
   "metadata": {
    "id": "c1aa8c91"
   },
   "outputs": [],
   "source": [
    "clean_df[\"year\"]= clean_df[\"출판일\"].str.slice(0,4)"
   ]
  },
  {
   "cell_type": "code",
   "execution_count": 81,
   "id": "e810a23b",
   "metadata": {
    "id": "e810a23b"
   },
   "outputs": [],
   "source": [
    "clean_df[\"year\"] = clean_df[\"year\"].astype(\"int\")"
   ]
  },
  {
   "cell_type": "code",
   "execution_count": 82,
   "id": "343a9a70",
   "metadata": {
    "id": "343a9a70"
   },
   "outputs": [],
   "source": [
    "clean_20 = clean_df[(clean_df[\"year\"]==2020) | (clean_df[\"year\"]==2021)]"
   ]
  },
  {
   "cell_type": "code",
   "execution_count": 83,
   "id": "e0daa04e",
   "metadata": {
    "id": "e0daa04e"
   },
   "outputs": [],
   "source": [
    "clean_17 = clean_df[(clean_df[\"year\"]==2017) | (clean_df[\"year\"]==2018) | (clean_df[\"year\"]==2019)]"
   ]
  },
  {
   "cell_type": "code",
   "execution_count": 84,
   "id": "67b0dcbd",
   "metadata": {
    "id": "67b0dcbd",
    "outputId": "3e067736-3c7f-4ee6-b3ed-9e8e72455ea7"
   },
   "outputs": [
    {
     "data": {
      "text/plain": [
       "((684, 10), (405, 10))"
      ]
     },
     "execution_count": 84,
     "metadata": {},
     "output_type": "execute_result"
    }
   ],
   "source": [
    "clean_17.shape,clean_20.shape"
   ]
  },
  {
   "cell_type": "markdown",
   "id": "f66fd907",
   "metadata": {
    "id": "f66fd907"
   },
   "source": [
    "* **17 ~ 19년도와 20 ~ 21년도의 언어별 출판 수**\n",
    "\n",
    "년도 데이터는 시간의 흐름을 가진 데이터이다. 그렇기에 17~19년 데이터에서 20~21년으로 변하면서 어떤 언어의 책들이 출판되었고 변화가 생겼는지 비교해보고자 한다."
   ]
  },
  {
   "cell_type": "code",
   "execution_count": 85,
   "id": "d2018b72",
   "metadata": {
    "id": "d2018b72",
    "outputId": "279339d2-0b11-4b26-f971-dec8314a266c"
   },
   "outputs": [
    {
     "data": {
      "text/html": [
       "<div>\n",
       "<style scoped>\n",
       "    .dataframe tbody tr th:only-of-type {\n",
       "        vertical-align: middle;\n",
       "    }\n",
       "\n",
       "    .dataframe tbody tr th {\n",
       "        vertical-align: top;\n",
       "    }\n",
       "\n",
       "    .dataframe thead th {\n",
       "        text-align: right;\n",
       "    }\n",
       "</style>\n",
       "<table border=\"1\" class=\"dataframe\">\n",
       "  <thead>\n",
       "    <tr style=\"text-align: right;\">\n",
       "      <th></th>\n",
       "      <th>책제목</th>\n",
       "      <th>isbn</th>\n",
       "      <th>출판사</th>\n",
       "      <th>작가</th>\n",
       "      <th>출판일</th>\n",
       "      <th>가격</th>\n",
       "      <th>할인된기격</th>\n",
       "      <th>링크</th>\n",
       "      <th>프로그램언어</th>\n",
       "      <th>year</th>\n",
       "    </tr>\n",
       "  </thead>\n",
       "  <tbody>\n",
       "    <tr>\n",
       "      <th>1</th>\n",
       "      <td>C 언어 for Beginner (쉽게 배워 제대로 만드는 C 프로그램)</td>\n",
       "      <td>1156643953 9791156643951</td>\n",
       "      <td>한빛아카데미</td>\n",
       "      <td>우재남</td>\n",
       "      <td>20180630</td>\n",
       "      <td>23000.0</td>\n",
       "      <td>22500.0</td>\n",
       "      <td>http://book.naver.com/bookdb/book_detail.php?b...</td>\n",
       "      <td>C언어</td>\n",
       "      <td>2018</td>\n",
       "    </tr>\n",
       "    <tr>\n",
       "      <th>2</th>\n",
       "      <td>알고리즘과 파이썬</td>\n",
       "      <td>893530543X 9788935305438</td>\n",
       "      <td>정익사</td>\n",
       "      <td>채진석</td>\n",
       "      <td>20190826</td>\n",
       "      <td>27000.0</td>\n",
       "      <td>27000.0</td>\n",
       "      <td>http://book.naver.com/bookdb/book_detail.php?b...</td>\n",
       "      <td>파이썬</td>\n",
       "      <td>2019</td>\n",
       "    </tr>\n",
       "  </tbody>\n",
       "</table>\n",
       "</div>"
      ],
      "text/plain": [
       "                                        책제목                      isbn     출판사  \\\n",
       "1  C 언어 for Beginner (쉽게 배워 제대로 만드는 C 프로그램)  1156643953 9791156643951  한빛아카데미   \n",
       "2                                 알고리즘과 파이썬  893530543X 9788935305438     정익사   \n",
       "\n",
       "    작가       출판일       가격    할인된기격  \\\n",
       "1  우재남  20180630  23000.0  22500.0   \n",
       "2  채진석  20190826  27000.0  27000.0   \n",
       "\n",
       "                                                  링크 프로그램언어  year  \n",
       "1  http://book.naver.com/bookdb/book_detail.php?b...    C언어  2018  \n",
       "2  http://book.naver.com/bookdb/book_detail.php?b...    파이썬  2019  "
      ]
     },
     "execution_count": 85,
     "metadata": {},
     "output_type": "execute_result"
    }
   ],
   "source": [
    "clean_17.head(2)"
   ]
  },
  {
   "cell_type": "code",
   "execution_count": 86,
   "id": "289e9377",
   "metadata": {
    "id": "289e9377",
    "outputId": "32153193-34fc-4a27-d66e-ba3c35eff532"
   },
   "outputs": [
    {
     "data": {
      "text/html": [
       "<div>\n",
       "<style scoped>\n",
       "    .dataframe tbody tr th:only-of-type {\n",
       "        vertical-align: middle;\n",
       "    }\n",
       "\n",
       "    .dataframe tbody tr th {\n",
       "        vertical-align: top;\n",
       "    }\n",
       "\n",
       "    .dataframe thead th {\n",
       "        text-align: right;\n",
       "    }\n",
       "</style>\n",
       "<table border=\"1\" class=\"dataframe\">\n",
       "  <thead>\n",
       "    <tr style=\"text-align: right;\">\n",
       "      <th></th>\n",
       "      <th>출판사</th>\n",
       "    </tr>\n",
       "    <tr>\n",
       "      <th>프로그램언어</th>\n",
       "      <th></th>\n",
       "    </tr>\n",
       "  </thead>\n",
       "  <tbody>\n",
       "    <tr>\n",
       "      <th>Visual Basic</th>\n",
       "      <td>3</td>\n",
       "    </tr>\n",
       "    <tr>\n",
       "      <th>PHP</th>\n",
       "      <td>11</td>\n",
       "    </tr>\n",
       "    <tr>\n",
       "      <th>SQL</th>\n",
       "      <td>21</td>\n",
       "    </tr>\n",
       "    <tr>\n",
       "      <th>c#</th>\n",
       "      <td>21</td>\n",
       "    </tr>\n",
       "    <tr>\n",
       "      <th>R언어</th>\n",
       "      <td>32</td>\n",
       "    </tr>\n",
       "    <tr>\n",
       "      <th>c++</th>\n",
       "      <td>44</td>\n",
       "    </tr>\n",
       "    <tr>\n",
       "      <th>C언어</th>\n",
       "      <td>51</td>\n",
       "    </tr>\n",
       "    <tr>\n",
       "      <th>자바</th>\n",
       "      <td>71</td>\n",
       "    </tr>\n",
       "    <tr>\n",
       "      <th>자바스크립트</th>\n",
       "      <td>135</td>\n",
       "    </tr>\n",
       "    <tr>\n",
       "      <th>파이썬</th>\n",
       "      <td>295</td>\n",
       "    </tr>\n",
       "  </tbody>\n",
       "</table>\n",
       "</div>"
      ],
      "text/plain": [
       "              출판사\n",
       "프로그램언어           \n",
       "Visual Basic    3\n",
       "PHP            11\n",
       "SQL            21\n",
       "c#             21\n",
       "R언어            32\n",
       "c++            44\n",
       "C언어            51\n",
       "자바             71\n",
       "자바스크립트        135\n",
       "파이썬           295"
      ]
     },
     "execution_count": 86,
     "metadata": {},
     "output_type": "execute_result"
    }
   ],
   "source": [
    "langage_group_df17 = clean_17[[\"프로그램언어\",\"출판사\"]].groupby(\"프로그램언어\").agg(\"count\").sort_values(by=\"출판사\")\n",
    "langage_group_df17"
   ]
  },
  {
   "cell_type": "code",
   "execution_count": 87,
   "id": "741b8a6c",
   "metadata": {
    "id": "741b8a6c",
    "outputId": "f1c82a2d-0589-4efc-9759-5b34e8cd6601"
   },
   "outputs": [
    {
     "data": {
      "text/html": [
       "<div>\n",
       "<style scoped>\n",
       "    .dataframe tbody tr th:only-of-type {\n",
       "        vertical-align: middle;\n",
       "    }\n",
       "\n",
       "    .dataframe tbody tr th {\n",
       "        vertical-align: top;\n",
       "    }\n",
       "\n",
       "    .dataframe thead th {\n",
       "        text-align: right;\n",
       "    }\n",
       "</style>\n",
       "<table border=\"1\" class=\"dataframe\">\n",
       "  <thead>\n",
       "    <tr style=\"text-align: right;\">\n",
       "      <th></th>\n",
       "      <th>출판사</th>\n",
       "    </tr>\n",
       "    <tr>\n",
       "      <th>프로그램언어</th>\n",
       "      <th></th>\n",
       "    </tr>\n",
       "  </thead>\n",
       "  <tbody>\n",
       "    <tr>\n",
       "      <th>Visual Basic</th>\n",
       "      <td>2</td>\n",
       "    </tr>\n",
       "    <tr>\n",
       "      <th>PHP</th>\n",
       "      <td>4</td>\n",
       "    </tr>\n",
       "    <tr>\n",
       "      <th>c#</th>\n",
       "      <td>10</td>\n",
       "    </tr>\n",
       "    <tr>\n",
       "      <th>c++</th>\n",
       "      <td>11</td>\n",
       "    </tr>\n",
       "    <tr>\n",
       "      <th>SQL</th>\n",
       "      <td>14</td>\n",
       "    </tr>\n",
       "    <tr>\n",
       "      <th>R언어</th>\n",
       "      <td>20</td>\n",
       "    </tr>\n",
       "    <tr>\n",
       "      <th>자바</th>\n",
       "      <td>23</td>\n",
       "    </tr>\n",
       "    <tr>\n",
       "      <th>C언어</th>\n",
       "      <td>33</td>\n",
       "    </tr>\n",
       "    <tr>\n",
       "      <th>자바스크립트</th>\n",
       "      <td>52</td>\n",
       "    </tr>\n",
       "    <tr>\n",
       "      <th>파이썬</th>\n",
       "      <td>236</td>\n",
       "    </tr>\n",
       "  </tbody>\n",
       "</table>\n",
       "</div>"
      ],
      "text/plain": [
       "              출판사\n",
       "프로그램언어           \n",
       "Visual Basic    2\n",
       "PHP             4\n",
       "c#             10\n",
       "c++            11\n",
       "SQL            14\n",
       "R언어            20\n",
       "자바             23\n",
       "C언어            33\n",
       "자바스크립트         52\n",
       "파이썬           236"
      ]
     },
     "execution_count": 87,
     "metadata": {},
     "output_type": "execute_result"
    }
   ],
   "source": [
    "langage_group_df20 = clean_20[[\"프로그램언어\",\"출판사\"]].groupby(\"프로그램언어\").agg(\"count\").sort_values(by=\"출판사\")\n",
    "langage_group_df20"
   ]
  },
  {
   "cell_type": "code",
   "execution_count": 88,
   "id": "0a9c0d4a",
   "metadata": {
    "id": "0a9c0d4a",
    "outputId": "6c7b0c5a-a435-432b-d278-0a7c1f37f09e"
   },
   "outputs": [
    {
     "data": {
      "image/png": "[encoded data removed]",
      "text/plain": [
       "<Figure size 792x432 with 1 Axes>"
      ]
     },
     "metadata": {
      "needs_background": "light"
     },
     "output_type": "display_data"
    }
   ],
   "source": [
    "plt.figure(figsize=(11,6))\n",
    "sns.barplot(data=langage_group_df17,x=\"출판사\",y=langage_group_df17.index,order=langage_group_df17.index);\n",
    "plt.title(\"17~19년도에 언어별 출판물된 책의 양\",fontsize=20)\n",
    "plt.xlabel(\"언어별 출판된 양\",fontsize=12)\n",
    "plt.ylabel(\"프로그램 언어\",fontsize=12)\n",
    "\n",
    "for i in range(10):\n",
    "    plt.text(langage_group_df17.loc[langage_group_df17.index[i]].values[0] + 3, i, f'{10-i}등', fontsize=15, color='green')\n",
    "    \n",
    "plt.tight_layout()\n",
    "plt.show()"
   ]
  },
  {
   "cell_type": "code",
   "execution_count": 89,
   "id": "780dcf76",
   "metadata": {
    "id": "780dcf76",
    "outputId": "bd9ed459-6c70-4a3e-82b1-a0cbc9f1542f"
   },
   "outputs": [
    {
     "data": {
      "image/png": "[encoded data removed]",
      "text/plain": [
       "<Figure size 792x432 with 1 Axes>"
      ]
     },
     "metadata": {
      "needs_background": "light"
     },
     "output_type": "display_data"
    }
   ],
   "source": [
    "plt.figure(figsize=(11,6))\n",
    "sns.barplot(data=langage_group_df20,x=\"출판사\",y=langage_group_df20.index,order=langage_group_df20.index);\n",
    "plt.title(\"20~21년도에 언어별 출판물된 책의 양\",fontsize=20)\n",
    "plt.xlabel(\"언어별 출판된 양\",fontsize=12)\n",
    "plt.ylabel(\"프로그램 언어\",fontsize=12)\n",
    "\n",
    "for i in range(10):\n",
    "    plt.text(langage_group_df20.loc[langage_group_df20.index[i]].values[0] + 3, i, f'{10-i}등', fontsize=15, color='green')\n",
    "    \n",
    "plt.tight_layout()\n",
    "plt.show()"
   ]
  },
  {
   "cell_type": "markdown",
   "id": "c85f7c00",
   "metadata": {
    "id": "c85f7c00"
   },
   "source": [
    "17 ~ 19년도와 20 ~ 21년도의 두 집단에서 언어별 출판된 양은 파이썬이 제일 많고, 20 ~ 21년이 되었을때 자바 관련 책 출판양이 17~19에 비해 줄어든것으로 보여진다. 하지만 이 수치를 정확하게 비교하기 위해 전체 출하량으로 나눠서 해당 년도에 컴퓨터 언어 관련 어떤 언어를 집중해서 출판했는지 파악하도록 하자."
   ]
  },
  {
   "cell_type": "code",
   "execution_count": 90,
   "id": "8621d9bf",
   "metadata": {
    "id": "8621d9bf"
   },
   "outputs": [],
   "source": [
    "langage_group_df17[\"출판사\"]  =  langage_group_df17[\"출판사\"] / langage_group_df17[\"출판사\"].sum()\n",
    "langage_group_df20[\"출판사\"]  =  langage_group_df20[\"출판사\"] / langage_group_df20[\"출판사\"].sum()"
   ]
  },
  {
   "cell_type": "code",
   "execution_count": 91,
   "id": "ea617c94",
   "metadata": {
    "id": "ea617c94"
   },
   "outputs": [],
   "source": [
    "langage_group_df20[\"집단\"] =\"20~21\"\n",
    "langage_group_df20.columns=[\"출판사\",\"집단\"]\n",
    "\n",
    "langage_group_df17[\"집단\"] =\"17~19\"\n",
    "langage_group_df17.columns=[\"출판사\",\"집단\"]"
   ]
  },
  {
   "cell_type": "code",
   "execution_count": 92,
   "id": "aa74f554",
   "metadata": {
    "id": "aa74f554",
    "outputId": "7fe32e78-3c41-49fd-92cb-e8d4f62a0823"
   },
   "outputs": [
    {
     "data": {
      "text/html": [
       "<div>\n",
       "<style scoped>\n",
       "    .dataframe tbody tr th:only-of-type {\n",
       "        vertical-align: middle;\n",
       "    }\n",
       "\n",
       "    .dataframe tbody tr th {\n",
       "        vertical-align: top;\n",
       "    }\n",
       "\n",
       "    .dataframe thead th {\n",
       "        text-align: right;\n",
       "    }\n",
       "</style>\n",
       "<table border=\"1\" class=\"dataframe\">\n",
       "  <thead>\n",
       "    <tr style=\"text-align: right;\">\n",
       "      <th></th>\n",
       "      <th>프로그램언어</th>\n",
       "      <th>출판사</th>\n",
       "      <th>집단</th>\n",
       "    </tr>\n",
       "  </thead>\n",
       "  <tbody>\n",
       "    <tr>\n",
       "      <th>0</th>\n",
       "      <td>Visual Basic</td>\n",
       "      <td>0.004386</td>\n",
       "      <td>17~19</td>\n",
       "    </tr>\n",
       "    <tr>\n",
       "      <th>1</th>\n",
       "      <td>PHP</td>\n",
       "      <td>0.016082</td>\n",
       "      <td>17~19</td>\n",
       "    </tr>\n",
       "    <tr>\n",
       "      <th>2</th>\n",
       "      <td>SQL</td>\n",
       "      <td>0.030702</td>\n",
       "      <td>17~19</td>\n",
       "    </tr>\n",
       "    <tr>\n",
       "      <th>3</th>\n",
       "      <td>c#</td>\n",
       "      <td>0.030702</td>\n",
       "      <td>17~19</td>\n",
       "    </tr>\n",
       "    <tr>\n",
       "      <th>4</th>\n",
       "      <td>R언어</td>\n",
       "      <td>0.046784</td>\n",
       "      <td>17~19</td>\n",
       "    </tr>\n",
       "  </tbody>\n",
       "</table>\n",
       "</div>"
      ],
      "text/plain": [
       "         프로그램언어       출판사     집단\n",
       "0  Visual Basic  0.004386  17~19\n",
       "1           PHP  0.016082  17~19\n",
       "2           SQL  0.030702  17~19\n",
       "3            c#  0.030702  17~19\n",
       "4           R언어  0.046784  17~19"
      ]
     },
     "execution_count": 92,
     "metadata": {},
     "output_type": "execute_result"
    }
   ],
   "source": [
    "total_group = pd.concat([langage_group_df17,langage_group_df20],axis=0).reset_index()\n",
    "total_group.head(5)"
   ]
  },
  {
   "cell_type": "code",
   "execution_count": 93,
   "id": "fa36112b",
   "metadata": {
    "id": "fa36112b",
    "outputId": "330cc4f5-5172-423c-db8e-c4858805b3d8"
   },
   "outputs": [
    {
     "data": {
      "text/plain": [
       "Text(0, 0.5, '프로그램 언어')"
      ]
     },
     "execution_count": 93,
     "metadata": {},
     "output_type": "execute_result"
    },
    {
     "data": {
      "image/png": "[encoded data removed]",
      "text/plain": [
       "<Figure size 720x360 with 1 Axes>"
      ]
     },
     "metadata": {
      "needs_background": "light"
     },
     "output_type": "display_data"
    }
   ],
   "source": [
    "plt.figure(figsize=(10,5))\n",
    "sns.set_palette([\"#84ebaf\",\"#1dcf6a\"])\n",
    "sns.barplot(data=total_group,y =\"프로그램언어\",x=\"출판사\",hue=\"집단\");\n",
    "plt.title(\"두 집단(년도별) 출판사에서 출판한 언어 비중 \")\n",
    "plt.xlabel(\"출판한 비중\")\n",
    "plt.ylabel(\"프로그램 언어\")"
   ]
  },
  {
   "cell_type": "markdown",
   "id": "d84fb9dc",
   "metadata": {
    "id": "d84fb9dc"
   },
   "source": [
    "확실히 20년부터 **`파이썬`** 이라는 언어 책을 출판을 많이한 것으로 보여지며, 이전 인기있던 자바 언어는 줄어든것으로 보여진다."
   ]
  },
  {
   "cell_type": "markdown",
   "id": "cd0775f3",
   "metadata": {
    "id": "cd0775f3"
   },
   "source": [
    "* 추가적으로 13(13~15)년을 비교해 17년과 20년도에 파이썬의 인기가 급증한것이 맞는지 13년도 데이터를 통해 비교해보자."
   ]
  },
  {
   "cell_type": "code",
   "execution_count": 94,
   "id": "64cd2bb4",
   "metadata": {
    "id": "64cd2bb4"
   },
   "outputs": [],
   "source": [
    "clean_13 = clean_df[(clean_df[\"year\"]==2013)|(clean_df[\"year\"]==2014) | (clean_df[\"year\"]==2015) ]"
   ]
  },
  {
   "cell_type": "code",
   "execution_count": 95,
   "id": "27ab3632",
   "metadata": {
    "id": "27ab3632",
    "outputId": "241fe7d6-1906-4db8-a1d9-51d4131ec660"
   },
   "outputs": [
    {
     "data": {
      "text/html": [
       "<div>\n",
       "<style scoped>\n",
       "    .dataframe tbody tr th:only-of-type {\n",
       "        vertical-align: middle;\n",
       "    }\n",
       "\n",
       "    .dataframe tbody tr th {\n",
       "        vertical-align: top;\n",
       "    }\n",
       "\n",
       "    .dataframe thead th {\n",
       "        text-align: right;\n",
       "    }\n",
       "</style>\n",
       "<table border=\"1\" class=\"dataframe\">\n",
       "  <thead>\n",
       "    <tr style=\"text-align: right;\">\n",
       "      <th></th>\n",
       "      <th>출판사</th>\n",
       "    </tr>\n",
       "    <tr>\n",
       "      <th>프로그램언어</th>\n",
       "      <th></th>\n",
       "    </tr>\n",
       "  </thead>\n",
       "  <tbody>\n",
       "    <tr>\n",
       "      <th>Visual Basic</th>\n",
       "      <td>3</td>\n",
       "    </tr>\n",
       "    <tr>\n",
       "      <th>PHP</th>\n",
       "      <td>11</td>\n",
       "    </tr>\n",
       "    <tr>\n",
       "      <th>R언어</th>\n",
       "      <td>11</td>\n",
       "    </tr>\n",
       "    <tr>\n",
       "      <th>c#</th>\n",
       "      <td>18</td>\n",
       "    </tr>\n",
       "    <tr>\n",
       "      <th>SQL</th>\n",
       "      <td>26</td>\n",
       "    </tr>\n",
       "    <tr>\n",
       "      <th>c++</th>\n",
       "      <td>39</td>\n",
       "    </tr>\n",
       "    <tr>\n",
       "      <th>C언어</th>\n",
       "      <td>40</td>\n",
       "    </tr>\n",
       "    <tr>\n",
       "      <th>파이썬</th>\n",
       "      <td>67</td>\n",
       "    </tr>\n",
       "    <tr>\n",
       "      <th>자바</th>\n",
       "      <td>83</td>\n",
       "    </tr>\n",
       "    <tr>\n",
       "      <th>자바스크립트</th>\n",
       "      <td>171</td>\n",
       "    </tr>\n",
       "  </tbody>\n",
       "</table>\n",
       "</div>"
      ],
      "text/plain": [
       "              출판사\n",
       "프로그램언어           \n",
       "Visual Basic    3\n",
       "PHP            11\n",
       "R언어            11\n",
       "c#             18\n",
       "SQL            26\n",
       "c++            39\n",
       "C언어            40\n",
       "파이썬            67\n",
       "자바             83\n",
       "자바스크립트        171"
      ]
     },
     "execution_count": 95,
     "metadata": {},
     "output_type": "execute_result"
    }
   ],
   "source": [
    "langage_group_df13 = clean_13[[\"프로그램언어\",\"출판사\"]].groupby(\"프로그램언어\").agg(\"count\").sort_values(by=\"출판사\")\n",
    "langage_group_df13"
   ]
  },
  {
   "cell_type": "code",
   "execution_count": 96,
   "id": "269ceaa5",
   "metadata": {
    "id": "269ceaa5",
    "outputId": "617e2304-d8df-4919-8ad4-d34fc0e78384"
   },
   "outputs": [
    {
     "data": {
      "image/png": "[encoded data removed]",
      "text/plain": [
       "<Figure size 792x432 with 1 Axes>"
      ]
     },
     "metadata": {
      "needs_background": "light"
     },
     "output_type": "display_data"
    }
   ],
   "source": [
    "plt.figure(figsize=(11,6))\n",
    "sns.barplot(data=langage_group_df13,x=\"출판사\",y=langage_group_df13.index,order=langage_group_df13.index);\n",
    "plt.title(\"13~15년도에 언어별 출판물된 책의 양\",fontsize=20)\n",
    "plt.xlabel(\"언어별 출판된 양\",fontsize=12)\n",
    "plt.ylabel(\"프로그램 언어\",fontsize=12)\n",
    "\n",
    "for i in range(10):\n",
    "    plt.text(langage_group_df13.loc[langage_group_df13.index[i]].values[0] + 3, i, f'{10-i}등', fontsize=15, color='green')\n",
    "    \n",
    "plt.tight_layout()\n",
    "plt.show()"
   ]
  },
  {
   "cell_type": "markdown",
   "id": "6599aabc",
   "metadata": {
    "id": "6599aabc"
   },
   "source": [
    "#### 이것을 통해 `13년도에서 15년`까지 집단의 데이터에서는 **자바와 자바스크립트**가 비중이 높게 출판이 되었다. 하지만 `17년 이후`부터 **파이썬**의 인지도가 오르면서 파이썬 관련 책들이 출판되는것으로 보여졌다."
   ]
  }
 ],
 "metadata": {
  "colab": {
   "collapsed_sections": [
    "8dd04263",
    "e8450cd5",
    "62298ec0",
    "786b81f2",
    "a26621ad",
    "ef2f4500"
   ],
   "name": "과제03(김종원) 최종본.ipynb",
   "provenance": []
  },
  "kernelspec": {
   "display_name": "Python 3 (ipykernel)",
   "language": "python",
   "name": "python3"
  },
  "language_info": {
   "codemirror_mode": {
    "name": "ipython",
    "version": 3
   },
   "file_extension": ".py",
   "mimetype": "text/x-python",
   "name": "python",
   "nbconvert_exporter": "python",
   "pygments_lexer": "ipython3",
   "version": "3.8.12"
  },
  "toc": {
   "base_numbering": 1,
   "nav_menu": {},
   "number_sections": true,
   "sideBar": true,
   "skip_h1_title": false,
   "title_cell": "Table of Contents",
   "title_sidebar": "Contents",
   "toc_cell": false,
   "toc_position": {},
   "toc_section_display": true,
   "toc_window_display": true
  }
 },
 "nbformat": 4,
 "nbformat_minor": 5
}
